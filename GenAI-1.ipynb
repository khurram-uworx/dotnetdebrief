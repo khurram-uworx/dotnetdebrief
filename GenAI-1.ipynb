{
 "cells": [
  {
   "cell_type": "markdown",
   "metadata": {},
   "source": [
    "# Generative AI: LLMs and SLMs"
   ]
  },
  {
   "cell_type": "markdown",
   "metadata": {},
   "source": [
    "## Beginning of something wonderful"
   ]
  },
  {
   "cell_type": "markdown",
   "metadata": {},
   "source": [
    "<img src=images/genai-clinic.jpg height=600><br>\n",
    "<img src=images/genai-ghas-1.jpg width=700><br>\n",
    "<img src=images/genai-ghas-2.jpg width=700>"
   ]
  },
  {
   "cell_type": "markdown",
   "metadata": {},
   "source": [
    "## The Science of Language Models"
   ]
  },
  {
   "cell_type": "markdown",
   "metadata": {},
   "source": [
    "- https://en.wikipedia.org/wiki/Attention_Is_All_You_Need\n",
    "- https://cohere.com/llmu/what-are-transformer-models\n",
    "- https://www.youtube.com/watch?v=zjkBMFhNj_g [1hr Talk] Intro to Large Language Models\n",
    "\n",
    "<img src=images/transformer-architecture.webp width=700>"
   ]
  },
  {
   "cell_type": "markdown",
   "metadata": {},
   "source": [
    "## Prompt Engineering"
   ]
  },
  {
   "cell_type": "markdown",
   "metadata": {},
   "source": [
    "- https://lifehacker.com/10-of-the-first-things-you-should-try-with-chatgpt-1850368802\n",
    "- https://chatgpt.com/share/74a73818-fd13-45a0-83b3-8673cebfd3c1\n",
    "- Custom Instructions\n",
    "    - When you are giving me C# code example; provide it without explanation, avoid using Regex and prefer functional style of code\n",
    "- i need your help to write a blog post for my Software Engineering blog. First understand my writing style using the example I will give you and save it in GPT_STYLE, then ask me the title and you will write an article using GPT_STYLE\n",
    "    - now critically analyze it\n",
    "    - i want you to increate the clarity; conclusion can be more open ended but forward looking\n",
    "- https://www.forbes.com/sites/jodiecook/2023/06/20/8-chatgpt-prompts-to-finish-hours-of-work-in-seconds\n",
    "    - __Explain__: Explain [topic] in simple terms. Explain to me as if I'm a beginner\n",
    "    - Change the writing style of the text below to [style or tone]\n",
    "    - __Quiz yourself__: Give me a short quiz that tests me on [what you want to learn]\n",
    "    - __Consult an expert__: I will give you a sample of my writing. I want you to criticize it as if you were [role]\n",
    "    - __Summarize__: Summarize this paragraph into bullet points that a beginner would understand\n",
    "- https://platform.openai.com/docs/guides/prompt-engineering/six-strategies-for-getting-better-results\n",
    "- https://learn.microsoft.com/en-us/azure/ai-services/openai/concepts/advanced-prompt-engineering\n",
    "- https://en.wikipedia.org/wiki/Prompt_engineering"
   ]
  },
  {
   "cell_type": "markdown",
   "metadata": {},
   "source": [
    "# Phi-3"
   ]
  },
  {
   "cell_type": "markdown",
   "metadata": {},
   "source": [
    "- Phi-1 / Dec 2023\n",
    "    - https://www.microsoft.com/en-us/research/publication/textbooks-are-all-you-need\n",
    "- Phi-2\n",
    "    - https://www.microsoft.com/en-us/research/blog/phi-2-the-surprising-power-of-small-language-models\n",
    "- Phi-3\n",
    "    - https://news.microsoft.com/source/features/ai/the-phi-3-small-language-models-with-big-potential\n",
    "    - https://azure.microsoft.com/en-us/blog/introducing-phi-3-redefining-whats-possible-with-slms\n",
    "    - https://github.com/microsoft/Phi-3CookBook\n",
    "        - https://github.com/microsoft/Phi-3CookBook/blob/main/md/02.QuickStart Hugging Face, Ollama, AI Toolkit, Open AI SDK etc"
   ]
  },
  {
   "cell_type": "markdown",
   "metadata": {},
   "source": [
    "__Resources__\n",
    "- https://github.com/microsoft/Phi-3CookBook\n",
    "    - https://github.com/microsoft/Phi-3CookBook/blob/main/md/07.Labs/Csharp/csharplabs.md\n",
    "- https://github.com/microsoft/Phi3-Chat-WinUI3-Sample\n",
    "- https://onnxruntime.ai/docs/genai/tutorials/phi3-v.html"
   ]
  },
  {
   "cell_type": "markdown",
   "metadata": {},
   "source": [
    "# AI Toolkit"
   ]
  },
  {
   "cell_type": "markdown",
   "metadata": {},
   "source": [
    "- https://github.com/microsoft/vscode-ai-toolkit\n",
    "- https://learn.microsoft.com/en-us/windows/ai/toolkit\n",
    "- https://github.com/microsoft/vscode-ai-toolkit/blob/main/README.md\n",
    "- C:\\Users\\khurram\\.aitk\\models"
   ]
  },
  {
   "cell_type": "markdown",
   "metadata": {},
   "source": [
    "## OpenAI"
   ]
  },
  {
   "cell_type": "markdown",
   "metadata": {},
   "source": [
    "- https://github.com/openai/openai-cookbook"
   ]
  },
  {
   "cell_type": "markdown",
   "metadata": {},
   "source": [
    "### Python"
   ]
  },
  {
   "cell_type": "markdown",
   "metadata": {},
   "source": [
    "- python -m venv .python\n",
    "- .python\\Scripts\\Activate.ps1 or bat\n",
    "- pip install openai\n",
    "- python -m pip install -r requirements.txt"
   ]
  },
  {
   "cell_type": "code",
   "execution_count": null,
   "metadata": {
    "dotnet_interactive": {
     "language": "csharp"
    },
    "polyglot_notebook": {
     "kernelName": "csharp"
    },
    "vscode": {
     "languageId": "polyglot-notebook"
    }
   },
   "outputs": [],
   "source": [
    "!pip install openai"
   ]
  },
  {
   "cell_type": "code",
   "execution_count": null,
   "metadata": {
    "dotnet_interactive": {
     "language": "csharp"
    },
    "polyglot_notebook": {
     "kernelName": "csharp"
    },
    "vscode": {
     "languageId": "polyglot-notebook"
    }
   },
   "outputs": [],
   "source": [
    "from openai import OpenAI\n",
    "\n",
    "client = OpenAI(\n",
    "    base_url=\"http://127.0.0.1:5272/v1/\",\n",
    "    api_key=\"x\" # not required for the SLM\n",
    ")\n",
    "\n",
    "chat_completion = client.chat.completions.create(\n",
    "    model=\"Phi-3-mini-128k-cpu-int4-rtn-block-32-onnx\",\n",
    "    messages=[\n",
    "        {\n",
    "            \"role\": \"user\",\n",
    "            \"content\": \"what's the area of Pakistan?\",\n",
    "        }\n",
    "    ]\n",
    ")\n",
    "\n",
    "print(chat_completion.choices[0].message.content)"
   ]
  },
  {
   "cell_type": "code",
   "execution_count": null,
   "metadata": {
    "dotnet_interactive": {
     "language": "csharp"
    },
    "polyglot_notebook": {
     "kernelName": "csharp"
    },
    "vscode": {
     "languageId": "polyglot-notebook"
    }
   },
   "outputs": [],
   "source": [
    "!pip install instructor"
   ]
  },
  {
   "cell_type": "code",
   "execution_count": null,
   "metadata": {
    "dotnet_interactive": {
     "language": "csharp"
    },
    "polyglot_notebook": {
     "kernelName": "csharp"
    },
    "vscode": {
     "languageId": "polyglot-notebook"
    }
   },
   "outputs": [],
   "source": [
    "import instructor\n",
    "from pydantic import BaseModel\n",
    "from openai import OpenAI\n",
    "\n",
    "# Define your desired output structure\n",
    "class UserInfo(BaseModel):\n",
    "    name: str\n",
    "    age: int\n",
    "\n",
    "client = OpenAI(\n",
    "    base_url=\"http://127.0.0.1:5272/v1/\",\n",
    "    api_key=\"x\" # not required for the SLM\n",
    ")\n",
    "\n",
    "# Patch the OpenAI client\n",
    "client = instructor.from_openai(client)\n",
    "\n",
    "# Extract structured data from natural language\n",
    "user_info = client.chat.completions.create(\n",
    "    # model=\"gpt-3.5-turbo\",\n",
    "    model=\"Phi-3-mini-128k-cpu-int4-rtn-block-32-onnx\",     # it will fail; because of function calling not supported\n",
    "    response_model=UserInfo,\n",
    "    messages=[{\"role\": \"user\", \"content\": \"John Doe is 30 years old.\"}]\n",
    ")\n",
    "\n",
    "print(user_info.name)\n",
    "print(user_info.age)"
   ]
  },
  {
   "cell_type": "markdown",
   "metadata": {},
   "source": [
    "### C#"
   ]
  },
  {
   "cell_type": "markdown",
   "metadata": {},
   "source": [
    "- https://www.nuget.org/packages/OpenAI/AbsoluteLatest\n",
    "    - https://github.com/openai/openai-dotnet\n",
    "- https://www.nuget.org/packages/Azure.AI.OpenAI\n",
    "    - https://github.com/Azure/azure-sdk-for-net"
   ]
  },
  {
   "cell_type": "code",
   "execution_count": null,
   "metadata": {
    "dotnet_interactive": {
     "language": "csharp"
    },
    "polyglot_notebook": {
     "kernelName": "csharp"
    },
    "vscode": {
     "languageId": "polyglot-notebook"
    }
   },
   "outputs": [],
   "source": [
    "#r \"nuget: Azure.AI.OpenAI, 2.0.0-beta.2\""
   ]
  },
  {
   "cell_type": "code",
   "execution_count": null,
   "metadata": {
    "dotnet_interactive": {
     "language": "csharp"
    },
    "polyglot_notebook": {
     "kernelName": "csharp"
    },
    "vscode": {
     "languageId": "polyglot-notebook"
    }
   },
   "outputs": [],
   "source": [
    "using OpenAI;\n",
    "using OpenAI.Chat;\n",
    "using System.ClientModel;\n",
    "\n",
    "var options = new OpenAIClientOptions\n",
    "{\n",
    "    Endpoint = new Uri(\"http://127.0.0.1:5272/v1\")\n",
    "};\n",
    "\n",
    "var openAIClient = new OpenAIClient(new ApiKeyCredential(\"x\"), options);\n",
    "var chatClient = openAIClient.GetChatClient(\"Phi-3-mini-128k-cpu-int4-rtn-block-32-onnx\");\n",
    "\n",
    "var chatCompletion = chatClient.CompleteChat(\n",
    "        [\n",
    "            new SystemChatMessage(\"You are a helpful assistant. Be brief and succinct.\"),\n",
    "            new UserChatMessage(\"What is the golden ratio?\")\n",
    "        ], new ChatCompletionOptions\n",
    "        {\n",
    "            Temperature = 0.7f, MaxTokens = 800,\n",
    "            //  NucleusSamplingFactor = 0.95f,\n",
    "            //FrequencyPenalty = 0, PresencePenalty = 0,\n",
    "            //StopSequences = { \"\\n\" },\n",
    "        }\n",
    "    ).Value;\n",
    "\n",
    "foreach (var content in chatCompletion.Content.Where(o => null != o && !string.IsNullOrEmpty(o.Text)))\n",
    "    Console.WriteLine(content.Text);"
   ]
  },
  {
   "cell_type": "markdown",
   "metadata": {},
   "source": [
    "__References__\n",
    "- https://learn.microsoft.com/en-us/windows/ai/toolkit/toolkit-getting-started?tabs=csharp"
   ]
  },
  {
   "cell_type": "markdown",
   "metadata": {},
   "source": [
    "## Resources"
   ]
  },
  {
   "cell_type": "markdown",
   "metadata": {},
   "source": [
    "- https://code.visualstudio.com/docs/datascience/jupyter-notebooks\n",
    "- https://github.com/microsoft/vscode-ai-toolkit/blob/main/README.md\n",
    "- https://github.com/microsoft/windows-ai-studio-templates/blob/ai-toolkit/configs/Phi-3-mini-4k-instruct/README.md\n",
    "- https://github.com/microsoft/Phi-3CookBook/blob/main/md/02.QuickStart/OpenAISDK_Quickstart.md\n",
    "- https://github.com/microsoft/Phi-3CookBook/blob/main/md/02.QuickStart/AITookit_QuickStart.md\n",
    "- https://github.com/openai/openai-cookbook/tree/main/examples/vector_databases"
   ]
  },
  {
   "cell_type": "markdown",
   "metadata": {},
   "source": [
    "# Ollama"
   ]
  },
  {
   "cell_type": "markdown",
   "metadata": {},
   "source": [
    "- https://ollama.com\n",
    "- https://github.com/ollama/ollama\n",
    "    - Modelfile; Mario example\n",
    "    - https://ollama.com/library/phi3\n",
    "        - ollama pull phi3:mini\n",
    "        - ollama run phi3:mini\n",
    "- C:\\Users\\khurram\\.ollama\\models\n",
    "- https://ollama.com/blog/openai-compatibility\n",
    "\n",
    "__Resources__\n",
    "- https://github.com/microsoft/Phi-3CookBook/blob/main/md/02.QuickStart/Ollama_QuickStart.md"
   ]
  },
  {
   "cell_type": "markdown",
   "metadata": {},
   "source": [
    "## Python"
   ]
  },
  {
   "cell_type": "code",
   "execution_count": null,
   "metadata": {
    "dotnet_interactive": {
     "language": "csharp"
    },
    "polyglot_notebook": {
     "kernelName": "csharp"
    },
    "vscode": {
     "languageId": "polyglot-notebook"
    }
   },
   "outputs": [],
   "source": [
    "from openai import OpenAI\n",
    "\n",
    "client = OpenAI(\n",
    "    base_url=\"http://127.0.0.1:11434/v1/\",\n",
    "    api_key=\"x\" # not required for the SLM\n",
    ")\n",
    "\n",
    "chat_completion = client.chat.completions.create(\n",
    "    messages=[\n",
    "        {\n",
    "            \"role\": \"user\",\n",
    "            \"content\": \"what is the golden ratio?\",\n",
    "        }\n",
    "    ],\n",
    "    model=\"phi3:mini\"\n",
    ")\n",
    "\n",
    "print(chat_completion.choices[0].message.content)"
   ]
  },
  {
   "cell_type": "markdown",
   "metadata": {},
   "source": [
    "__LangChain__\n",
    "- https://en.wikipedia.org/wiki/LangChain\n",
    "- https://www.langchain.com\n",
    "- https://github.com/langchain-ai/langchain\n",
    "- https://github.com/aaronjimv/open-source-web-chatbot-using-rag\n",
    "    - LangChain, Phi3, Ollama, ChromaDB"
   ]
  },
  {
   "cell_type": "markdown",
   "metadata": {},
   "source": [
    "__Resources__\n",
    "- https://learn.microsoft.com/en-us/dotnet/aspire/get-started/build-aspire-apps-with-python\n"
   ]
  },
  {
   "cell_type": "markdown",
   "metadata": {},
   "source": [
    "## C#"
   ]
  },
  {
   "cell_type": "markdown",
   "metadata": {},
   "source": [
    "### OpenAI"
   ]
  },
  {
   "cell_type": "markdown",
   "metadata": {},
   "source": [
    "- Console Project Demo / Chat Bots / OpenAI 👈 "
   ]
  },
  {
   "cell_type": "markdown",
   "metadata": {},
   "source": [
    "### DirectML"
   ]
  },
  {
   "cell_type": "markdown",
   "metadata": {},
   "source": [
    "__Inference Service/Engine__\n",
    "- DirectML\n",
    "    - https://github.com/microsoft/DirectML\n",
    "- https://github.com/microsoft/onnxruntime"
   ]
  },
  {
   "cell_type": "markdown",
   "metadata": {},
   "source": [
    "__Hugging Face__\n",
    "- https://huggingface.co/microsoft/Phi-3-mini-4k-instruct-onnx\n",
    "- pip install -U \"huggingface_hub[cli]\"\n",
    "    - https://huggingface.co/docs/huggingface_hub/en/guides/cli\n",
    "    - huggingface-cli download microsoft/Phi-3-mini-4k-instruct-onnx --include directml/* --local-dir .\n",
    "\n",
    "src\\ConsoleProjects\\ChatBots and in its Models we can download using using huggingface-cli\n",
    "- Console Project Demo / Chat Bots / ML 👈"
   ]
  },
  {
   "cell_type": "markdown",
   "metadata": {},
   "source": [
    "__References__\n",
    "- https://learn.microsoft.com/en-us/windows/ai/models/get-started-models-genai"
   ]
  }
 ],
 "metadata": {
  "kernelspec": {
   "display_name": ".NET (C#)",
   "language": "C#",
   "name": ".net-csharp"
  },
  "language_info": {
   "codemirror_mode": {
    "name": "ipython",
    "version": 3
   },
   "file_extension": ".py",
   "mimetype": "text/x-python",
   "name": "python",
   "nbconvert_exporter": "python",
   "pygments_lexer": "ipython3",
   "version": "3.12.2"
  },
  "polyglot_notebook": {
   "kernelInfo": {
    "defaultKernelName": "csharp",
    "items": [
     {
      "aliases": [],
      "name": "csharp"
     },
     {
      "aliases": [],
      "languageName": "python",
      "name": "pythonkernel"
     }
    ]
   }
  }
 },
 "nbformat": 4,
 "nbformat_minor": 2
}
