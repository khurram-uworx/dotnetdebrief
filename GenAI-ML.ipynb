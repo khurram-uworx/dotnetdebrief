{
 "cells": [
  {
   "cell_type": "markdown",
   "metadata": {},
   "source": [
    "# 💾 System.Buffers"
   ]
  },
  {
   "cell_type": "markdown",
   "metadata": {},
   "source": [
    "__What__\n",
    "- ArrayPool<T> → Manages reusable arrays to reduce GC overhead\n",
    "- MemoryPool<T> → Manages reusable memory blocks for high-performance scenarios\n",
    "- IMemoryOwner<T> & IBufferWriter<T> → Interfaces for efficient memory handling and writing\n",
    "\n",
    "__When__\n",
    "- When performance matters: Avoids frequent allocations and garbage collection\n",
    "- When working with large data chunks: Optimized for large buffers (e.g., image/video processing)\n",
    "- When handling networking or serialization: Ideal for socket programming, file I/O, and streaming"
   ]
  },
  {
   "cell_type": "code",
   "execution_count": null,
   "metadata": {
    "dotnet_interactive": {
     "language": "csharp"
    },
    "polyglot_notebook": {
     "kernelName": "csharp"
    },
    "vscode": {
     "languageId": "polyglot-notebook"
    }
   },
   "outputs": [],
   "source": [
    "using System.Buffers;\n",
    "using System.Net.Http;\n",
    "using System.Text.RegularExpressions;\n",
    "\n",
    "async Task<string> DownloadPageAsync(string url)\n",
    "{\n",
    "    using HttpClient client = new();\n",
    "    return await client.GetStringAsync(url);\n",
    "}\n",
    "\n",
    "string[] ExtractWords(string content) =>\n",
    "    Regex.Matches(content, @\"\\b[a-zA-Z]{3,}\\b\")  // Extract words with 3+ letters\n",
    "        .Select(m => m.Value.ToLower())          // Convert to lowercase\n",
    "        .Distinct()\n",
    "        .ToArray();\n",
    "\n",
    "bool IsPalindrome(string word)\n",
    "{\n",
    "    int length = word.Length;\n",
    "    char[] buffer = ArrayPool<char>.Shared.Rent(length);\n",
    "\n",
    "    try\n",
    "    {\n",
    "        word.CopyTo(0, buffer, 0, length);\n",
    "\n",
    "        for (int i = 0; i < length / 2; i++)\n",
    "        {\n",
    "            if (buffer[i] != buffer[length - 1 - i])\n",
    "                return false;\n",
    "        }\n",
    "        return true;\n",
    "    }\n",
    "    finally\n",
    "    {\n",
    "        ArrayPool<char>.Shared.Return(buffer);\n",
    "    }\n",
    "}\n",
    "\n",
    "string url = \"https://en.wikipedia.org/wiki/Palindrome\"; // Example Wikipedia page\n",
    "string content = await DownloadPageAsync(url);\n",
    "string[] words = ExtractWords(content);\n",
    "\n",
    "Console.WriteLine(\"Palindromic words found:\");\n",
    "foreach (var word in words)\n",
    "{\n",
    "    if (IsPalindrome(word))\n",
    "        Console.WriteLine(word);\n",
    "}"
   ]
  },
  {
   "cell_type": "markdown",
   "metadata": {},
   "source": [
    "__Why__\n",
    "- ✅ Reduces GC Pressure → Reusing the buffer avoids excessive allocations\n",
    "- ✅ Improves Performance → Efficient memory reuse speeds up file processing\n",
    "- ✅ Scalable for Large Files → Handles gigabytes of data without excessive memory overhead"
   ]
  },
  {
   "cell_type": "code",
   "execution_count": null,
   "metadata": {
    "polyglot_notebook": {
     "kernelName": "csharp"
    },
    "vscode": {
     "languageId": "polyglot-notebook"
    }
   },
   "outputs": [],
   "source": [
    "using System.Buffers;\n",
    "\n",
    "using(MemoryPool<byte> pool = MemoryPool<byte>.Shared)\n",
    "using(IMemoryOwner<byte> memoryOwner = pool.Rent(1024)) // Rent a 1 KB buffer\n",
    "{\n",
    "    Memory<byte> memory = memoryOwner.Memory;\n",
    "    Console.WriteLine($\"Allocated buffer size: {memory.Length}\");\n",
    "\n",
    "    Span<byte> span = memory.Span;\n",
    "    span[0] = 42; // Works fine\n",
    "\n",
    "    Console.WriteLine($\"First byte: {span[0]}\");\n",
    "} // Buffer is automatically returned to the pool when memoryOwner is disposed"
   ]
  },
  {
   "cell_type": "code",
   "execution_count": null,
   "metadata": {
    "polyglot_notebook": {
     "kernelName": "value"
    },
    "vscode": {
     "languageId": "polyglot-notebook"
    }
   },
   "outputs": [],
   "source": [
    "// Rust equivalent\n",
    "\n",
    "let mut buffer = vec![0u8; 1024]; // Heap-allocated buffer\n",
    "{\n",
    "    let slice: &mut [u8] = &mut buffer[..]; \n",
    "    slice[0] = 42; // Works fine\n",
    "    println!(\"First byte: {}\", slice[0]);\n",
    "} // Borrowing ends here, no memory leaks."
   ]
  },
  {
   "cell_type": "code",
   "execution_count": null,
   "metadata": {
    "polyglot_notebook": {
     "kernelName": "csharp"
    },
    "vscode": {
     "languageId": "polyglot-notebook"
    }
   },
   "outputs": [],
   "source": [
    "using System.Buffers;\n",
    "\n",
    "class Testing\n",
    "{\n",
    "    public static void Test()\n",
    "    {\n",
    "        byte[] data = Encoding.UTF8.GetBytes(\"123456789\");\n",
    "        ReadOnlyMemory<byte> memory = new(data);\n",
    "\n",
    "        ReadOnlySequence<byte> sequence = new(memory);\n",
    "        SequenceReader<byte> reader = new(sequence);\n",
    "\n",
    "        if (reader.TryRead(out byte value))\n",
    "            Console.WriteLine($\"First byte: {value}\");\n",
    "    }\n",
    "}\n",
    "\n",
    "Testing.Test()"
   ]
  },
  {
   "cell_type": "markdown",
   "metadata": {},
   "source": [
    "- __`MemoryPool<T>`__ Efficient memory management for large buffers\n",
    "    - When working with high-throughput systems (e.g., custom network protocols)\n",
    "    - Ideal for large memory blocks or high-performance pipelines (e.g., networking, serialization)\n",
    "- __`IBufferWriter<T>`__ High-performance buffered writing\n",
    "    - Useful for serialization, network responses, and streaming large data without excessive allocations\n",
    "    - When you need efficient writing (e.g., network buffers, logging, serialization)\n",
    "    - When performance is critical in data transformation pipelines\n",
    "- __`ReadOnlySequence<T>`__ Efficient reading over large, segmented data\n",
    "    - Helps process large data chunks efficiently without copying\n",
    "    - Used in high-performance networking (e.g., Kestrel, System.IO.Pipelines)\n",
    "    - Processing network packets without creating extra allocations\n",
    "    - High-performance log parsing or binary protocol handling\n",
    "- __`SequenceReader<T>`__ Stream-like processing of `ReadOnlySequence<T>`"
   ]
  },
  {
   "cell_type": "markdown",
   "metadata": {},
   "source": [
    "- https://learn.microsoft.com/en-us/dotnet/standard/io/buffers\n",
    "\n",
    "<img src=images/ro-sequence.png width=1000>"
   ]
  },
  {
   "cell_type": "markdown",
   "metadata": {},
   "source": [
    "# 🧠 Generative AI"
   ]
  },
  {
   "cell_type": "markdown",
   "metadata": {},
   "source": [
    "<img src=images/model-function-calling.jpg width=800>\n",
    "\n",
    "- https://github.com/xoredge/ai-tools-demo\n",
    "- Ollama\n",
    "    - https://ollama.com\n",
    "- Semantic Kernel\n",
    "    - https://learn.microsoft.com/en-us/semantic-kernel/overview\n",
    "    - https://github.com/microsoft/semantic-kernel\n",
    "- Function Calling\n",
    "    - https://platform.openai.com/docs/guides/function-calling\n",
    "    - https://ollama.com/blog/tool-support"
   ]
  },
  {
   "cell_type": "markdown",
   "metadata": {},
   "source": [
    "## 🎁 Examples"
   ]
  },
  {
   "cell_type": "markdown",
   "metadata": {},
   "source": [
    "- Multi Agent\n",
    "    - https://github.com/khurram-uworx/dotnetdebrief/blob/main/src/ChatBots/AgentTicketHandler.cs\n",
    "    - YAML\n",
    "    - We can define using Code\n",
    "        - We can have Parameters\n",
    "    - Chain of Thoughts\n",
    "    - Function Calling and why we need \"Vectorization\" (Plugin)\n",
    "- Notepad\n",
    "    - https://github.com/khurram-uworx/dotnetdebrief/tree/main/src/Notepad\n",
    "    - Try prompt engineering to simulate Notepad AI use cases\n",
    "    - Show the System Prompt"
   ]
  },
  {
   "cell_type": "markdown",
   "metadata": {},
   "source": [
    "## 📖 Grounding"
   ]
  },
  {
   "cell_type": "code",
   "execution_count": null,
   "metadata": {
    "dotnet_interactive": {
     "language": "value"
    },
    "polyglot_notebook": {
     "kernelName": "value"
    },
    "vscode": {
     "languageId": "polyglot-notebook"
    }
   },
   "outputs": [],
   "source": [
    "you are a sql expert who creates sql server queries to answer the user inputs\n",
    "\n",
    "use the following sql server database schema information to create queries\n",
    "- database has Users table that has id (int), username (string), password (string) and isactive(bool) fields\n",
    "- database has Transactions table that has id(int) foreign key to Users id field, date (datetime), amount (int) and remark (string) fields\n",
    "\n",
    "Important; just write sql query in answer; dont explain anything\n",
    "Very Important; dont forget the underlying database is sql server; use appropriate tsql syntax\n",
    "\n",
    "User input: Who are my active users that have made some transactions in the last month?"
   ]
  },
  {
   "cell_type": "code",
   "execution_count": null,
   "metadata": {
    "dotnet_interactive": {
     "language": "value"
    },
    "polyglot_notebook": {
     "kernelName": "value"
    },
    "vscode": {
     "languageId": "polyglot-notebook"
    }
   },
   "outputs": [],
   "source": [
    "User input: How many active users do we have?\n",
    "User input: Who are my active users that have made some transactions in the last month?\n",
    "User input: Who are my top 5 active users by transaction amount?"
   ]
  },
  {
   "cell_type": "code",
   "execution_count": null,
   "metadata": {
    "dotnet_interactive": {
     "language": "value"
    },
    "polyglot_notebook": {
     "kernelName": "value"
    },
    "vscode": {
     "languageId": "polyglot-notebook"
    }
   },
   "outputs": [],
   "source": [
    "The movie Inception (2010), directed by Christopher Nolan, is about a skilled thief named Dom Cobb who specializes in extracting secrets\n",
    "from people's subconscious during dreams. The film explores the concept of dreams within dreams and questions the nature of reality.\n",
    "\n",
    "Given this information, write a short review of Inception that highlights its themes and storytelling"
   ]
  },
  {
   "cell_type": "code",
   "execution_count": null,
   "metadata": {
    "dotnet_interactive": {
     "language": "value"
    },
    "polyglot_notebook": {
     "kernelName": "value"
    },
    "vscode": {
     "languageId": "polyglot-notebook"
    }
   },
   "outputs": [],
   "source": [
    "The Matrix (1999) is about a computer hacker, Neo, who discovers that reality is a simulated world controlled by machines.\n",
    "The Truman Show (1998) follows Truman Burbank, who slowly realizes his entire life has been a reality TV show. Both films explore the theme of questioning reality.\n",
    "\n",
    "Using this information, compare how The Matrix and The Truman Show depict the idea of escaping a false reality"
   ]
  },
  {
   "cell_type": "code",
   "execution_count": null,
   "metadata": {
    "dotnet_interactive": {
     "language": "value"
    },
    "polyglot_notebook": {
     "kernelName": "value"
    },
    "vscode": {
     "languageId": "polyglot-notebook"
    }
   },
   "outputs": [],
   "source": [
    "You are an AI that recommends family-friendly movies for a weekend watch. Here are five movies retrieved from a database based on relevance to the request\n",
    "\n",
    "Finding Nemo (2003) - A heartwarming animated film about a father fish searching for his lost son.\n",
    "Toy Story 3 (2010) - A story about friendship, change, and growing up, featuring beloved toy characters.\n",
    "Paddington 2 (2017) - A charming and humorous film about a bear in London with a strong message of kindness.\n",
    "The Incredibles (2004) - A superhero movie with action, humor, and family dynamics.\n",
    "How to Train Your Dragon (2010) - A touching story about friendship between a boy and a dragon.\n",
    "\n",
    "Based on this retrieved list, craft a response recommending the best option for a family movie night."
   ]
  },
  {
   "cell_type": "markdown",
   "metadata": {},
   "source": [
    "## 💡 Retreival Augmented Generation (RAG)"
   ]
  },
  {
   "cell_type": "markdown",
   "metadata": {},
   "source": [
    "<img src=images/rag-sequence-diagram.png width=700>"
   ]
  },
  {
   "cell_type": "markdown",
   "metadata": {},
   "source": [
    "__Resumes RAG__\n",
    "\n",
    "<img src=images/resumes-rag.png>\n",
    "\n",
    "- https://github.com/khurram-uworx/dotnetdebrief/blob/main/src/ChatBots/KernelMemoryPgRagSK.cs"
   ]
  },
  {
   "cell_type": "code",
   "execution_count": null,
   "metadata": {
    "dotnet_interactive": {
     "language": "value"
    },
    "polyglot_notebook": {
     "kernelName": "value"
    },
    "vscode": {
     "languageId": "polyglot-notebook"
    }
   },
   "outputs": [],
   "source": [
    "Using the education details and graduation year from the provided resumes, estimate each candidate’s years of experience.\n",
    "If a candidate graduated in 2020, assume they have been working since then. Given that the current year is 2025,\n",
    "this would mean they have approximately 5 years of experience.\n",
    "\n",
    "Identify and list candidates who have 5 or more years of experience based on this approach. If other work experience\n",
    "details are available, incorporate them to refine the estimation. Provide a ranked list of qualified candidates along\n",
    "with their estimated years of experience."
   ]
  },
  {
   "cell_type": "markdown",
   "metadata": {},
   "source": [
    "__Concepts__\n",
    "\n",
    "- Structured Outputs\n",
    "    - https://platform.openai.com/docs/guides/structured-outputs\n",
    "    - https://ollama.com/blog/structured-outputs\n",
    "    - https://devblogs.microsoft.com/semantic-kernel/using-json-schema-for-structured-output-in-net-for-openai-models\n",
    "- Embeddings\n",
    "    - https://openai.com/index/introducing-text-and-code-embeddings\n",
    "    - https://openai.com/index/new-embedding-models-and-api-updates"
   ]
  },
  {
   "cell_type": "markdown",
   "metadata": {},
   "source": [
    "- Importance of Vector Search / Semantic Search\n",
    "\n",
    "\n",
    "<img src=images/agentic-rag.png width=700>\n",
    "\n",
    "- https://vectorize.io/how-i-finally-got-agentic-rag-to-work-right"
   ]
  },
  {
   "cell_type": "markdown",
   "metadata": {},
   "source": [
    "__Resources__\n",
    "- https://help.openai.com/en/articles/8868588-retrieval-augmented-generation-rag-and-semantic-search-for-gpts\n",
    "- https://cloud.google.com/use-cases/retrieval-augmented-generation\n",
    "- https://blogs.nvidia.com/blog/what-is-retrieval-augmented-generation\n",
    "- https://en.wikipedia.org/wiki/Retrieval-augmented_generation"
   ]
  },
  {
   "cell_type": "markdown",
   "metadata": {},
   "source": [
    "## 🚀 Gen AI Applications"
   ]
  },
  {
   "cell_type": "markdown",
   "metadata": {},
   "source": [
    "<img src=images/genai-apps.png>\n",
    "\n",
    "- AlphaFold Protein Structure Database https://alphafold.ebi.ac.uk\n",
    "    - https://www.youtube.com/watch?v=P_fHJIYENdI The Most Useful Thing AI Has Ever Done"
   ]
  },
  {
   "cell_type": "markdown",
   "metadata": {},
   "source": [
    "## 📚 Resources"
   ]
  },
  {
   "cell_type": "markdown",
   "metadata": {},
   "source": [
    "- https://devblogs.microsoft.com/dotnet/announcing-generative-ai-for-beginners-dotnet\n",
    "    - https://github.com/microsoft/Generative-AI-for-beginners-dotnet\n",
    "    - https://www.youtube.com/playlist?list=PLdo4fOcmZ0oUkPkWy9EtmBvFAjfp4ZHnx\n",
    "\n",
    "<img src=images/gen-ai-youtube.png>"
   ]
  },
  {
   "cell_type": "markdown",
   "metadata": {},
   "source": [
    "# ⏭️ Where To Next?"
   ]
  },
  {
   "cell_type": "markdown",
   "metadata": {},
   "source": [
    "## 🧠 RAG: Where we are"
   ]
  },
  {
   "cell_type": "markdown",
   "metadata": {},
   "source": [
    "<img src=images/sell-me-this-pen.jpg width=400>\n",
    "<img src=images/ai-startup.webp width=400>"
   ]
  },
  {
   "cell_type": "markdown",
   "metadata": {},
   "source": [
    "<img src=images/chat-template.png>\n",
    "\n",
    "- https://devblogs.microsoft.com/dotnet/announcing-dotnet-ai-template-preview1"
   ]
  },
  {
   "cell_type": "markdown",
   "metadata": {},
   "source": [
    "## 💡 Where to next"
   ]
  },
  {
   "cell_type": "markdown",
   "metadata": {},
   "source": [
    "<img src=images/rag-overview.png width=1000>"
   ]
  },
  {
   "cell_type": "markdown",
   "metadata": {},
   "source": [
    "<img src=images/lego-pieces-basic.JPG>\n",
    "\n",
    "- Foundation Models\n",
    "- Grounding\n",
    "- Function Calling\n",
    "- RAG; Vector Database, Embedding Models"
   ]
  },
  {
   "cell_type": "markdown",
   "metadata": {},
   "source": [
    "<img src=images/sk-arch-1.png width=800><br>\n",
    "<img src=images/sk-arch-2.png width=800>"
   ]
  },
  {
   "cell_type": "markdown",
   "metadata": {},
   "source": [
    "- https://learn.microsoft.com/en-us/semantic-kernel/frameworks/agent\n",
    "- https://learn.microsoft.com/en-us/semantic-kernel/frameworks/process/process-framework ⚠️"
   ]
  },
  {
   "cell_type": "markdown",
   "metadata": {},
   "source": [
    "- https://learn.microsoft.com/en-us/dotnet/ai/tutorials/llm-eval\n",
    "- https://learn.microsoft.com/en-us/shows/mr-maedas-cozy-ai-kitchen 👈\n",
    "    - https://www.youtube.com/playlist?list=PLlrxD0HtieHjHoXHYSiSvpTp_sE5JhNEE\n",
    "\n",
    "- https://azure.github.io/ai-app-templates 👈"
   ]
  },
  {
   "cell_type": "markdown",
   "metadata": {},
   "source": [
    "<img src=images/langchain-arch.webp width=800>"
   ]
  },
  {
   "cell_type": "markdown",
   "metadata": {},
   "source": [
    "## 🎈 Software Engineering Spin"
   ]
  },
  {
   "cell_type": "markdown",
   "metadata": {},
   "source": [
    "### 🚀 Semantic Kernel Plugins"
   ]
  },
  {
   "cell_type": "markdown",
   "metadata": {},
   "source": [
    "- Semantic Kernel Search Plugin using Vector Database\n",
    "    - https://learn.microsoft.com/en-us/semantic-kernel/concepts/text-search/text-search-plugins\n",
    "    - https://learn.microsoft.com/en-us/semantic-kernel/concepts/text-search/text-search-vector-stores\n",
    "\n",
    "<img src=images/sk-search.png>"
   ]
  },
  {
   "cell_type": "markdown",
   "metadata": {},
   "source": [
    "### 🚀 Model Context Protocol"
   ]
  },
  {
   "cell_type": "markdown",
   "metadata": {},
   "source": [
    "- https://www.anthropic.com/news/model-context-protocol\n",
    "- https://github.com/modelcontextprotocol\n",
    "    - https://github.com/modelcontextprotocol/csharp-sdk\n",
    "    - https://github.com/modelcontextprotocol/servers"
   ]
  },
  {
   "cell_type": "markdown",
   "metadata": {},
   "source": [
    "__Semantic Kernel__\n",
    "- MCP Tools as Kernel Functions\n",
    "- https://github.com/microsoft/semantic-kernel/blob/main/dotnet/samples/Demos/ModelContextProtocolPlugin/Program.cs\n",
    "    - https://devblogs.microsoft.com/semantic-kernel/integrating-model-context-protocol-tools-with-semantic-kernel-a-step-by-step-guide\n",
    "    - https://devblogs.microsoft.com/semantic-kernel/building-a-model-context-protocol-server-with-semantic-kernel"
   ]
  },
  {
   "cell_type": "markdown",
   "metadata": {},
   "source": [
    "<img src=images/mcp.png>"
   ]
  },
  {
   "cell_type": "markdown",
   "metadata": {},
   "source": [
    "https://github.com/khurram-uworx/dotnetdebrief/blob/main/src/ChatBots/McpRepository.cs"
   ]
  },
  {
   "cell_type": "markdown",
   "metadata": {},
   "source": [
    "### 🚀 Multi Agents"
   ]
  },
  {
   "cell_type": "markdown",
   "metadata": {},
   "source": [
    "We explored \"AutoGen\" which is a Microsoft Research project for Agentic AI scenarios\n",
    "    - They have recently revamped it and v0.4 is out but the new version is Python for now and .NET version will arrive soon\n",
    "- Some elements of it are now in Semantic Kernel already; there are some nice higher order concepts; we can define Agents in YAML files, how multiple agents can participate in a single chat etc; unfortunately its still \"Preview\" and works best with OpenAI; i tried it with Ollama / Lllama 3.2 and was able to figure out few initial issues.\n",
    " \n",
    "- https://devblogs.microsoft.com/semantic-kernel/empowering-ai-agents-with-tools-via-openapi-a-hands-on-guide-with-microsoft-semantic-kernel-agents\n",
    "- https://devblogs.microsoft.com/semantic-kernel/guest-blog-building-multi-agent-systems-with-multi-models-in-semantic-kernel-part-1/\n",
    "- https://devblogs.microsoft.com/all-things-azure/agentic-philosophers\n",
    "    - https://github.com/microsoft/all-things-azure/tree/main/agentic-philosophers 👈\n",
    "    - https://github.com/khurram-uworx/dotnetdebrief/blob/main/src/ChatBots/AgentDebate.cs\n",
    "    - Multi-agent chat\n",
    "    - Chat with documents\n",
    "    - LLM Functions/Inference\n",
    "\n",
    "<img src=images/agentic-philosphers.png>"
   ]
  },
  {
   "cell_type": "markdown",
   "metadata": {},
   "source": []
  },
  {
   "cell_type": "markdown",
   "metadata": {},
   "source": [
    "- https://www.developerscantina.com/p/semantic-kernel-multiagents/\n",
    "    - https://github.com/qmatteoq/SemanticKernel-Demos/tree/main/SemanticKernel.Agents"
   ]
  },
  {
   "cell_type": "markdown",
   "metadata": {},
   "source": [
    "- https://devblogs.microsoft.com/semantic-kernel/guest-blog-creative-writing-assistant-a-multi-agent-app-sample-with-semantic-kernel-net-aspire\n",
    "    - https://github.com/Azure-Samples/contoso-creative-writer\n",
    "    - https://github.com/Azure-Samples/aspire-semantic-kernel-creative-writer\n",
    "- https://cookbook.openai.com/examples/orchestrating_agents\n",
    "    - https://github.com/openai/swarm"
   ]
  },
  {
   "cell_type": "markdown",
   "metadata": {},
   "source": [
    "__Additional Resources__\n",
    "- https://learn.microsoft.com/en-us/azure/ai-services/agents/overview\n",
    "- https://devblogs.microsoft.com/all-things-azure/how-to-develop-ai-apps-and-agents-in-azure-a-visual-guide"
   ]
  },
  {
   "cell_type": "markdown",
   "metadata": {},
   "source": [
    "### 🚀 Process Framework"
   ]
  },
  {
   "cell_type": "markdown",
   "metadata": {},
   "source": [
    "- https://learn.microsoft.com/en-us/semantic-kernel/frameworks/process/process-framework\n",
    "    - https://github.com/microsoft/semantic-kernel/tree/main/dotnet/samples/GettingStartedWithProcesses\n",
    "    - https://devblogs.microsoft.com/semantic-kernel/integrating-ai-into-business-processes-with-the-process-framework"
   ]
  },
  {
   "cell_type": "markdown",
   "metadata": {},
   "source": [
    "## 🎈 RAG - CAG"
   ]
  },
  {
   "cell_type": "markdown",
   "metadata": {},
   "source": [
    "<img src=images/rag-cag.webp>"
   ]
  },
  {
   "cell_type": "markdown",
   "metadata": {},
   "source": [
    "### 🚀 GraphRAG"
   ]
  },
  {
   "cell_type": "markdown",
   "metadata": {},
   "source": [
    "- Scattered information\n",
    "    - Relevant Chunks all over the information\n",
    "- Noise\n",
    "- Context Loss\n",
    "- Scalability"
   ]
  },
  {
   "cell_type": "markdown",
   "metadata": {},
   "source": [
    "- https://www.microsoft.com/en-us/research/blog/graphrag-unlocking-llm-discovery-on-narrative-private-data\n",
    "- https://microsoft.github.io/graphrag\n",
    "    - https://github.com/microsoft/graphrag\n",
    "\n",
    "__C#__\n",
    "- https://jasonhaley.com/2024/08/06/study-notes-graph-rag1-code-sample-notebook\n",
    "    - https://github.com/JasonHaley/semantic-kernel-getting-started/blob/main/notebooks/1_PropertyGraphRAG.ipynb\n",
    "    - https://github.com/JasonHaley/semantic-kernel-getting-started"
   ]
  },
  {
   "cell_type": "markdown",
   "metadata": {},
   "source": [
    "<img src=images/graph-rag-code-translation.png width=1000>"
   ]
  },
  {
   "cell_type": "markdown",
   "metadata": {},
   "source": [
    "### 🚀 Struct RAG"
   ]
  },
  {
   "cell_type": "markdown",
   "metadata": {},
   "source": [
    "- https://arxiv.org/pdf/2410.08815\n",
    "\n",
    "<img src=images/ragstruct-overview.png width=1000>\n",
    "\n",
    "- https://github.com/kbeaugrand/KernelMemory.StructRAG"
   ]
  },
  {
   "cell_type": "markdown",
   "metadata": {},
   "source": [
    "## 🚀 Beyond API Calls & Chatbots"
   ]
  },
  {
   "cell_type": "markdown",
   "metadata": {},
   "source": [
    "<img src=images/useful-ai-apps.png width=1000>\n",
    "\n",
    "https://www.youtube.com/watch?v=awztkr8n0AA\n",
    "- Keynote: The past, present, and future of AI for application developers - Steve Sanderson\n",
    "- __NDC Conferences__ 2025 March"
   ]
  },
  {
   "cell_type": "markdown",
   "metadata": {},
   "source": [
    "<img src=images/useful-ai-webapps.png width=1000>\n",
    "\n",
    "https://www.youtube.com/watch?v=TSNAvFJoP4M\n",
    "- How to add genuinely useful AI to your webapp (not just chatbots) - Steve Sanderson\n",
    "- __NDC Conferences__ 2024 July"
   ]
  },
  {
   "cell_type": "markdown",
   "metadata": {},
   "source": [
    "<img src=images/this-is-not-enough.jpg>"
   ]
  },
  {
   "cell_type": "markdown",
   "metadata": {},
   "source": [
    "# 🔢 ML"
   ]
  },
  {
   "cell_type": "markdown",
   "metadata": {},
   "source": [
    "<img src=images/ai-ml-dl.png width=500>"
   ]
  },
  {
   "cell_type": "markdown",
   "metadata": {},
   "source": [
    "Machine Learning (ML) is __a subset of artificial intelligence__ (AI) that focuses on the development of __algorithms__ that allow systems to __learn from data__, identify patterns, and make decisions with __minimal human intervention__\n",
    "- It involves creating __mathematical models__ that can improve their performance as they are exposed to more data over time, effectively adapting and __improving without being explicitly programmed__ for each task"
   ]
  },
  {
   "cell_type": "markdown",
   "metadata": {},
   "source": [
    "- Temperature Monitoring / Loadshedding\n",
    "- User's Behavior\n",
    "    - Fair Use\n",
    "    - Planning to Leave\n",
    "- Predictive maintenance system"
   ]
  },
  {
   "cell_type": "markdown",
   "metadata": {},
   "source": [
    "__Software Engineer's View__\n",
    "- Data Collection and Preprocessing: The system needs __clean, structured, and high-quality__ data. This involves gathering relevant data from sensors, databases, or other sources, followed by preprocessing steps like normalization, missing value imputation, and feature engineering\n",
    "- Model Selection and Training: Different types of __machine learning models__, such as regression, classification, or clustering algorithms, need to be selected based on the nature of the problem. The model is __trained__ using historical data, and its performance is __evaluated__ using metrics such as accuracy, precision, recall, or F1 score\n",
    "- Model Deployment: Once trained, the model must be __integrated into the software ecosystem for real-time use__. This could involve deploying the model to the cloud, edge devices, or even embedded systems, depending on the requirements\n",
    "- Monitoring and Maintenance: ML models can degrade over time as the data distribution changes, leading to a phenomenon called __model drift__. Regular monitoring and retraining of the model with new data are essential to __maintain the system’s effectiveness__\n",
    "- Scalability and Optimization: Machine learning systems often need to handle large volumes of data in real time, which requires __careful engineering to ensure scalability__. Optimizations such as model compression, parallelization, or distributed computing may be necessary"
   ]
  },
  {
   "cell_type": "markdown",
   "metadata": {},
   "source": [
    "<img src=images/ml-ai-roles.png>\n",
    "\n",
    "- https://mbmlbook.com \"Model-Based Machine Learning\" is a comprehensive online book that introduces readers to building machine learning models for real-world problems; Pragmatic Programmer style"
   ]
  },
  {
   "cell_type": "markdown",
   "metadata": {},
   "source": [
    "- Domain Expert\n",
    "- Security; data privacy\n",
    "- Ethical considerations\n",
    "- Bias in models, transparency of decision-making"
   ]
  },
  {
   "cell_type": "markdown",
   "metadata": {},
   "source": [
    "# 📚 Resources"
   ]
  },
  {
   "cell_type": "markdown",
   "metadata": {},
   "source": [
    "<img src=images/ml-models-everywhere.png>"
   ]
  },
  {
   "cell_type": "markdown",
   "metadata": {},
   "source": [
    "- https://huggingface.co/models\n",
    "- https://onnx.ai/models\n",
    "- https://ollama.com/library\n",
    "- https://ai.azure.com/explore/models\n",
    "- https://aws.amazon.com/marketplace/solutions/machine-learning/pre-trained-models\n",
    "- https://hub.docker.com/catalogs/gen-ai"
   ]
  }
 ],
 "metadata": {
  "kernelspec": {
   "display_name": ".NET (C#)",
   "language": "C#",
   "name": ".net-csharp"
  },
  "language_info": {
   "codemirror_mode": {
    "name": "ipython",
    "version": 3
   },
   "file_extension": ".py",
   "mimetype": "text/x-python",
   "name": "python",
   "nbconvert_exporter": "python",
   "pygments_lexer": "ipython3",
   "version": "3.12.2"
  },
  "polyglot_notebook": {
   "kernelInfo": {
    "defaultKernelName": "csharp",
    "items": [
     {
      "aliases": [],
      "name": "csharp"
     },
     {
      "aliases": [],
      "languageName": "python",
      "name": "pythonkernel"
     },
     {
      "aliases": [],
      "languageName": "R",
      "name": "Rkernel"
     }
    ]
   }
  }
 },
 "nbformat": 4,
 "nbformat_minor": 2
}
