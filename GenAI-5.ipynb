{
 "cells": [
  {
   "cell_type": "markdown",
   "metadata": {},
   "source": [
    "# 🔢 Ref Structures"
   ]
  },
  {
   "cell_type": "markdown",
   "metadata": {},
   "source": [
    "Primitive Types\n",
    "- https://learn.microsoft.com/en-us/dotnet/api/system.int32"
   ]
  },
  {
   "cell_type": "code",
   "execution_count": null,
   "metadata": {
    "dotnet_interactive": {
     "language": "csharp"
    },
    "polyglot_notebook": {
     "kernelName": "csharp"
    },
    "vscode": {
     "languageId": "polyglot-notebook"
    }
   },
   "outputs": [],
   "source": [
    "void addOne(ref int input) => input++;\n",
    "\n",
    "int i = 5;\n",
    "addOne(ref i);\n",
    "Console.WriteLine(i);"
   ]
  },
  {
   "cell_type": "code",
   "execution_count": null,
   "metadata": {
    "dotnet_interactive": {
     "language": "csharp"
    },
    "polyglot_notebook": {
     "kernelName": "csharp"
    },
    "vscode": {
     "languageId": "polyglot-notebook"
    }
   },
   "outputs": [],
   "source": [
    "struct LargeStruct\n",
    "{\n",
    "    public long A, B, C, D, E, F, G, H; // 64 bytes\n",
    "}\n",
    "\n",
    "void ProcessStruct(LargeStruct s)\n",
    "{\n",
    "    // A copy of 's' is created when passed to this method\n",
    "}\n",
    "\n",
    "LargeStruct myStruct = new LargeStruct();\n",
    "ProcessStruct(myStruct); // A copy of 'myStruct' is created\n",
    "    // data is copied bitwise\n",
    "\n",
    "// imagine being used in an iterative calculation\n",
    "// neural network training; we will be allocating and deallocating lot of memory "
   ]
  },
  {
   "cell_type": "markdown",
   "metadata": {},
   "source": [
    "- C# 7.2 / .NET 2 Core 2 / Nov 2017\n",
    "- __ref struct__ instances must be allocated on the stack\n",
    "- They cannot be boxed, stored in heap-allocated objects (e.g., arrays, class fields), or used in contexts that require heap allocation\n",
    "- ref struct cannot contain fields that are reference types (e.g., string, arrays, or other classes). This ensures they remain stack-allocated\n",
    "- Performance oriented data structure\n",
    "- They cannt outlive the scope in which they are declared"
   ]
  },
  {
   "cell_type": "code",
   "execution_count": null,
   "metadata": {
    "dotnet_interactive": {
     "language": "csharp"
    },
    "polyglot_notebook": {
     "kernelName": "csharp"
    },
    "vscode": {
     "languageId": "polyglot-notebook"
    }
   },
   "outputs": [],
   "source": [
    "ref struct Point\n",
    "{\n",
    "    public int X;\n",
    "    public int Y;\n",
    "\n",
    "    public Point(int x, int y) => (X, Y) = (x, y);\n",
    "    public int Sum() => X + Y;\n",
    "}"
   ]
  },
  {
   "cell_type": "code",
   "execution_count": null,
   "metadata": {
    "dotnet_interactive": {
     "language": "csharp"
    },
    "polyglot_notebook": {
     "kernelName": "csharp"
    },
    "vscode": {
     "languageId": "polyglot-notebook"
    }
   },
   "outputs": [],
   "source": [
    "readonly struct Point\n",
    "{\n",
    "    public readonly int X;          // we can only have readonly fields\n",
    "    public int Y { get; /*set;*/ }  // canot have a set accessor\n",
    "\n",
    "    public Point(int x, int y) => (X, Y) = (x, y);\n",
    "    public int Sum() => X + Y;\n",
    "}"
   ]
  },
  {
   "cell_type": "code",
   "execution_count": null,
   "metadata": {
    "dotnet_interactive": {
     "language": "csharp"
    },
    "polyglot_notebook": {
     "kernelName": "csharp"
    },
    "vscode": {
     "languageId": "polyglot-notebook"
    }
   },
   "outputs": [],
   "source": [
    "readonly ref struct ImmutablePoint\n",
    "{\n",
    "    public readonly int X;\n",
    "    public readonly int Y;\n",
    "\n",
    "    public ImmutablePoint(int x, int y) => (X, Y) = (x, y);\n",
    "    public int Sum() => X + Y;\n",
    "}"
   ]
  },
  {
   "cell_type": "markdown",
   "metadata": {},
   "source": [
    "__Contiguous Memory Allocation__\n",
    "- Efficient Data Access: Simpler / Array addressing\n",
    "- Memory Bandwidth Optimzation: Copy to/from GPU\n",
    "- Cache Utilization for CPUs and GPUs / TPUs ((Tensor Processing Unit) / NPUs (Neural Processing Unit)\n",
    "    - Direct Memory Access DMA is used to directly transfer between main memory and accelerator\n",
    "- Hardware Acceleration\n",
    "    - GPUs / TPUs / NPUs\n",
    "- Vectorization: SIMD / Tensor Processing\n",
    "    - Alignment Requirement: 32/64 even wider alignments for optimized data processing"
   ]
  },
  {
   "cell_type": "code",
   "execution_count": null,
   "metadata": {
    "dotnet_interactive": {
     "language": "csharp"
    },
    "polyglot_notebook": {
     "kernelName": "csharp"
    },
    "vscode": {
     "languageId": "polyglot-notebook"
    }
   },
   "outputs": [],
   "source": [
    "ref struct TensorSlice\n",
    "{\n",
    "    public Span<float> Data;\n",
    "    public int[] Dimensions;\n",
    "\n",
    "    public TensorSlice(Span<float> data, int[] dimensions)\n",
    "    {\n",
    "        Data = data;\n",
    "        Dimensions = dimensions;\n",
    "    }\n",
    "}"
   ]
  },
  {
   "cell_type": "code",
   "execution_count": null,
   "metadata": {
    "dotnet_interactive": {
     "language": "csharp"
    },
    "polyglot_notebook": {
     "kernelName": "csharp"
    },
    "vscode": {
     "languageId": "polyglot-notebook"
    }
   },
   "outputs": [],
   "source": [
    "using System;\n",
    "\n",
    "ref struct TensorSlice\n",
    "{\n",
    "    public Span<float> Data;\n",
    "    public int[] Dimensions;\n",
    "\n",
    "    public TensorSlice(Span<float> data, int[] dimensions)\n",
    "    {\n",
    "        Data = data;\n",
    "        Dimensions = dimensions;\n",
    "    }\n",
    "\n",
    "    public TensorSlice SliceDimension(int dimension)\n",
    "    {\n",
    "        if (dimension < 0 || dimension >= Dimensions.Length)\n",
    "            throw new ArgumentOutOfRangeException(nameof(dimension), \"Dimension is out of range.\");\n",
    "\n",
    "        // Calculate strides\n",
    "        int[] strides = new int[Dimensions.Length];\n",
    "        strides[strides.Length - 1] = 1;\n",
    "        for (int i = strides.Length - 2; i >= 0; i--)\n",
    "        {\n",
    "            strides[i] = strides[i + 1] * Dimensions[i + 1];\n",
    "        }\n",
    "\n",
    "        // Calculate the size of the sliced dimension\n",
    "        int sliceSize = Dimensions[dimension];\n",
    "\n",
    "        // Calculate the total number of elements in the sliced tensor\n",
    "        int totalElements = Data.Length / Dimensions[dimension];\n",
    "\n",
    "        // Create a new span for the sliced data\n",
    "        Span<float> slicedData = new float[totalElements];\n",
    "\n",
    "        // Copy the data for the sliced dimension\n",
    "        for (int i = 0; i < totalElements; i++)\n",
    "        {\n",
    "            int index = (i / strides[dimension]) * strides[dimension] * sliceSize + (i % strides[dimension]);\n",
    "            slicedData[i] = Data[index];\n",
    "        }\n",
    "\n",
    "        // Create a new dimensions array for the sliced tensor\n",
    "        int[] newDimensions = new int[Dimensions.Length - 1];\n",
    "        for (int i = 0, j = 0; i < Dimensions.Length; i++)\n",
    "        {\n",
    "            if (i != dimension)\n",
    "            {\n",
    "                newDimensions[j++] = Dimensions[i];\n",
    "            }\n",
    "        }\n",
    "\n",
    "        return new TensorSlice(slicedData, newDimensions);\n",
    "    }\n",
    "}\n",
    "\n",
    "class TensorS\n",
    "{\n",
    "    float[] data = { 1, 2, 3, 4, 5, 6, 7, 8, 9, 10, 11, 12 };\n",
    "    int[] dimensions = { 3, 4 }; // 3 rows, 4 columns\n",
    "\n",
    "    public void Compute()\n",
    "    {\n",
    "        TensorSlice tensor = new TensorSlice(data, dimensions);\n",
    "\n",
    "        // Slice the 2nd dimension (columns)\n",
    "        TensorSlice slicedTensor = tensor.SliceDimension(1);\n",
    "\n",
    "        // Print the sliced tensor data\n",
    "        Console.WriteLine(\"Sliced Tensor Data:\");\n",
    "        foreach (var value in slicedTensor.Data)\n",
    "            Console.Write(value + \" \");\n",
    "    }\n",
    "}\n",
    "\n",
    "new TensorS().Compute();"
   ]
  },
  {
   "cell_type": "markdown",
   "metadata": {},
   "source": [
    "# 🔢 Native Integers"
   ]
  },
  {
   "cell_type": "markdown",
   "metadata": {},
   "source": [
    "- C# 9 / .NET 5 / Nov 2020\n",
    "- nint, nuint\n",
    "- https://learn.microsoft.com/en-us/dotnet/csharp/language-reference/proposals/csharp-9.0/native-integers"
   ]
  },
  {
   "cell_type": "code",
   "execution_count": null,
   "metadata": {
    "dotnet_interactive": {
     "language": "csharp"
    },
    "polyglot_notebook": {
     "kernelName": "csharp"
    },
    "vscode": {
     "languageId": "polyglot-notebook"
    }
   },
   "outputs": [],
   "source": [
    "nint i = 3; // platform dependent\n",
    "int j = (int)i;\n",
    "nint k = j;\n",
    "Console.WriteLine($\"i: {i}, j: {j}, k: {k}\");\n",
    "\n",
    "unsafe // why we need unsafe for nint\n",
    "{\n",
    "    Console.WriteLine($\"{sizeof(int)}, {sizeof(nint)}\");\n",
    "}"
   ]
  },
  {
   "cell_type": "markdown",
   "metadata": {},
   "source": [
    "# 💾 PostgreSQL Text Search"
   ]
  },
  {
   "cell_type": "markdown",
   "metadata": {},
   "source": [
    "- https://www.postgresql.org/docs/current/textsearch.html"
   ]
  },
  {
   "cell_type": "markdown",
   "metadata": {},
   "source": [
    "1. https://www.postgresql.org/docs/17/rules-materializedviews.html\n",
    "    - Materialized views in PostgreSQL use the rule system like views do, but persist the results in a table-like form\n",
    "\n",
    "<img src=images/materialized-view.jpg width=700>"
   ]
  },
  {
   "cell_type": "markdown",
   "metadata": {},
   "source": [
    "\n",
    "2. https://www.postgresql.org/docs/current/gin.html\n",
    "    - https://en.wikipedia.org/wiki/Inverted_index\n",
    "    - Generalized Inverted Index is designed for handling cases where the items to be indexed are composite values, and the queries to be handled by the index need to search for element values that appear within the composite items. For example, the items could be documents, and the queries could be searches for documents containing specific words\n",
    "\n",
    "<img src=images/inverted-index.webp width=700><br>\n",
    "<img src=images/inverted-index.png width=700>"
   ]
  },
  {
   "cell_type": "markdown",
   "metadata": {},
   "source": [
    "3. https://www.postgresql.org/docs/current/datatype-textsearch.html\n",
    "    - A tsvector value is a sorted list of distinct lexemes, which are words that have been normalized to merge different variants of the same word\n",
    "\n",
    "<img src=images/tsvector.png height=500>"
   ]
  },
  {
   "cell_type": "markdown",
   "metadata": {},
   "source": [
    "- https://www.youtube.com/watch?v=NPduWiPzhpE Full Text Search in .NET With PostgreSQL and EF Core"
   ]
  },
  {
   "cell_type": "markdown",
   "metadata": {},
   "source": [
    "# 🧮 Vector Databases"
   ]
  },
  {
   "cell_type": "markdown",
   "metadata": {},
   "source": [
    "## Thinking about Vector Data"
   ]
  },
  {
   "cell_type": "markdown",
   "metadata": {},
   "source": [
    "<img src=images/data-structures.png width=700><br>\n",
    "<img src=images/data-modeling.png width=700><br>\n",
    "<img src=images/data-modeling-1000ft.jpg width=700>"
   ]
  },
  {
   "cell_type": "markdown",
   "metadata": {},
   "source": [
    "<img src=images/data-access.jpg width=700>\n",
    "\n",
    "- Optionally Encode/Decode data (Xml, Json, Encryption)\n",
    "- Querying Database using DSL\n",
    "- Fetch related data in memory and do processing\n",
    "\n",
    "<img src=images/embeddings-model.png width=700>\n",
    "\n",
    "- Vectorization (usually through Neural Network / Model)\n",
    "    - Choosing Neural Network / Model\n",
    "- Querying Database using DSL\n",
    "- Fetch related data in memory and do processing"
   ]
  },
  {
   "cell_type": "markdown",
   "metadata": {},
   "source": [
    "## Vector Databases in AI/ML"
   ]
  },
  {
   "cell_type": "markdown",
   "metadata": {},
   "source": [
    "<img src=images/agentic-rag.png height=500>\n",
    "\n",
    "- https://vectorize.io/how-i-finally-got-agentic-rag-to-work-right"
   ]
  },
  {
   "cell_type": "markdown",
   "metadata": {},
   "source": [
    "- https://devblogs.microsoft.com/dotnet/announcing-dotnetconf-focus-on-ai\n",
    "- https://devblogs.microsoft.com/dotnet/azure-ai-model-catalog-dotnet-inference-sdk\n",
    "- https://devblogs.microsoft.com/dotnet/introducing-pinecone-dotnet-sdk 👈\n",
    "- https://devblogs.microsoft.com/dotnet/introducing-microsoft-extensions-ai-preview\n",
    "- https://devblogs.microsoft.com/dotnet/e-shop-infused-with-ai-comprehensive-intelligent-dotnet-app-sample\n",
    "- https://devblogs.microsoft.com/dotnet/introducing-microsoft-extensions-vector-data 👈\n",
    "- https://devblogs.microsoft.com/dotnet/local-ai-models-with-dotnet-aspire\n",
    "- https://devblogs.microsoft.com/dotnet/vector-data-qdrant-ai-search-dotnet 👈"
   ]
  },
  {
   "cell_type": "markdown",
   "metadata": {},
   "source": [
    "<img src=images/pinecore-vs-qdrant.png>"
   ]
  },
  {
   "cell_type": "markdown",
   "metadata": {},
   "source": [
    "## 🧮 Qdrant"
   ]
  },
  {
   "cell_type": "markdown",
   "metadata": {},
   "source": [
    "1. Qdrant Client .NET Example\n",
    "2. Microsoft.Extensions.VectorData Example\n",
    "3. Semantic Kernel Memory Example\n",
    "4. Semantic Kernel Search Plugin Example\n",
    "\n",
    "- https://qdrant.tech/documentation/quickstart 👈"
   ]
  },
  {
   "cell_type": "code",
   "execution_count": 1,
   "metadata": {
    "dotnet_interactive": {
     "language": "value"
    },
    "polyglot_notebook": {
     "kernelName": "value"
    },
    "vscode": {
     "languageId": "polyglot-notebook"
    }
   },
   "outputs": [],
   "source": [
    "docker run -p 6333:6333 -p 6334:6334 qdrant/qdrant"
   ]
  },
  {
   "cell_type": "code",
   "execution_count": null,
   "metadata": {
    "dotnet_interactive": {
     "language": "csharp"
    },
    "polyglot_notebook": {
     "kernelName": "csharp"
    },
    "vscode": {
     "languageId": "polyglot-notebook"
    }
   },
   "outputs": [],
   "source": [
    "#!connect jupyter --kernel-name pythonkernel --kernel-spec python3"
   ]
  },
  {
   "cell_type": "code",
   "execution_count": null,
   "metadata": {
    "dotnet_interactive": {
     "language": "pythonkernel"
    },
    "polyglot_notebook": {
     "kernelName": "pythonkernel"
    },
    "vscode": {
     "languageId": "polyglot-notebook"
    }
   },
   "outputs": [],
   "source": [
    "!pip install qdrant_client\n",
    "!pip install numpy"
   ]
  },
  {
   "cell_type": "code",
   "execution_count": null,
   "metadata": {
    "dotnet_interactive": {
     "language": "pythonkernel"
    },
    "polyglot_notebook": {
     "kernelName": "pythonkernel"
    },
    "vscode": {
     "languageId": "polyglot-notebook"
    }
   },
   "outputs": [],
   "source": [
    "from qdrant_client import QdrantClient\n",
    "from qdrant_client.models import Distance, VectorParams, PointStruct\n",
    "\n",
    "client = QdrantClient(url=\"http://localhost:6333\")\n",
    "\n",
    "client.create_collection(\n",
    "    collection_name=\"test_collection\",\n",
    "    vectors_config=VectorParams(size=4, distance=Distance.DOT),\n",
    ")\n",
    "\n",
    "operation_info = client.upsert(\n",
    "    collection_name=\"test_collection\",\n",
    "    wait=True,\n",
    "    points=[\n",
    "        PointStruct(id=1, vector=[0.05, 0.61, 0.76, 0.74], payload={\"city\": \"Berlin\"}),\n",
    "        PointStruct(id=2, vector=[0.19, 0.81, 0.75, 0.11], payload={\"city\": \"London\"}),\n",
    "        PointStruct(id=3, vector=[0.36, 0.55, 0.47, 0.94], payload={\"city\": \"Moscow\"}),\n",
    "        PointStruct(id=4, vector=[0.18, 0.01, 0.85, 0.80], payload={\"city\": \"New York\"}),\n",
    "        PointStruct(id=5, vector=[0.24, 0.18, 0.22, 0.44], payload={\"city\": \"Beijing\"}),\n",
    "        PointStruct(id=6, vector=[0.35, 0.08, 0.11, 0.44], payload={\"city\": \"Mumbai\"}),\n",
    "    ],\n",
    ")\n",
    "\n",
    "print(operation_info)"
   ]
  },
  {
   "cell_type": "code",
   "execution_count": null,
   "metadata": {
    "dotnet_interactive": {
     "language": "pythonkernel"
    },
    "polyglot_notebook": {
     "kernelName": "pythonkernel"
    },
    "vscode": {
     "languageId": "polyglot-notebook"
    }
   },
   "outputs": [],
   "source": [
    "search_result = client.query_points(\n",
    "    collection_name=\"test_collection\", query=[0.05, 0.61, 0.76, 0.74], limit = 3\n",
    "    # collection_name=\"test_collection\", query=[0.2, 0.1, 0.9, 0.7], limit = 3\n",
    ").points\n",
    "\n",
    "print(search_result)"
   ]
  },
  {
   "cell_type": "code",
   "execution_count": null,
   "metadata": {
    "dotnet_interactive": {
     "language": "pythonkernel"
    },
    "polyglot_notebook": {
     "kernelName": "pythonkernel"
    },
    "vscode": {
     "languageId": "polyglot-notebook"
    }
   },
   "outputs": [],
   "source": [
    "from qdrant_client.models import Filter, FieldCondition, MatchValue\n",
    "\n",
    "search_result = client.query_points(\n",
    "    collection_name=\"test_collection\",\n",
    "    query=[0.2, 0.1, 0.9, 0.7],\n",
    "    query_filter=Filter(\n",
    "        must=[FieldCondition(key=\"city\", match=MatchValue(value=\"London\"))]\n",
    "    ),\n",
    "    with_payload=True,\n",
    "    limit=3,\n",
    ").points\n",
    "\n",
    "print(search_result)"
   ]
  },
  {
   "cell_type": "markdown",
   "metadata": {},
   "source": [
    "- https://qdrant.tech/documentation/interfaces/web-ui\n",
    "- https://qdrant.tech/documentation/tutorials\n",
    "    - https://qdrant.tech/documentation/tutorials/search-beginners 👈\n",
    "- https://qdrant.tech/documentation/examples 👈\n",
    "- https://devblogs.microsoft.com/dotnet/vector-data-qdrant-ai-search-dotnet 👈\n",
    "- https://github.com/Azure-Samples/openai/tree/main/End_to_end_Solutions/GithubRepoAssistant 👈"
   ]
  },
  {
   "cell_type": "markdown",
   "metadata": {},
   "source": [
    "## 🧮 PostgreSQL"
   ]
  },
  {
   "cell_type": "markdown",
   "metadata": {},
   "source": [
    "- https://github.com/pgvector/pgvector\n",
    "- https://www.citusdata.com\n",
    "- https://learn.microsoft.com/en-us/azure/architecture/databases/idea/intelligent-apps-using-azure-database-for-postgresql\n",
    "- https://microsoft.github.io/kernel-memory/extensions/memory-db/postgres\n",
    "\n",
    "To quickly have pgvector; use Docker and run it using one of the following command\n",
    "- docker run -e POSTGRES_PASSWORD=uworx -p 5432:5432 -d ankane/pgvector:latest\n",
    "- docker run -e POSTGRES_PASSWORD=uworx -p 5432:5432 -d pgvector/pgvector:pg17 👈"
   ]
  },
  {
   "cell_type": "code",
   "execution_count": null,
   "metadata": {
    "dotnet_interactive": {
     "language": "value"
    },
    "polyglot_notebook": {
     "kernelName": "value"
    },
    "vscode": {
     "languageId": "polyglot-notebook"
    }
   },
   "outputs": [],
   "source": [
    "create extension vector;\n",
    "select * from pg_extension;\n",
    "\n",
    "create table Items (Id bigserial primary key, embedding vector(3));\n",
    "insert into Items (embedding) values ('[1, 2, 3]'), ('[4, 5, 6]');\n",
    "\n",
    "select * from Items order by embedding <-> '[3,1,2]' limit 5;\n",
    "/*\n",
    "    <-> is L2 distance, <#> is inner product, <=> is cosine distance\n",
    "*/"
   ]
  },
  {
   "cell_type": "markdown",
   "metadata": {},
   "source": [
    "__Further Readings__\n",
    "- https://learn.microsoft.com/en-us/azure/postgresql/flexible-server/how-to-use-pgvector"
   ]
  },
  {
   "cell_type": "markdown",
   "metadata": {},
   "source": [
    "# 🏁"
   ]
  },
  {
   "cell_type": "markdown",
   "metadata": {},
   "source": [
    "## 🔣 Models"
   ]
  },
  {
   "cell_type": "markdown",
   "metadata": {},
   "source": [
    "__Text Embedding Models__\n",
    "- all-minilm, all-MiniLM-L6-v2\n",
    "    - Best for lightweight, fast, and general-purpose use cases where resource efficiency is critical\n",
    "- nomic-embed-text\n",
    "    - A balanced choice for general-purpose tasks with a focus on transparency and ethical AI\n",
    "- mxbai-embed-text, nomic-embed-large\n",
    "    - Ideal for high-performance, multilingual, and complex tasks where accuracy and richness of embeddings are prioritized over speed and resource usage"
   ]
  },
  {
   "cell_type": "markdown",
   "metadata": {},
   "source": [
    "<img src=images/ollama-ls.png width=800>"
   ]
  },
  {
   "cell_type": "markdown",
   "metadata": {},
   "source": [
    "## 🏁🏁"
   ]
  },
  {
   "cell_type": "markdown",
   "metadata": {},
   "source": [
    "- Clinic RAG Scenario\n",
    "    - https://github.com/khurram-uworx/dotnetdebrief/blob/main/src/ChatBots/KernelMemoryQdrantRagSK.cs\n",
    "    - https://github.com/khurram-uworx/dotnetdebrief/blob/main/src/ChatBots/KernelMemoryPgRagSK.cs\n",
    "    - Llama cleverness providing fake data for function calls; Mistral was working as expected\n",
    "\n",
    "<img src=images/sk-tool-km.png>"
   ]
  },
  {
   "cell_type": "markdown",
   "metadata": {},
   "source": [
    "# 📚 Resources"
   ]
  },
  {
   "cell_type": "markdown",
   "metadata": {},
   "source": [
    "- https://github.com/khurram-uworx/dotnetdebrief/blob/main/src/ChatBots\n",
    "\n",
    "__eShop__\n",
    "- https://github.com/dotnet/eShop is a reference .NET application implementing an eCommerce site / microservices - containers and what not\n",
    "    - https://github.com/dotnet-architecture\n",
    "\n",
    "<img src=images/eshop-running.png><br>\n",
    "<img src=images/eshop-architecture.png width=900><br>\n",
    "\n",
    "__eShop Support__\n",
    "- https://devblogs.microsoft.com/dotnet/e-shop-infused-with-ai-comprehensive-intelligent-dotnet-app-sample\n",
    "- https://www.youtube.com/watch?v=yMGTUQhjtlM Enhancing Business Processes with .NET Aspire and Generative AI\n",
    "- https://github.com/dotnet/eShopSupport\n",
    "\n",
    "__.NET AI Samples__\n",
    "- https://github.com/dotnet/ai-samples\n",
    "\n",
    "__Azure Samples__\n",
    "- https://github.com/Azure-Samples\n",
    "- https://github.com/Azure-Samples/azure-ai A hub with a curated awesome list of all Azure AI samples\n",
    "    - https://github.com/Azure-Samples/openai\n",
    "    - https://github.com/Azure-Samples/azureai-samples\n",
    "\n",
    "__Microsoft Samples__\n",
    "- https://github.com/microsoft/samples-for-ai\n",
    "- https://learn.microsoft.com/en-us/windows/ai/samples"
   ]
  }
 ],
 "metadata": {
  "kernelspec": {
   "display_name": ".NET (C#)",
   "language": "C#",
   "name": ".net-csharp"
  },
  "language_info": {
   "codemirror_mode": {
    "name": "ipython",
    "version": 3
   },
   "file_extension": ".py",
   "mimetype": "text/x-python",
   "name": "python",
   "nbconvert_exporter": "python",
   "pygments_lexer": "ipython3",
   "version": "3.12.2"
  },
  "polyglot_notebook": {
   "kernelInfo": {
    "defaultKernelName": "csharp",
    "items": [
     {
      "aliases": [],
      "name": "csharp"
     },
     {
      "aliases": [],
      "languageName": "python",
      "name": "pythonkernel"
     },
     {
      "aliases": [],
      "languageName": "R",
      "name": "Rkernel"
     }
    ]
   }
  }
 },
 "nbformat": 4,
 "nbformat_minor": 2
}
