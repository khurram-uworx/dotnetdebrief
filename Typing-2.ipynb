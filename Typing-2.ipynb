{
 "cells": [
  {
   "cell_type": "markdown",
   "metadata": {},
   "source": [
    "# 🫠 C#'s Multiple Personality Disorder"
   ]
  },
  {
   "cell_type": "markdown",
   "metadata": {},
   "source": [
    "## Properties"
   ]
  },
  {
   "cell_type": "code",
   "execution_count": null,
   "metadata": {
    "dotnet_interactive": {
     "language": "csharp"
    },
    "polyglot_notebook": {
     "kernelName": "csharp"
    }
   },
   "outputs": [],
   "source": [
    "class Node<T>\n",
    "{\n",
    "    T variable;\n",
    "\n",
    "    public T GetValue()\n",
    "    {\n",
    "        return this.variable;\n",
    "    }\n",
    "\n",
    "    public Node(T variable)\n",
    "    {\n",
    "        this.variable = variable;\n",
    "    }\n",
    "}"
   ]
  },
  {
   "cell_type": "code",
   "execution_count": null,
   "metadata": {
    "dotnet_interactive": {
     "language": "csharp"
    },
    "polyglot_notebook": {
     "kernelName": "csharp"
    }
   },
   "outputs": [],
   "source": [
    "class Node<T>\n",
    "{\n",
    "    T variable;\n",
    "\n",
    "    public T Value\n",
    "    {\n",
    "        get\n",
    "        {\n",
    "            return this.variable;\n",
    "        }\n",
    "    }\n",
    "\n",
    "    public Node(T variable)\n",
    "    {\n",
    "        this.variable = variable;\n",
    "    }\n",
    "}"
   ]
  },
  {
   "cell_type": "code",
   "execution_count": null,
   "metadata": {
    "dotnet_interactive": {
     "language": "csharp"
    },
    "polyglot_notebook": {
     "kernelName": "csharp"
    }
   },
   "outputs": [],
   "source": [
    "class Node<T>\n",
    "{\n",
    "    public required T Value { get; init; } // we can have private set;\n",
    "\n",
    "    public Node(T variable)\n",
    "    {\n",
    "        this.Value = variable;\n",
    "    }\n",
    "}"
   ]
  },
  {
   "cell_type": "code",
   "execution_count": null,
   "metadata": {
    "dotnet_interactive": {
     "language": "csharp"
    },
    "polyglot_notebook": {
     "kernelName": "csharp"
    }
   },
   "outputs": [],
   "source": [
    "class Node<T>\n",
    "{\n",
    "    T variable;\n",
    "\n",
    "    public T Value => this.variable;\n",
    "    public Node(T variable) => (this.variable) = variable;\n",
    "}"
   ]
  },
  {
   "cell_type": "markdown",
   "metadata": {},
   "source": [
    "## Delegates"
   ]
  },
  {
   "cell_type": "code",
   "execution_count": null,
   "metadata": {
    "dotnet_interactive": {
     "language": "csharp"
    },
    "polyglot_notebook": {
     "kernelName": "csharp"
    }
   },
   "outputs": [],
   "source": [
    "// C# 1: Traditional Delegate Declaration and Usage\n",
    "delegate int MathOperation(int x, int y);\n",
    "int Add1(int x, int y) => x + y; // I am using newer syntax\n",
    "MathOperation operation1 = new MathOperation(Add1);\n",
    "int result1 = operation1(3, 4); // operation.Invoke(3, 4); operation?.Invoke\n",
    "\n",
    "// C# 2: Anonymous Methods\n",
    "MathOperation operation2 = delegate (int x, int y) { return x + y; };\n",
    "\n",
    "// C# 3: Lambdra Expressions\n",
    "MathOperation operation3 = (x, y) => { return x + y; }; // in modern syntax we can do (x, y) => x + y\n",
    "// Also had Action, Func; no need to define delegate \"types\"\n",
    "Func<int, int, int> operation3b = (x, y) => x + y; // i am using newer syntax\n",
    "\n",
    "// C# 6: Expression-Bodied Members\n",
    "int Add6(int x, int y) => x + y;\n",
    "MathOperation operation6a = Add6;\n",
    "MathOperation operation6b = (x, y) => x + y;\n",
    "\n",
    "// C# 9: Target-Typed New (Eliminating Redundancy)\n",
    "MathOperation operation9 = new((x, y) => x + y);"
   ]
  },
  {
   "cell_type": "code",
   "execution_count": null,
   "metadata": {
    "dotnet_interactive": {
     "language": "csharp"
    },
    "polyglot_notebook": {
     "kernelName": "csharp"
    }
   },
   "outputs": [],
   "source": [
    "var operation = (int x, int y) => x + y; // inference"
   ]
  },
  {
   "cell_type": "markdown",
   "metadata": {},
   "source": [
    "## ⚡Succinctness"
   ]
  },
  {
   "cell_type": "markdown",
   "metadata": {},
   "source": [
    "- F# Effect"
   ]
  },
  {
   "cell_type": "markdown",
   "metadata": {},
   "source": [
    "# 🤔 Maybe Pattern"
   ]
  },
  {
   "cell_type": "code",
   "execution_count": null,
   "metadata": {
    "dotnet_interactive": {
     "language": "value"
    },
    "polyglot_notebook": {
     "kernelName": "value"
    }
   },
   "outputs": [],
   "source": [
    "// Haskell\n",
    "data Maybe a = Nothing | Just a\n",
    "\n",
    "// Multi Bodied Functions\n",
    "safeDivide :: Double -> Double -> Maybe Double\n",
    "safeDivide _ 0 = Nothing\n",
    "safeDivide x y = Just (x / y)"
   ]
  },
  {
   "cell_type": "markdown",
   "metadata": {},
   "source": [
    "- __Verbosity__: Handling Maybe values can become verbose compared to implicit null handling, especially in large codebases without concise helper functions\n",
    "- __Overuse__: Using Maybe where absence is logically impossible can lead to unnecessary complexity\n",
    "- __Error Propagation__: While Maybe is excellent for propagating errors, debugging the actual cause of Nothing requires extra effort"
   ]
  },
  {
   "cell_type": "code",
   "execution_count": null,
   "metadata": {
    "dotnet_interactive": {
     "language": "value"
    },
    "polyglot_notebook": {
     "kernelName": "value"
    }
   },
   "outputs": [],
   "source": [
    "// Scala\n",
    "val maybeValue: Option[Int] = Some(42)\n",
    "val result = maybeValue.map(_ * 2)\n",
    "\n",
    "// Rust\n",
    "let maybe_value: Option<i32> = Some(42);\n",
    "let result = maybe_value.map(|x| x * 2);\n",
    "\n",
    "// Java\n",
    "Optional<Integer> maybeValue = Optional.of(42);\n",
    "Optional<Integer> result = maybeValue.map(x -> x * 2);"
   ]
  },
  {
   "cell_type": "markdown",
   "metadata": {},
   "source": [
    "__Why Learn \"Maybe\" Even if You Don't Use Haskell__\n",
    "\n",
    "- __Conceptual Clarity__: Understanding Maybe enhances your grasp of functional programming concepts like monads, type safety, and composability\n",
    "- __Better Error Handling__: You can apply similar constructs in your preferred languages (like Nullable<T> in C#)\n",
    "- __Modern Language Trends__: Many languages are moving toward safer handling of nullability. Learning Maybe prepares you for this paradigm shift\n",
    "- __Improved Code Design__: The principles behind Maybe encourage explicitness and immutability, improving overall code quality\n",
    "\n",
    "Understanding Maybe equips you with tools to handle one of the most common sources of bugs — absence of values — in a principled, type-safe way. Even if you don't write Haskell daily, the ideas translate well into other languages, enriching your overall programming skill set"
   ]
  },
  {
   "cell_type": "markdown",
   "metadata": {},
   "source": [
    "## C#"
   ]
  },
  {
   "cell_type": "markdown",
   "metadata": {},
   "source": [
    "- Java and C# have Nullable and Optional types"
   ]
  },
  {
   "cell_type": "code",
   "execution_count": null,
   "metadata": {
    "dotnet_interactive": {
     "language": "csharp"
    },
    "polyglot_notebook": {
     "kernelName": "csharp"
    }
   },
   "outputs": [],
   "source": [
    "Nullable<int> v1 = 5;\n",
    "int? v2 = null; // shortened syntax\n",
    "\n",
    "if (v1.HasValue) Console.WriteLine(v1.Value);\n",
    "if (v2.HasValue) Console.WriteLine(v2.Value);\n",
    "\n",
    "// Java\n",
    "//Integer i = null; // similar to C# you can get NullPointerException at runtime if you are not explicitly checking for nulls\n",
    "//Optional<Integer> optional = Optional.empty(); // this is bit safer"
   ]
  },
  {
   "cell_type": "code",
   "execution_count": null,
   "metadata": {
    "dotnet_interactive": {
     "language": "csharp"
    },
    "polyglot_notebook": {
     "kernelName": "csharp"
    }
   },
   "outputs": [],
   "source": [
    "abstract class Maybe<T> \n",
    "{\n",
    "    public class Some : Maybe<T>\n",
    "    {\n",
    "        public Some(T v) => Value = v;\n",
    "        public T Value { get; }\n",
    "    }\n",
    "\n",
    "    public class None : Maybe<T>\n",
    "    { }\n",
    "\n",
    "    public static None Nothing() => new None(); // Unfortunately we cant use None() as static method\n",
    "}\n",
    "\n",
    "// Functionality\n",
    "Maybe<string> GetLogs() => Maybe<string>.Nothing();\n",
    "\n",
    "// Usage\n",
    "var content = GetLogs();\n",
    "if (content is Maybe<string>.Some s)\n",
    "    Console.WriteLine(s.Value);\n",
    "else\n",
    "    Console.WriteLine(\"We have nothing....\");"
   ]
  },
  {
   "cell_type": "code",
   "execution_count": null,
   "metadata": {
    "dotnet_interactive": {
     "language": "csharp"
    },
    "polyglot_notebook": {
     "kernelName": "csharp"
    }
   },
   "outputs": [],
   "source": [
    "using static System.Console;\n",
    "\n",
    "// Extension Method\n",
    "static void Match<T>(this Maybe<T> v,\n",
    "    Action<Maybe<T>.Some> value, Action none)\n",
    "{\n",
    "    if (v is Maybe<T>.Some s) value(s);\n",
    "    else none();\n",
    "}\n",
    "\n",
    "GetLogs().Match(\n",
    "    v => WriteLine(v),\n",
    "    () => WriteLine(\"We have nothing....\"));"
   ]
  },
  {
   "cell_type": "markdown",
   "metadata": {},
   "source": [
    "### More Complete Option Type in C# with Functional Patterns"
   ]
  },
  {
   "cell_type": "code",
   "execution_count": null,
   "metadata": {
    "dotnet_interactive": {
     "language": "csharp"
    },
    "polyglot_notebook": {
     "kernelName": "csharp"
    }
   },
   "outputs": [],
   "source": [
    "abstract class Maybe<T> \n",
    "{\n",
    "    public sealed class Some : Maybe<T>\n",
    "    {\n",
    "        public Some(T v) => Value = v;\n",
    "        public T Value { get; }\n",
    "    }\n",
    "\n",
    "    public sealed class None : Maybe<T>\n",
    "    { }\n",
    "\n",
    "    public static Maybe<T> Something(T value) => new Some(value);\n",
    "    public static None Nothing() => new None();\n",
    "\n",
    "    // Bind: Chain operations that return Maybe\n",
    "    public Maybe<TResult> Bind<TResult>(Func<T, Maybe<TResult>> binder) =>\n",
    "        this is Some some ? binder(some.Value) : Maybe<TResult>.Nothing();\n",
    "\n",
    "    // Map: Transform the value if present\n",
    "    public Maybe<TResult> Map<TResult>(Func<T, TResult> transform) =>\n",
    "        this is Some some\n",
    "        ? Maybe<TResult>.Something(transform(some.Value))\n",
    "        : Maybe<TResult>.Nothing();\n",
    "        \n",
    "    // Pattern matching: Perform different actions based on the type\n",
    "    public TResult Match<TResult>(Func<T, TResult> onSome, Func<TResult> onNone) => // Notice TResult\n",
    "            this is Some some ? onSome(some.Value) : onNone();\n",
    "\n",
    "}"
   ]
  },
  {
   "cell_type": "code",
   "execution_count": null,
   "metadata": {
    "dotnet_interactive": {
     "language": "csharp"
    },
    "polyglot_notebook": {
     "kernelName": "csharp"
    }
   },
   "outputs": [],
   "source": [
    "record User(int Id, string Name, string Email);\n",
    "\n",
    "var users = new Dictionary<int, User>\n",
    "{\n",
    "    { 1, new User(1, \"Foo\", \"foo@example.com\") },\n",
    "    { 2, new User(2, \"Bar\", \"bar@example.com\") }\n",
    "};\n",
    "\n",
    "Maybe<User> FindUserById(Dictionary<int, User> users, int id) =>\n",
    "    users.TryGetValue(id, out var user)\n",
    "    ? Maybe<User>.Something(user)\n",
    "    : Maybe<User>.Nothing();\n",
    "\n",
    "var email1 = FindUserById(users, 1)\n",
    "    .Map(user => user.Email)\n",
    "    .Match(\n",
    "        onSome: email => $\"Email found: {email}\",\n",
    "        onNone: () => \"User not found\"\n",
    "    );\n",
    "\n",
    "var email2 = FindUserById(users, 3)\n",
    "    .Map(user => user.Email)\n",
    "    .Match(\n",
    "        onSome: email => $\"Email found: {email}\",\n",
    "        onNone: () => \"User not found\"\n",
    "    );\n",
    "\n",
    "var userName = FindUserById(users, 2)\n",
    "    .Bind(user => Maybe<string>.Something(user.Name.ToUpper()))\n",
    "    .Match(\n",
    "        onSome: name => $\"User name: {name}\",\n",
    "        onNone: () => \"User not found\"\n",
    "    );\n",
    "\n",
    "Console.WriteLine(email1);\n",
    "Console.WriteLine(email2);\n",
    "Console.WriteLine(userName);"
   ]
  },
  {
   "cell_type": "markdown",
   "metadata": {},
   "source": [
    "- https://www.nuget.org/packages/Optional\n",
    "    - https://github.com/nlkl/Optional/blob/master/src/Optional/Option_Maybe.cs\n",
    "- https://github.com/louthy/language-ext"
   ]
  },
  {
   "cell_type": "markdown",
   "metadata": {},
   "source": [
    "## F#"
   ]
  },
  {
   "cell_type": "markdown",
   "metadata": {},
   "source": [
    "- https://en.wikipedia.org/wiki/Option_type"
   ]
  },
  {
   "cell_type": "code",
   "execution_count": null,
   "metadata": {
    "dotnet_interactive": {
     "language": "fsharp"
    },
    "polyglot_notebook": {
     "kernelName": "fsharp"
    }
   },
   "outputs": [],
   "source": [
    "let someValue = Some(42)    // Some is not a class or anything; someValue is infact Option type\n",
    "let noValue = None          // https://github.com/dotnet/fsharp/blob/main/src/FSharp.Core/option.fs\n",
    "\n",
    "let printOptionValue option =\n",
    "    match option with\n",
    "    | Some(x) -> printfn \"The value is %d\" x\n",
    "    | None -> printfn \"No value\"\n",
    "\n",
    "printOptionValue someValue\n",
    "printOptionValue noValue"
   ]
  },
  {
   "cell_type": "code",
   "execution_count": null,
   "metadata": {
    "dotnet_interactive": {
     "language": "fsharp"
    },
    "polyglot_notebook": {
     "kernelName": "fsharp"
    }
   },
   "outputs": [],
   "source": [
    "let printOptionValue option =\n",
    "    match option with\n",
    "    | Some(x) -> printfn \"The value is %d\" x // to make float work we will need to replace %d with %A\n",
    "    | None -> printfn \"No value\"\n",
    "\n",
    "let option1: Option<int> = Some(42) // float will not work\n",
    "let option2 = Some(42)\n",
    "let option3: Option<int> = None\n",
    "\n",
    "printOptionValue option1\n",
    "printOptionValue option2\n",
    "printOptionValue option3"
   ]
  },
  {
   "cell_type": "markdown",
   "metadata": {},
   "source": [
    "- Why C# doesnt has \"Optional\" type\n",
    "    - Nullable Types\n",
    "    - Different Design Philosphy; favoring patterns"
   ]
  },
  {
   "cell_type": "markdown",
   "metadata": {},
   "source": [
    "## C++"
   ]
  },
  {
   "cell_type": "markdown",
   "metadata": {},
   "source": [
    "- C++ 17; gcc v8, clang 5, Visual Studio 2017\n",
    "    - https://en.cppreference.com/w/cpp/utility/optional"
   ]
  },
  {
   "cell_type": "code",
   "execution_count": null,
   "metadata": {
    "dotnet_interactive": {
     "language": "csharp"
    },
    "polyglot_notebook": {
     "kernelName": "csharp"
    }
   },
   "outputs": [],
   "source": [
    "#include <iostream>\n",
    "#include <optional>\n",
    "#include <string>\n",
    " \n",
    "// optional can be used as the return type of a factory that may fail\n",
    "std::optional<std::string> create(bool b)\n",
    "{\n",
    "    if (b)\n",
    "        return \"Godzilla\";\n",
    "    return {}; // this is cool; its equivalen to return std::nullopt\n",
    "}\n",
    " \n",
    "// std::nullopt can be used to create any (empty) std::optional\n",
    "auto create2(bool b) // auto was reused in C++ 11 for infered types; it was always there since C days\n",
    "{\n",
    "    return b ? std::optional<std::string>{\"Godzilla\"} : std::nullopt;\n",
    "}\n",
    " \n",
    "int main()\n",
    "{\n",
    "    std::cout << \"create(false) returned \"\n",
    "              << create(false).value_or(\"empty\") << '\\n'; // ?? of C#\n",
    " \n",
    "    // optional-returning factory functions are usable as conditions of while and if\n",
    "    if (auto str = create2(true))\n",
    "        std::cout << \"create2(true) returned \" << *str << '\\n';\n",
    "}"
   ]
  },
  {
   "cell_type": "markdown",
   "metadata": {},
   "source": [
    "## Patterns around MayBe"
   ]
  },
  {
   "cell_type": "markdown",
   "metadata": {},
   "source": [
    "- __Map__: Transform the value without unwrapping the container.\n",
    "- __Bind__: Transform and flatten the value inside the container.\n",
    "- __Match__: Handle different cases of a container or data structure."
   ]
  },
  {
   "cell_type": "markdown",
   "metadata": {},
   "source": [
    "- __Map__\n",
    "    - Applies a function to a value wrapped in a context (e.g., a container, Option, List, etc.) and returns a new context with the transformed value; *It does not \"unwrap\" the context*\n",
    "- __Bind__\n",
    "    - Applies a function to a value in a context and flattens the result. The function itself must return a value in the same type of context; *It can \"unwrap\" and \"flatten\" nested contexts*\n",
    "- __Match__\n",
    "    - Allows destructuring and applying logic based on the structure of a value or its type. Commonly used with sum types like Option, Either, or discriminated unions; *Provides a clean and declarative way to handle all possible cases of a type*"
   ]
  },
  {
   "cell_type": "code",
   "execution_count": null,
   "metadata": {
    "dotnet_interactive": {
     "language": "csharp"
    },
    "polyglot_notebook": {
     "kernelName": "csharp"
    }
   },
   "outputs": [],
   "source": [
    "// Map in LINQ\n",
    "var list = new List<int> { 1, 2, 3, 4 };\n",
    "var doubled = list.Select(x => x * 2);\n",
    "\n",
    "// Bind in LINQ\n",
    "var even = list.SelectMany(x => x % 2 == 0 ? new[] { x } : Enumerable.Empty<int>());\n",
    "even\n",
    "\n",
    "// Match; unfortunately no equivalent in LINQ"
   ]
  },
  {
   "cell_type": "markdown",
   "metadata": {},
   "source": [
    "<img src=images/select-many.png>"
   ]
  },
  {
   "cell_type": "code",
   "execution_count": null,
   "metadata": {
    "dotnet_interactive": {
     "language": "csharp"
    },
    "polyglot_notebook": {
     "kernelName": "csharp"
    }
   },
   "outputs": [],
   "source": [
    "// Match like behavior\n",
    "var list = new List<int> { 1, 2, 3, 4 };\n",
    "\n",
    "var matchResult = list\n",
    "    .GroupBy(x => x % 2 == 0 ? \"Even\" : \"Odd\")\n",
    "    .Select(group => new { Type = group.Key, Numbers = group.ToList() })\n",
    "    .ToList();\n",
    "\n",
    "foreach (var group in matchResult)\n",
    "    Console.WriteLine($\"{group.Type}: {string.Join(\", \", group.Numbers)}\"); // string.Join is \"Fold\" concept in Functional Programming"
   ]
  },
  {
   "cell_type": "markdown",
   "metadata": {},
   "source": [
    "# 🔣 Algebraic Data Types (ADTs)"
   ]
  },
  {
   "cell_type": "markdown",
   "metadata": {},
   "source": [
    "## Product Types"
   ]
  },
  {
   "cell_type": "markdown",
   "metadata": {},
   "source": [
    "A product type is a type that combines several other types\n",
    "- Used to combine multiple values into a single type\n",
    "- In C#, we can use the built-in Tuple classes (Value and Reference Tuples) to create product types"
   ]
  },
  {
   "cell_type": "code",
   "execution_count": null,
   "metadata": {
    "dotnet_interactive": {
     "language": "csharp"
    },
    "polyglot_notebook": {
     "kernelName": "csharp"
    }
   },
   "outputs": [],
   "source": [
    "(int, Exception) divide(int a, int b)\n",
    "{\n",
    "    if (b == 0) return (0, new ArgumentException());\n",
    "\n",
    "    return (a / b, null);\n",
    "}\n",
    "\n",
    "int result;\n",
    "Exception exception;\n",
    "\n",
    "(result, _) = divide(2, 4);\n",
    "(_, exception) = divide(2, 0);\n",
    "var tuple = divide(6, 7); Console.WriteLine(tuple.Item1);\n",
    "//result = divide(3, 5); // Go\n",
    "\n",
    "(result, exception) = divide(1, 2);\n",
    "\n",
    "//if (result != 0) ?\n",
    "//if (null == exception)"
   ]
  },
  {
   "cell_type": "code",
   "execution_count": null,
   "metadata": {
    "dotnet_interactive": {
     "language": "fsharp"
    },
    "polyglot_notebook": {
     "kernelName": "fsharp"
    }
   },
   "outputs": [],
   "source": [
    "let it : int * int * int = (1, 2, 3);"
   ]
  },
  {
   "cell_type": "markdown",
   "metadata": {},
   "source": [
    "## Sum Types"
   ]
  },
  {
   "cell_type": "markdown",
   "metadata": {},
   "source": [
    "Sum Type (also known as Tagged Union or Discriminated Union) A sum type is a type that can be one of several possible types\n",
    "- a type that can be one of several different types\n",
    "- In C#, we can implement sum types using inheritance; we can use Pattern Matching to check the type\n",
    "    - https://github.com/dotnet/csharplang/issues/113\n",
    "    - https://github.com/dotnet/csharplang/blob/main/proposals/rejected/discriminated-unions.md\n",
    "    - https://github.com/dotnet/csharplang/blob/main/proposals/TypeUnions.md"
   ]
  },
  {
   "cell_type": "code",
   "execution_count": null,
   "metadata": {
    "dotnet_interactive": {
     "language": "csharp"
    },
    "polyglot_notebook": {
     "kernelName": "csharp"
    }
   },
   "outputs": [],
   "source": [
    "abstract record Shape;\n",
    "\n",
    "record Circle(float Radius) : Shape;\n",
    "record Rectangle(float Width, float Height) : Shape;\n",
    "\n",
    "static double Area(Shape shape) => shape switch\n",
    "{\n",
    "    Circle c => Math.PI * c.Radius * c.Radius,\n",
    "    Rectangle r => r.Width * r.Height,\n",
    "    _ => throw new ArgumentException(\"Unknown shape\", nameof(shape))\n",
    "};"
   ]
  },
  {
   "cell_type": "code",
   "execution_count": null,
   "metadata": {
    "dotnet_interactive": {
     "language": "csharp"
    },
    "polyglot_notebook": {
     "kernelName": "csharp"
    }
   },
   "outputs": [],
   "source": [
    "abstract record WeatherResponse;\n",
    "\n",
    "record NotFound(string City) : WeatherResponse;\n",
    "record Error(string ErrorMessage) : WeatherResponse;\n",
    "\n",
    "record Success(string City, double Temperature, string Condition) : WeatherResponse;\n",
    "record Sunny(string City, double Temperature) : Success(City, Temperature, \"Sunny\");\n",
    "record Cloudy(string City, double Temperature) : Success(City, Temperature, \"Cloudy\");\n",
    "record Foggy(string City, double Temperature) : Success(City, Temperature, \"Foggy\");\n",
    "record Frosty(string City, double Temperature) : Success(City, Temperature, \"Frosty\");\n",
    "\n",
    "WeatherResponse GetWeatherResponse(string city) => city switch\n",
    "{\n",
    "    \"Lahore\" => new Sunny(\"Lahore\", 49.0),\n",
    "    \"Faisalabad\" => new Success(\"Faisalabad\", 49.5, \"Very Sunny\"),\n",
    "    not null => new NotFound(city),\n",
    "    _ => new Error(\"Unknown error occurred\")\n",
    "};"
   ]
  },
  {
   "cell_type": "markdown",
   "metadata": {},
   "source": [
    "##Result Pattern"
   ]
  },
  {
   "cell_type": "code",
   "execution_count": null,
   "metadata": {
    "dotnet_interactive": {
     "language": "csharp"
    },
    "polyglot_notebook": {
     "kernelName": "csharp"
    }
   },
   "outputs": [],
   "source": [
    "using System.Numerics;\n",
    "\n",
    "abstract record Result;\n",
    "abstract record Result<T> : Result;\n",
    "record Success<T>(T Value) : Result<T>;     // Generic; one time investment\n",
    "record Error(string ErrorMessage) : Result;\n",
    "\n",
    "Result Divide<T>(T a, T b) where T : INumber<T> =>\n",
    "    b == T.Zero\n",
    "        ? new Error(\"Division by zero\")\n",
    "        : new Success<T>(a / b);\n",
    "\n",
    "var result = Divide(20, 2);\n",
    "if (result is Success<int> success)\n",
    "        result = Divide(success.Value, 2);"
   ]
  },
  {
   "cell_type": "markdown",
   "metadata": {},
   "source": [
    "- https://learn.microsoft.com/en-us/dotnet/fsharp/language-reference/discriminated-unions\n",
    "- https://fsharpforfunandprofit.com/posts/type-size-and-design"
   ]
  },
  {
   "cell_type": "markdown",
   "metadata": {},
   "source": [
    "# 📋 Result/Either Pattern"
   ]
  },
  {
   "cell_type": "markdown",
   "metadata": {},
   "source": [
    "## F#: Option and Result Types"
   ]
  },
  {
   "cell_type": "markdown",
   "metadata": {},
   "source": [
    "- Option<T> is a product of the presence of a value (Some<T>) or the absence of a value (None)\n",
    "- Result<T, E> is a product of a successful result (Ok<T>) and an error (Error<E>)"
   ]
  },
  {
   "cell_type": "code",
   "execution_count": null,
   "metadata": {
    "dotnet_interactive": {
     "language": "fsharp"
    },
    "polyglot_notebook": {
     "kernelName": "fsharp"
    }
   },
   "outputs": [],
   "source": [
    "let divide x y = // no generics noise; no result type noise; implicitly its returning Result<Ok<T>, Error>\n",
    "    if y = 0 then\n",
    "        Error \"Division by zero\"\n",
    "    else\n",
    "        Ok (x / y)\n",
    "\n",
    "let printResult result = \n",
    "    match result with\n",
    "    | Ok value -> printfn \"Success: %d\" value\n",
    "    | Error msg -> printfn \"Error: %s\" msg\n",
    "\n",
    "printResult(divide 10 2)\n",
    "//printResult(divide 5.0 2.0)"
   ]
  },
  {
   "cell_type": "code",
   "execution_count": null,
   "metadata": {
    "dotnet_interactive": {
     "language": "fsharp"
    },
    "polyglot_notebook": {
     "kernelName": "fsharp"
    }
   },
   "outputs": [],
   "source": [
    "let inline divide x y = // the inline is telling compiler to substitute the actual function code at each call site\n",
    "    if y = LanguagePrimitives.GenericZero then Error \"Division by zero\" // due to generic math it will work for both int and float\n",
    "    else Ok (x / y)\n",
    "\n",
    "let printResult result =\n",
    "    match result with\n",
    "    | Ok x -> printfn \"Success: %A\" x //%A for wider numeric data types\n",
    "    | Error msg -> printfn \"Error: %s\" msg\n",
    "\n",
    "printResult(divide 10 2)\n",
    "printResult(divide 5.0 2.0)\n",
    "//printResult(divide 5.0 2)"
   ]
  },
  {
   "cell_type": "code",
   "execution_count": null,
   "metadata": {
    "dotnet_interactive": {
     "language": "fsharp"
    },
    "polyglot_notebook": {
     "kernelName": "fsharp"
    }
   },
   "outputs": [],
   "source": [
    "type Shape =\n",
    "    | Rectangle of width : float * length : float\n",
    "    | Circle of radius : float\n",
    "\n",
    "let calculateArea shape =\n",
    "    match shape with\n",
    "    | Rectangle (width, length) -> width * length\n",
    "    | Circle radius -> System.Math.PI * radius * radius"
   ]
  },
  {
   "cell_type": "code",
   "execution_count": null,
   "metadata": {
    "dotnet_interactive": {
     "language": "fsharp"
    },
    "polyglot_notebook": {
     "kernelName": "fsharp"
    }
   },
   "outputs": [],
   "source": [
    "type Direction =\n",
    "    | North\n",
    "    | East\n",
    "    | South\n",
    "    | West\n",
    "\n",
    "type Movement =\n",
    "    | Moving of Direction\n",
    "    | NotMoving\n",
    "\n",
    "type Optional<'a> =\n",
    "    | Something of 'a\n",
    "    | Nothing\n",
    "\n",
    "type Either<'a,'b> =\n",
    "    | Left of 'a\n",
    "    | Right of 'b"
   ]
  },
  {
   "cell_type": "markdown",
   "metadata": {},
   "source": [
    "## C# Implementation"
   ]
  },
  {
   "cell_type": "code",
   "execution_count": null,
   "metadata": {
    "dotnet_interactive": {
     "language": "csharp"
    },
    "polyglot_notebook": {
     "kernelName": "csharp"
    }
   },
   "outputs": [],
   "source": [
    "readonly struct Result<T>\n",
    "{\n",
    "    enum ResultState { Null, Failure, Success }\n",
    "    readonly ResultState state;\n",
    "\n",
    "    public T Value { get; }\n",
    "    public Exception Exception { get; }\n",
    "\n",
    "    public bool IsSuccess => this.state == ResultState.Success;\n",
    "    public bool IsFailure => this.state == ResultState.Failure;\n",
    "    public bool IsNull => this.state == ResultState.Null;\n",
    "\n",
    "    public Result(T value)\n",
    "    {\n",
    "        this.Value = value;\n",
    "        this.Exception = null!;\n",
    "        this.state = ResultState.Success;\n",
    "    }\n",
    "\n",
    "    public Result(Exception exception)\n",
    "    {\n",
    "        this.Value = default!;\n",
    "        this.Exception = exception;\n",
    "        this.state = ResultState.Failure;\n",
    "    }\n",
    "\n",
    "    public TR Match<TR>(Func<T, TR> onSuccess, Func<Exception, TR> onFailure, Func<TR>? onNull = null) =>\n",
    "        IsSuccess ? onSuccess(Value) :\n",
    "        IsFailure ? onFailure(Exception) :\n",
    "        onNull is not null \n",
    "            ? onNull() \n",
    "            : throw new InvalidOperationException(\"Result is null, but no onNull function was provided.\");\n",
    "\n",
    "    public static implicit operator Result<T>(T? value) => value is not null ? new Result<T>(value) : new Result<T>();\n",
    "    public static implicit operator Result<T>(Exception exception) => new(exception);\n",
    "}"
   ]
  },
  {
   "cell_type": "code",
   "execution_count": null,
   "metadata": {
    "dotnet_interactive": {
     "language": "csharp"
    },
    "polyglot_notebook": {
     "kernelName": "csharp"
    }
   },
   "outputs": [],
   "source": [
    "record User(int ID, string Name);\n",
    "Result<User> GetUser(int id)\n",
    "{\n",
    "    try\n",
    "    {\n",
    "        // Simulating user fetch\n",
    "        if (id <= 0) throw new ArgumentException(\"Invalid ID\");\n",
    "        return new User(id, \"User\"); // Success case\n",
    "    }\n",
    "    catch (Exception ex)\n",
    "    {\n",
    "        return ex; // Failure case\n",
    "    }\n",
    "}\n",
    "\n",
    "int id = 100;\n",
    "var userResult = GetUser(id);\n",
    "// Using Match to handle all possible states\n",
    "string message = userResult.Match(\n",
    "    onSuccess: user => $\"Found user: {user.Name}\",\n",
    "    onFailure: ex => $\"Error: {ex.Message}\",\n",
    "    onNull: () => \"User not found\"\n",
    ");"
   ]
  },
  {
   "cell_type": "markdown",
   "metadata": {},
   "source": [
    "- Exhaustive Pattern Matching\n",
    "- Type Safety and Transformation\n",
    "- Chain of Operations\n",
    "- Clean Error Handling"
   ]
  },
  {
   "cell_type": "markdown",
   "metadata": {},
   "source": [
    "## Rust"
   ]
  },
  {
   "cell_type": "code",
   "execution_count": null,
   "metadata": {
    "dotnet_interactive": {
     "language": "value"
    },
    "polyglot_notebook": {
     "kernelName": "value"
    }
   },
   "outputs": [],
   "source": [
    "fn divide(a: f64, b: f64) -> Result<f64, String> {\n",
    "    if b == 0.0\n",
    "        Err(\"Division by zero\".to_string())\n",
    "    else\n",
    "        Ok(a / b)\n",
    "}\n",
    "\n",
    "fn main() {\n",
    "    match divide(10.0, 2.0) {\n",
    "        Ok(result) => println!(\"Result: {}\", result),\n",
    "        Err(e) => println!(\"Error: {}\", e),\n",
    "    }\n",
    "\n",
    "    match divide(10.0, 0.0) {\n",
    "        Ok(result) => println!(\"Result: {}\", result),\n",
    "        Err(e) => println!(\"Error: {}\", e),\n",
    "    }\n",
    "}"
   ]
  }
 ],
 "metadata": {
  "kernelspec": {
   "display_name": ".NET (C#)",
   "language": "C#",
   "name": ".net-csharp"
  },
  "language_info": {
   "name": "polyglot-notebook"
  },
  "polyglot_notebook": {
   "kernelInfo": {
    "defaultKernelName": "csharp",
    "items": [
     {
      "aliases": [],
      "languageName": "csharp",
      "name": "csharp"
     },
     {
      "aliases": [],
      "languageName": "python",
      "name": "pythonkernel"
     }
    ]
   }
  }
 },
 "nbformat": 4,
 "nbformat_minor": 2
}
