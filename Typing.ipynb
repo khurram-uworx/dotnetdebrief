{
 "cells": [
  {
   "cell_type": "markdown",
   "metadata": {},
   "source": [
    "- https://en.wikipedia.org/wiki/Type_system\n",
    "    - https://en.wikipedia.org/wiki/Strong_and_weak_typing\n",
    "    - https://en.wikipedia.org/wiki/Type_theory\n",
    "- Types\n",
    "    - https://en.wikipedia.org/wiki/Nominal_type_system\n",
    "    - https://en.wikipedia.org/wiki/Structural_type_system\n",
    "    - https://en.wikipedia.org/wiki/Duck_typing"
   ]
  },
  {
   "cell_type": "code",
   "execution_count": null,
   "metadata": {
    "dotnet_interactive": {
     "language": "csharp"
    },
    "polyglot_notebook": {
     "kernelName": "csharp"
    },
    "vscode": {
     "languageId": "polyglot-notebook"
    }
   },
   "outputs": [],
   "source": [
    "#!connect jupyter --kernel-name pythonkernel --kernel-spec python3"
   ]
  },
  {
   "cell_type": "markdown",
   "metadata": {},
   "source": [
    "# Python: Typing"
   ]
  },
  {
   "cell_type": "code",
   "execution_count": null,
   "metadata": {
    "dotnet_interactive": {
     "language": "pythonkernel"
    },
    "polyglot_notebook": {
     "kernelName": "pythonkernel"
    },
    "vscode": {
     "languageId": "polyglot-notebook"
    }
   },
   "outputs": [],
   "source": [
    "class Circle:\n",
    "    def draw(self):\n",
    "        print(\"Draw circle\")\n",
    "\n",
    "class Rectangle:\n",
    "    def draw(self):\n",
    "        print(\"Draw rectangle\")\n",
    "\n",
    "def draw_shapes(shapes):\n",
    "    for shape in shapes:\n",
    "        shape.draw()\n",
    "\n",
    "shapes = [ Circle(), Rectangle() ]\n",
    "draw_shapes(shapes)"
   ]
  },
  {
   "cell_type": "markdown",
   "metadata": {},
   "source": [
    "## Fun /w Languages"
   ]
  },
  {
   "cell_type": "markdown",
   "metadata": {},
   "source": [
    "<img src=images/the-curly-languages.jpg height=700>"
   ]
  },
  {
   "cell_type": "markdown",
   "metadata": {},
   "source": [
    "- Python's classes indeed use dictionaries under the hood to store attributes and methods, and this can make them feel slightly different from languages like C#, where object internals are more rigidly typed. However, this dictionary-based implementation doesn't make Python any less object-oriented in terms of functionality. Python fully supports OOP concepts such as inheritance, polymorphism, encapsulation, and abstraction.\n",
    "- Each Python object has a __dict__ attribute, where instance variables are stored in a dictionary format. This dynamic nature allows you to add or modify attributes at runtime, making Python flexible and dynamic. This approach also makes Python quite different from C#, which uses a more static memory layout for objects.\n",
    "- So, while Python's class system may look different internally compared to a language like C#, it provides a true OOP experience in terms of principles and functionality."
   ]
  },
  {
   "cell_type": "code",
   "execution_count": null,
   "metadata": {
    "dotnet_interactive": {
     "language": "csharp"
    },
    "polyglot_notebook": {
     "kernelName": "csharp"
    },
    "vscode": {
     "languageId": "polyglot-notebook"
    }
   },
   "outputs": [],
   "source": [
    "using System;\n",
    "using System.Collections.Generic;\n",
    "\n",
    "class PyClass\n",
    "{\n",
    "    private readonly Dictionary<string, object> members = new();\n",
    "\n",
    "    public void SetProperty(string key, object value) => members[key] = value;\n",
    "    public object GetProperty(string key)\n",
    "    {\n",
    "        members.TryGetValue(key, out var value);\n",
    "        return value;\n",
    "    }\n",
    "}\n",
    "\n",
    "static class Circle\n",
    "{\n",
    "    public static PyClass New(Action draw)\n",
    "    {\n",
    "        var instance = new PyClass();\n",
    "        instance.SetProperty(\"__name__\", \"Circle\");\n",
    "        instance.SetProperty(\"draw\", draw);\n",
    "        return instance;\n",
    "    }\n",
    "}\n",
    "\n",
    "var circle = Circle.New(() => Console.WriteLine(\"Drawing circle\"));\n",
    "((Action)circle.GetProperty(\"draw\"))();"
   ]
  },
  {
   "cell_type": "markdown",
   "metadata": {},
   "source": [
    "## Nominal Typing"
   ]
  },
  {
   "cell_type": "code",
   "execution_count": null,
   "metadata": {
    "dotnet_interactive": {
     "language": "pythonkernel"
    },
    "polyglot_notebook": {
     "kernelName": "pythonkernel"
    },
    "vscode": {
     "languageId": "polyglot-notebook"
    }
   },
   "outputs": [],
   "source": [
    "from abc import ABC, abstractmethod\n",
    "\n",
    "class Shape(ABC):\n",
    "    @abstractmethod\n",
    "    def draw() -> None: ...\n",
    "\n",
    "class Circle(Shape):\n",
    "    def draw(self):\n",
    "        print(\"Draw circle\")\n",
    "\n",
    "class Rectangle(Shape):\n",
    "    def draw(self):                    # rename the method to break inheritance\n",
    "        print(\"Draw rectangle\")\n",
    "\n",
    "def draw_shapes(shapes):\n",
    "    for shape in shapes:\n",
    "        shape.draw()\n",
    "\n",
    "shapes = [ Circle(), Rectangle() ]\n",
    "draw_shapes(shapes)"
   ]
  },
  {
   "cell_type": "markdown",
   "metadata": {},
   "source": [
    "- Noun -> Adjective\n",
    "- Circle --is a-- shape\n"
   ]
  },
  {
   "cell_type": "markdown",
   "metadata": {},
   "source": [
    "## Structural Typing"
   ]
  },
  {
   "cell_type": "code",
   "execution_count": null,
   "metadata": {
    "dotnet_interactive": {
     "language": "pythonkernel"
    },
    "polyglot_notebook": {
     "kernelName": "pythonkernel"
    },
    "vscode": {
     "languageId": "polyglot-notebook"
    }
   },
   "outputs": [],
   "source": [
    "from typing import Protocol\n",
    "\n",
    "class Shape(Protocol):\n",
    "    def draw(): ...\n",
    "\n",
    "class Circle:\n",
    "    def draw(self):\n",
    "        print(\"Draw circle\")\n",
    "\n",
    "class Rectangle:\n",
    "    def draw(self):                    # rename the method to break inheritance\n",
    "        print(\"Draw rectangle\")\n",
    "\n",
    "def draw_shapes(shapes):\n",
    "    for shape in shapes:\n",
    "        shape.draw()\n",
    "\n",
    "shapes: list[Shape] = [ Circle(), Rectangle() ]\n",
    "draw_shapes(shapes)"
   ]
  },
  {
   "cell_type": "markdown",
   "metadata": {},
   "source": [
    "- https://www.youtube.com/watch?v=sR7ZIcIkKwk Nominal v.s. Structural sub typing in Python"
   ]
  },
  {
   "cell_type": "markdown",
   "metadata": {},
   "source": [
    "## Duck Typing"
   ]
  },
  {
   "cell_type": "code",
   "execution_count": null,
   "metadata": {
    "dotnet_interactive": {
     "language": "pythonkernel"
    },
    "polyglot_notebook": {
     "kernelName": "pythonkernel"
    },
    "vscode": {
     "languageId": "polyglot-notebook"
    }
   },
   "outputs": [],
   "source": [
    "class Circle:\n",
    "    def draw(self):\n",
    "        print(\"Draw circle\")\n",
    "\n",
    "class Rectangle:\n",
    "    def draw(self):                    # rename the method to break inheritance\n",
    "        print(\"Draw rectangle\")\n",
    "\n",
    "def draw_shapes(shapes):\n",
    "    for shape in shapes:\n",
    "        shape.draw()\n",
    "\n",
    "shapes = [ Circle(), Rectangle() ]\n",
    "draw_shapes(shapes)"
   ]
  },
  {
   "cell_type": "markdown",
   "metadata": {},
   "source": [
    "# 🎈 Javascript Typing, what?"
   ]
  },
  {
   "cell_type": "markdown",
   "metadata": {},
   "source": [
    "<img src=images/encpasulation.jpg height=700>"
   ]
  },
  {
   "cell_type": "code",
   "execution_count": null,
   "metadata": {
    "dotnet_interactive": {
     "language": "javascript"
    },
    "polyglot_notebook": {
     "kernelName": "javascript"
    },
    "vscode": {
     "languageId": "polyglot-notebook"
    }
   },
   "outputs": [],
   "source": [
    "class Shape { //its just a syntactic sugar; the underlying inheritance mechanism is still prototype-based\n",
    "    draw() {\n",
    "      throw new Error(\"Method 'draw()' must be implemented.\");\n",
    "    }\n",
    "  }\n",
    "  \n",
    "  class Circle extends Shape {\n",
    "    draw() {\n",
    "      console.log(\"Draw circle\");\n",
    "    }\n",
    "  }\n",
    "  \n",
    "  class Rectangle extends Shape {\n",
    "    draw() {\n",
    "      console.log(\"Draw rectangle\");\n",
    "    }\n",
    "  }\n",
    "  \n",
    "  function drawShapes(shapes) {\n",
    "    shapes.forEach(shape => shape.draw());\n",
    "  }\n",
    "  \n",
    "  const shapes = [new Circle(), new Rectangle()];\n",
    "  drawShapes(shapes);"
   ]
  },
  {
   "cell_type": "code",
   "execution_count": null,
   "metadata": {
    "dotnet_interactive": {
     "language": "javascript"
    },
    "polyglot_notebook": {
     "kernelName": "javascript"
    },
    "vscode": {
     "languageId": "polyglot-notebook"
    }
   },
   "outputs": [],
   "source": [
    "// typescript has notion of interface\n",
    "// interface Shape {\n",
    "//   draw() {}\n",
    "// }\n",
    "\n",
    "// in typescript we can say class Circle implements Shape\n",
    "class Circle {\n",
    "  draw() {\n",
    "    console.log(\"Draw circle\");\n",
    "  }\n",
    "}\n",
    "\n",
    "class Rectangle {\n",
    "  draw() {\n",
    "    console.log(\"Draw rectangle\");\n",
    "  }\n",
    "}\n",
    "\n",
    "function drawShapes(shapes) {\n",
    "  shapes.forEach(shape => shape.draw());\n",
    "}\n",
    "\n",
    "const shapes = [new Circle(), new Rectangle()];\n",
    "drawShapes(shapes);"
   ]
  },
  {
   "cell_type": "markdown",
   "metadata": {},
   "source": [
    "## Prototype based Inheritance"
   ]
  },
  {
   "cell_type": "markdown",
   "metadata": {},
   "source": [
    "- JavaScript uses prototypal inheritance. Objects inherit directly from other objects via prototypes, rather than from classes\n",
    "- Before ES6; we used to have __proto__ / prototype properties"
   ]
  },
  {
   "cell_type": "code",
   "execution_count": null,
   "metadata": {
    "dotnet_interactive": {
     "language": "javascript"
    },
    "polyglot_notebook": {
     "kernelName": "javascript"
    },
    "vscode": {
     "languageId": "polyglot-notebook"
    }
   },
   "outputs": [],
   "source": [
    "// Base 'class'\n",
    "function Shape(color) {\n",
    "    this.color = color;\n",
    "}\n",
    "Shape.prototype.describe = function() { // Every function (except arrow functions) automatically has a prototype property, which is itself an object\n",
    "    return `A ${this.color} shape.`;    // Adding a method to Shape's prototype\n",
    "};                                      // Each object has an internal [[Prototype]] property (often accessible as __proto__), which points to the object's prototype\n",
    "\n",
    "// Subclass Rectangle\n",
    "function Rectangle(color, width, height) {\n",
    "    Shape.call(this, color); // Call the Shape constructor with Rectangle's context\n",
    "    this.width = width;\n",
    "    this.height = height;\n",
    "}\n",
    "// When a function is used as a constructor, the prototype property becomes the prototype of all instances created by that constructor.\n",
    "// When we will create an object, JavaScript automatically will set internal [[Prototype]] (or __proto__) to the constructor's prototype object\n",
    "Rectangle.prototype = Object.create(Shape.prototype); // Setting up inheritance for Rectangle\n",
    "Rectangle.prototype.constructor = Rectangle;\n",
    "Rectangle.prototype.area = function() { // Adding a method specific to Rectangle\n",
    "    return this.width * this.height;\n",
    "};\n",
    "\n",
    "/*\n",
    " * Inheritance and Lookup:\n",
    " * When we access a property or method on an instance, JavaScript first checks if the instance has the property directly\n",
    " * If not, it looks up the prototype chain (following __proto__ links) until it finds the property or reaches null.\n",
    " * History\n",
    " * ES3 / 1999; prototype were introduced\n",
    " * ES5 / 2009; Object.create() was introduced\n",
    " */\n",
    "\n",
    "// Subclass Circle\n",
    "function Circle(color, radius) {\n",
    "    Shape.call(this, color);\n",
    "    this.radius = radius;\n",
    "}\n",
    "Circle.prototype = Object.create(Shape.prototype);\n",
    "Circle.prototype.constructor = Circle;\n",
    "Circle.prototype.area = function() {\n",
    "    return Math.PI * this.radius * this.radius;\n",
    "};\n",
    "\n",
    "// Usage\n",
    "const rectangle = new Rectangle('red', 5, 10);\n",
    "const circle = new Circle('blue', 5);\n",
    "console.log('Rectangle', rectangle.describe(), rectangle.area());\n",
    "console.log('Circle', circle.describe(), circle.area());"
   ]
  },
  {
   "cell_type": "markdown",
   "metadata": {},
   "source": [
    "# C# Typing"
   ]
  },
  {
   "cell_type": "markdown",
   "metadata": {},
   "source": [
    "## Nominal Typing"
   ]
  },
  {
   "cell_type": "code",
   "execution_count": null,
   "metadata": {
    "dotnet_interactive": {
     "language": "csharp"
    },
    "polyglot_notebook": {
     "kernelName": "csharp"
    },
    "vscode": {
     "languageId": "polyglot-notebook"
    }
   },
   "outputs": [],
   "source": [
    "abstract class Shape\n",
    "{\n",
    "    public abstract void Draw();\n",
    "}\n",
    "class Circle : Shape\n",
    "{\n",
    "    public override void Draw() =>\n",
    "        Console.WriteLine(\"Draw circle\");\n",
    "}\n",
    "class Rectangle : Shape\n",
    "{\n",
    "    public override void Draw() =>\n",
    "        Console.WriteLine(\"Draw rectangle\");\n",
    "}\n",
    "List<Shape> shapes = [ new Circle(), new Rectangle() ];\n",
    "\n",
    "//\n",
    "\n",
    "void DrawShapes(IEnumerable<Shape> shapes)\n",
    "{\n",
    "    foreach(var shape in shapes)\n",
    "        shape.Draw();\n",
    "}\n",
    "DrawShapes(shapes);"
   ]
  },
  {
   "cell_type": "markdown",
   "metadata": {},
   "source": [
    "## Duck Typing"
   ]
  },
  {
   "cell_type": "code",
   "execution_count": null,
   "metadata": {
    "dotnet_interactive": {
     "language": "csharp"
    },
    "polyglot_notebook": {
     "kernelName": "csharp"
    },
    "vscode": {
     "languageId": "polyglot-notebook"
    }
   },
   "outputs": [],
   "source": [
    "class Circle\n",
    "{\n",
    "    public void Draw() =>\n",
    "        Console.WriteLine(\"Draw circle\");\n",
    "}\n",
    "class Rectangle\n",
    "{\n",
    "    public void Draw() =>\n",
    "        Console.WriteLine(\"Draw rectangle\");\n",
    "}\n",
    "List<dynamic> shapes = [ new Circle(), new Rectangle() ];\n",
    "\n",
    "//\n",
    "\n",
    "void DrawShapes(IEnumerable<dynamic> shapes)\n",
    "{\n",
    "    foreach(var shape in shapes)\n",
    "        shape.Draw();\n",
    "}\n",
    "DrawShapes(shapes);"
   ]
  },
  {
   "cell_type": "markdown",
   "metadata": {},
   "source": [
    "## Structural Typing"
   ]
  },
  {
   "cell_type": "markdown",
   "metadata": {},
   "source": [
    "- https://github.com/ekonbenefits/impromptu-interface"
   ]
  },
  {
   "cell_type": "code",
   "execution_count": null,
   "metadata": {
    "dotnet_interactive": {
     "language": "csharp"
    },
    "polyglot_notebook": {
     "kernelName": "csharp"
    },
    "vscode": {
     "languageId": "polyglot-notebook"
    }
   },
   "outputs": [],
   "source": [
    "#r \"nuget: ImpromptuInterface, 8.0.4\""
   ]
  },
  {
   "cell_type": "code",
   "execution_count": null,
   "metadata": {
    "dotnet_interactive": {
     "language": "csharp"
    },
    "polyglot_notebook": {
     "kernelName": "csharp"
    },
    "vscode": {
     "languageId": "polyglot-notebook"
    }
   },
   "outputs": [],
   "source": [
    "using ImpromptuInterface;\n",
    "using Dynamitey;\n",
    "\n",
    "class Circle\n",
    "{\n",
    "    public void Draw() => Console.WriteLine(\"Draw circle\");\n",
    "}\n",
    "class Rectangle\n",
    "{\n",
    "    public void Draw() => Console.WriteLine(\"Draw rectangle\");\n",
    "}\n",
    "List<object> shapes = [ new Circle(), new Rectangle() ];\n",
    "\n",
    "//\n",
    "\n",
    "interface IShape { void Draw(); }\n",
    "void DrawShapes(IEnumerable<IShape> shapes)\n",
    "{\n",
    "    foreach (var shape in shapes)\n",
    "        shape.Draw();\n",
    "}\n",
    "IEnumerable<IShape> getShapes(IEnumerable shapes)\n",
    "{\n",
    "    foreach(var shape in shapes)\n",
    "    {\n",
    "        IShape s = null;\n",
    "        try { s = shape.ActLike<IShape>(); }\n",
    "        catch { }\n",
    "        if (null != s) yield return s;\n",
    "    }\n",
    "}\n",
    "\n",
    "DrawShapes(getShapes(shapes));"
   ]
  },
  {
   "cell_type": "code",
   "execution_count": null,
   "metadata": {
    "dotnet_interactive": {
     "language": "csharp"
    },
    "polyglot_notebook": {
     "kernelName": "csharp"
    },
    "vscode": {
     "languageId": "polyglot-notebook"
    }
   },
   "outputs": [],
   "source": [
    "using ImpromptuInterface;\n",
    "using Dynamitey;\n",
    "\n",
    "var circle = new\n",
    "{\n",
    "    Draw = new Action(() => Console.WriteLine(\"Draw circle\"))\n",
    "};\n",
    "var rectangle = new\n",
    "{\n",
    "    Draw = new Action(() => Console.WriteLine(\"Draw rectangle\"))\n",
    "};\n",
    "List<dynamic> shapes = [ circle, rectangle ];\n",
    "\n",
    "//\n",
    "\n",
    "interface IShape { void Draw(); }\n",
    "void DrawShapes(IEnumerable<IShape> shapes)\n",
    "{\n",
    "    foreach (var shape in shapes)\n",
    "        shape.Draw();\n",
    "}\n",
    "IEnumerable<IShape> getShapes(IEnumerable shapes)\n",
    "{\n",
    "    foreach(var shape in shapes)\n",
    "    {\n",
    "        IShape s = null;\n",
    "        try { s = shape.ActLike<IShape>(); }\n",
    "        catch { }\n",
    "        if (null != s) yield return s;\n",
    "    }\n",
    "}\n",
    "\n",
    "DrawShapes(getShapes(shapes));"
   ]
  },
  {
   "cell_type": "markdown",
   "metadata": {},
   "source": [
    "# 🎈 F# Typing"
   ]
  },
  {
   "cell_type": "markdown",
   "metadata": {},
   "source": [
    "## Nominal Typing"
   ]
  },
  {
   "cell_type": "code",
   "execution_count": null,
   "metadata": {
    "dotnet_interactive": {
     "language": "fsharp"
    },
    "polyglot_notebook": {
     "kernelName": "fsharp"
    },
    "vscode": {
     "languageId": "polyglot-notebook"
    }
   },
   "outputs": [],
   "source": [
    "type IShape =\n",
    "    abstract member Draw: unit -> unit\n",
    "\n",
    "type Circle() =\n",
    "    interface IShape with\n",
    "        member _.Draw() = printfn \"Draw circle\"\n",
    "\n",
    "type Rectangle() =\n",
    "    interface IShape with\n",
    "        member _.Draw() = printfn \"Draw rectangle\"\n",
    "\n",
    "let drawShapes (shapes: IShape list) =\n",
    "    shapes |> List.iter (fun shape -> shape.Draw())\n",
    "\n",
    "let shapes: IShape list = [ Circle(); Rectangle() ]\n",
    "drawShapes shapes"
   ]
  },
  {
   "cell_type": "markdown",
   "metadata": {},
   "source": [
    "## Protocol / Structural Typing"
   ]
  },
  {
   "cell_type": "code",
   "execution_count": null,
   "metadata": {
    "dotnet_interactive": {
     "language": "fsharp"
    },
    "polyglot_notebook": {
     "kernelName": "fsharp"
    },
    "vscode": {
     "languageId": "polyglot-notebook"
    }
   },
   "outputs": [],
   "source": [
    "type Shape = { Draw: unit -> unit }\n",
    "let circle = { Draw = fun () -> printfn \"Draw circle\" }\n",
    "let rectangle = { Draw = fun () -> printfn \"Draw rectangle\" }\n",
    "\n",
    "let drawShapes (shapes: Shape list) =\n",
    "    shapes |> List.iter (fun shape -> shape.Draw())\n",
    "\n",
    "let shapes: Shape list = [ circle; rectangle ]\n",
    "drawShapes shapes"
   ]
  },
  {
   "cell_type": "markdown",
   "metadata": {},
   "source": [
    "## Structural Typing"
   ]
  },
  {
   "cell_type": "code",
   "execution_count": null,
   "metadata": {
    "dotnet_interactive": {
     "language": "fsharp"
    },
    "polyglot_notebook": {
     "kernelName": "fsharp"
    },
    "vscode": {
     "languageId": "polyglot-notebook"
    }
   },
   "outputs": [],
   "source": [
    "// Now we can use it with any type that has a 'Draw' method\n",
    "type Circle() =\n",
    "    member _.Draw() = printfn \"Draw circle\"\n",
    "\n",
    "type Rectangle() =\n",
    "    member _.Draw() = printfn \"Draw rectangle\"\n",
    "\n",
    "let circle = Circle()\n",
    "let rectangle = Rectangle()\n",
    "\n",
    "// Define a function with a structural constraint on the type 'T', requiring it to have a 'Draw' method\n",
    "let inline drawShape (shape: ^T) = \n",
    "    (^T : (member Draw : unit -> unit) shape)\n",
    "drawShape circle\n",
    "drawShape rectangle"
   ]
  },
  {
   "cell_type": "markdown",
   "metadata": {},
   "source": [
    "## Duck Typing"
   ]
  },
  {
   "cell_type": "code",
   "execution_count": null,
   "metadata": {
    "dotnet_interactive": {
     "language": "fsharp"
    },
    "polyglot_notebook": {
     "kernelName": "fsharp"
    },
    "vscode": {
     "languageId": "polyglot-notebook"
    }
   },
   "outputs": [],
   "source": [
    "let inline flyAndWalk arg =\n",
    "  let flying = ( ^a : (member Fly : unit -> string) arg)\n",
    "  let walking = ( ^a : (member Walk : unit -> string) arg)\n",
    "  (flying, walking)\n",
    "\n",
    "type Duck() =\n",
    "  member this.Swim() = \"paddling\"\n",
    "  member this.Fly() = \"flapping\"\n",
    "  member this.Walk() = \"waddling\"\n",
    " \n",
    "type Eagle() =\n",
    "  member this.Fly() = \"soaring\"\n",
    "  member this.Walk() = \"creeping\"\n",
    " \n",
    "let (eFly, eWalk) = flyAndWalk (new Eagle())\n",
    "let (dFly, dWalk) = flyAndWalk (new Duck())"
   ]
  },
  {
   "cell_type": "markdown",
   "metadata": {},
   "source": [
    "- https://weblogs.asp.net/podwysocki/f-duck-typing-and-structural-typing"
   ]
  },
  {
   "cell_type": "markdown",
   "metadata": {},
   "source": [
    "## Unit of Measure"
   ]
  },
  {
   "cell_type": "code",
   "execution_count": null,
   "metadata": {
    "dotnet_interactive": {
     "language": "fsharp"
    },
    "polyglot_notebook": {
     "kernelName": "fsharp"
    },
    "vscode": {
     "languageId": "polyglot-notebook"
    }
   },
   "outputs": [],
   "source": [
    "[<Measure>] type kg    // kilogram\n",
    "[<Measure>] type m     // meter\n",
    "[<Measure>] type s     // second\n",
    "[<Measure>] type N = kg m / s^2  // Newton (derived unit)\n",
    "\n",
    "// F = ma\n",
    "let calculateForce (mass: float<kg>) (acceleration: float<m/s^2>) : float<N> =\n",
    "    mass * acceleration\n",
    "\n",
    "// KE = 1/2 * m * v^2\n",
    "let calculateKineticEnergy (mass: float<kg>) (velocity: float<m/s>) : float<kg m^2/s^2> =\n",
    "    0.5 * mass * velocity * velocity\n",
    "\n",
    "//Example\n",
    "let mass = 10.0<kg>\n",
    "let acceleration = 9.81<m/s^2>\n",
    "let velocity = 5.0<m/s>\n",
    "\n",
    "// Calculate force\n",
    "let force = calculateForce mass acceleration\n",
    "printfn \"Force: %A N\" force\n",
    "\n",
    "// Calculate kinetic energy\n",
    "let energy = calculateKineticEnergy mass velocity\n",
    "printfn \"Kinetic Energy: %A kg⋅m²/s²\" energy\n",
    "\n",
    "// This would cause a compile-time error:\n",
    "// let invalidForce = calculateForce mass velocity  // Type mismatch: velocity is m/s, not m/s² 👈\n",
    "\n",
    "// Converting between units\n",
    "[<Measure>] type km\n",
    "[<Measure>] type h\n",
    "\n",
    "let speedKmh = 60.0<km/h>\n",
    "let speedMs = speedKmh * 1000.0<m/km> / 3600.0<s/h>\n",
    "printfn \"Speed: %A km/h = %A m/s\" speedKmh speedMs"
   ]
  },
  {
   "cell_type": "markdown",
   "metadata": {},
   "source": [
    "## Discriminated Unions"
   ]
  },
  {
   "cell_type": "code",
   "execution_count": null,
   "metadata": {
    "dotnet_interactive": {
     "language": "fsharp"
    },
    "polyglot_notebook": {
     "kernelName": "fsharp"
    },
    "vscode": {
     "languageId": "polyglot-notebook"
    }
   },
   "outputs": [],
   "source": [
    "[<Measure>] type USD\n",
    "[<Measure>] type EUR\n",
    "\n",
    "type Money = \n",
    "    | USD of float<USD>\n",
    "    | EUR of float<EUR>\n",
    "\n",
    "// Payment method types\n",
    "type CreditCard = {\n",
    "    CardNumber: string\n",
    "    ExpiryMonth: int\n",
    "    ExpiryYear: int\n",
    "    CVV: string\n",
    "    CardHolderName: string\n",
    "}\n",
    "\n",
    "type BankAccount = {\n",
    "    IBAN: string\n",
    "    BIC: string\n",
    "    AccountHolderName: string\n",
    "}\n",
    "\n",
    "type CryptoCurrency = {\n",
    "    WalletAddress: string\n",
    "    Network: string  // e.g., \"BTC\", \"ETH\"\n",
    "}\n",
    "\n",
    "type PaymentMethod =\n",
    "    | CreditCardPayment of CreditCard\n",
    "    | BankTransfer of BankAccount\n",
    "    | CryptoPayment of CryptoCurrency\n",
    "    | PayPal of email: string\n",
    "\n",
    "// Payment status tracking\n",
    "type PaymentError =\n",
    "    | InsufficientFunds\n",
    "    | CardExpired\n",
    "    | InvalidDetails\n",
    "    | NetworkError of message: string\n",
    "    | FraudSuspected\n",
    "    | PaymentDeclined of reason: string\n",
    "\n",
    "type PaymentStatus =\n",
    "    | Pending\n",
    "    | Processing\n",
    "    | Completed of timestamp: System.DateTime\n",
    "    | Failed of PaymentError\n",
    "    | Refunded of refundId: string * timestamp: System.DateTime\n",
    "\n",
    "// Main payment record\n",
    "type Payment = {\n",
    "    PaymentId: System.Guid\n",
    "    Amount: Money\n",
    "    Method: PaymentMethod\n",
    "    Status: PaymentStatus\n",
    "    CreatedAt: System.DateTime\n",
    "}\n",
    "\n",
    "// Processing functions\n",
    "let validatePaymentMethod (method: PaymentMethod) =\n",
    "    match method with\n",
    "    | CreditCardPayment card ->\n",
    "        if System.String.IsNullOrEmpty(card.CardNumber) then \n",
    "            Error \"Card number is required\"\n",
    "        elif card.ExpiryYear < System.DateTime.Now.Year || \n",
    "             (card.ExpiryYear = System.DateTime.Now.Year && \n",
    "              card.ExpiryMonth < System.DateTime.Now.Month) then\n",
    "            Error \"Card has expired\"\n",
    "        else Ok method\n",
    "    | BankTransfer account ->\n",
    "        if System.String.IsNullOrEmpty(account.IBAN) then \n",
    "            Error \"IBAN is required\"\n",
    "        elif System.String.IsNullOrEmpty(account.BIC) then \n",
    "            Error \"BIC is required\"\n",
    "        else Ok method\n",
    "    | CryptoPayment crypto ->\n",
    "        if System.String.IsNullOrEmpty(crypto.WalletAddress) then \n",
    "            Error \"Wallet address is required\"\n",
    "        else Ok method\n",
    "    | PayPal email ->\n",
    "        if System.String.IsNullOrEmpty(email) then \n",
    "            Error \"Email is required\"\n",
    "        elif not (email.Contains(\"@\")) then \n",
    "            Error \"Invalid email format\"\n",
    "        else Ok method\n",
    "\n",
    "// Process payment based on method\n",
    "let processPayment (payment: Payment) =\n",
    "    match payment.Method with\n",
    "    | CreditCardPayment card ->\n",
    "        // Simulate credit card processing\n",
    "        if card.CardNumber.StartsWith(\"4\") then  // Test case\n",
    "            { payment with Status = Completed(System.DateTime.Now) }\n",
    "        else\n",
    "            { payment with Status = Failed(PaymentDeclined \"Card declined\") }\n",
    "            \n",
    "    | BankTransfer account ->\n",
    "        // Simulate bank transfer processing\n",
    "        { payment with Status = Processing }\n",
    "        \n",
    "    | CryptoPayment crypto ->\n",
    "        // Simulate crypto payment processing\n",
    "        match crypto.Network with\n",
    "        | \"BTC\" -> { payment with Status = Pending }\n",
    "        | \"ETH\" -> { payment with Status = Processing }\n",
    "        | _ -> { payment with Status = Failed(InvalidDetails) }\n",
    "        \n",
    "    | PayPal email ->\n",
    "        // Simulate PayPal processing\n",
    "        { payment with Status = Completed(System.DateTime.Now) }\n",
    "\n",
    "// Example usage\n",
    "let createPayment amount method =\n",
    "    {\n",
    "        PaymentId = System.Guid.NewGuid()\n",
    "        Amount = amount\n",
    "        Method = method\n",
    "        Status = Pending\n",
    "        CreatedAt = System.DateTime.Now\n",
    "    }\n",
    "\n",
    "// Helper to format payment status for display\n",
    "let formatPaymentStatus status =\n",
    "    match status with\n",
    "    | Pending -> \"Payment is pending\"\n",
    "    | Processing -> \"Payment is being processed\"\n",
    "    | Completed timestamp -> sprintf \"Payment completed at %s\" (timestamp.ToString())\n",
    "    | Failed error ->\n",
    "        match error with\n",
    "        | InsufficientFunds -> \"Payment failed: Insufficient funds\"\n",
    "        | CardExpired -> \"Payment failed: Card expired\"\n",
    "        | InvalidDetails -> \"Payment failed: Invalid details provided\"\n",
    "        | NetworkError msg -> sprintf \"Payment failed: Network error - %s\" msg\n",
    "        | FraudSuspected -> \"Payment failed: Fraud suspected\"\n",
    "        | PaymentDeclined reason -> sprintf \"Payment failed: %s\" reason\n",
    "    | Refunded (refundId, timestamp) ->\n",
    "        sprintf \"Payment refunded (ID: %s) at %s\" refundId (timestamp.ToString())\n",
    "\n",
    "// Example usage\n",
    "let examplePayment = \n",
    "    createPayment \n",
    "        (USD 99.99<USD>) \n",
    "        (CreditCardPayment {\n",
    "            CardNumber = \"4111111111111111\"\n",
    "            ExpiryMonth = 12\n",
    "            ExpiryYear = 2025\n",
    "            CVV = \"123\"\n",
    "            CardHolderName = \"John Doe\"\n",
    "        })\n",
    "\n",
    "let processedPayment = processPayment examplePayment\n",
    "printfn \"Payment status: %s\" (formatPaymentStatus processedPayment.Status)"
   ]
  },
  {
   "cell_type": "markdown",
   "metadata": {},
   "source": [
    "## Type Providers"
   ]
  },
  {
   "cell_type": "markdown",
   "metadata": {},
   "source": [
    "<img src=images/may-the-force.jpg>"
   ]
  }
 ],
 "metadata": {
  "kernelspec": {
   "display_name": ".NET (C#)",
   "language": "C#",
   "name": ".net-csharp"
  },
  "language_info": {
   "codemirror_mode": {
    "name": "ipython",
    "version": 3
   },
   "file_extension": ".py",
   "mimetype": "text/x-python",
   "name": "python",
   "nbconvert_exporter": "python",
   "pygments_lexer": "ipython3",
   "version": "3.12.2"
  },
  "polyglot_notebook": {
   "kernelInfo": {
    "defaultKernelName": "csharp",
    "items": [
     {
      "aliases": [],
      "name": "csharp"
     },
     {
      "aliases": [],
      "languageName": "python",
      "name": "pythonkernel"
     }
    ]
   }
  }
 },
 "nbformat": 4,
 "nbformat_minor": 2
}
