{
 "cells": [
  {
   "cell_type": "markdown",
   "metadata": {},
   "source": [
    "# 💾 Span and Memory of T"
   ]
  },
  {
   "cell_type": "markdown",
   "metadata": {},
   "source": [
    "- Introduced in .NET Core 2.1; 2018\n",
    "- System.Memory library"
   ]
  },
  {
   "cell_type": "markdown",
   "metadata": {},
   "source": [
    "<img src=images/span.webp width=700>\n",
    "\n",
    "https://learn.microsoft.com/en-us/dotnet/api/system.span-1\n",
    "- Provides a type-safe and memory-safe representation of a contiguous region of arbitrary memory\n",
    "    - arrays, strings, or unmanaged memory\n",
    "- Span of T allows us to work with slices of data without allocating additional memory or copying data\n",
    "- Its a ref struct\n",
    "    - Being ref struct; itself its stack only; but it can point to heap (or stack) memory"
   ]
  },
  {
   "cell_type": "code",
   "execution_count": null,
   "metadata": {
    "dotnet_interactive": {
     "language": "csharp"
    },
    "polyglot_notebook": {
     "kernelName": "csharp"
    },
    "vscode": {
     "languageId": "polyglot-notebook"
    }
   },
   "outputs": [],
   "source": [
    "ref struct Testing // i need to use ref structure for Interactive/Notebook\n",
    "{\n",
    "    public void Test()\n",
    "    {\n",
    "        Span<byte> span1 = stackalloc byte[2];\n",
    "\n",
    "        var arr = new byte[10];\n",
    "        Span<byte> span2 = arr; // Implicit cast from T[] to Span<T>\n",
    "        Span<byte> span3 = span2.Slice(start: 5, length: 2);\n",
    "    }\n",
    "}"
   ]
  },
  {
   "cell_type": "markdown",
   "metadata": {},
   "source": [
    "- String Manipulation\n",
    "- Data Parsing\n",
    "- High Performance Computing\n",
    "- Interoperateability with unmanaged code\n",
    "- Buffers and Pools\n",
    "    - Network, I/O etc\n",
    "\n",
    "__Where it doesnt work__\n",
    "- Async Code"
   ]
  },
  {
   "cell_type": "code",
   "execution_count": null,
   "metadata": {
    "dotnet_interactive": {
     "language": "csharp"
    },
    "polyglot_notebook": {
     "kernelName": "csharp"
    },
    "vscode": {
     "languageId": "polyglot-notebook"
    }
   },
   "outputs": [],
   "source": [
    "void ExtractNames(string fullName, out string firstName, out string lastName)\n",
    "{\n",
    "    int spaceIndex = fullName.IndexOf(' ');\n",
    "\n",
    "    if (spaceIndex == -1)\n",
    "    {\n",
    "        firstName = fullName;\n",
    "        lastName = string.Empty;\n",
    "    }\n",
    "    else\n",
    "    {\n",
    "        firstName = fullName.Substring(0, spaceIndex);\n",
    "        lastName = fullName.Substring(spaceIndex + 1);\n",
    "    }\n",
    "}\n",
    "\n",
    "string firstName, lastName;\n",
    "ExtractNames(\"Khurram Aziz\", out firstName, out lastName);\n",
    "Console.WriteLine($\"First Name: {firstName}, Last Name: {lastName}\");"
   ]
  },
  {
   "cell_type": "code",
   "execution_count": null,
   "metadata": {
    "dotnet_interactive": {
     "language": "csharp"
    },
    "polyglot_notebook": {
     "kernelName": "csharp"
    },
    "vscode": {
     "languageId": "polyglot-notebook"
    }
   },
   "outputs": [],
   "source": [
    "ref struct Testing()\n",
    "{\n",
    "    public static void ExtractNames(ReadOnlySpan<char> fullName, out ReadOnlySpan<char> firstName, out ReadOnlySpan<char> lastName)\n",
    "    {\n",
    "        int spaceIndex = fullName.IndexOf(' ');\n",
    "\n",
    "        if (spaceIndex == -1)\n",
    "        {\n",
    "            firstName = fullName;\n",
    "            lastName = ReadOnlySpan<char>.Empty;\n",
    "        }\n",
    "        else\n",
    "        {\n",
    "            firstName = fullName.Slice(0, spaceIndex);\n",
    "            lastName = fullName.Slice(spaceIndex + 1);\n",
    "        }\n",
    "    }\n",
    "\n",
    "    public static void Test()\n",
    "    {\n",
    "        var fullName = \"Khurram Aziz\";\n",
    "        ExtractNames(fullName.AsSpan(), out var firstName, out var lastName);\n",
    "        Console.WriteLine($\"First Name: {firstName}, Last Name: {lastName}\");\n",
    "    }\n",
    "}\n",
    "\n",
    "Testing.Test();"
   ]
  },
  {
   "cell_type": "code",
   "execution_count": null,
   "metadata": {
    "dotnet_interactive": {
     "language": "csharp"
    },
    "polyglot_notebook": {
     "kernelName": "csharp"
    },
    "vscode": {
     "languageId": "polyglot-notebook"
    }
   },
   "outputs": [],
   "source": [
    "void ExtractNames(ReadOnlyMemory<char> fullName, out ReadOnlyMemory<char> firstName, out ReadOnlyMemory<char> lastName)\n",
    "{\n",
    "    int spaceIndex = fullName.Span.IndexOf(' ');\n",
    "\n",
    "    if (spaceIndex == -1)\n",
    "    {\n",
    "        firstName = fullName;\n",
    "        lastName = ReadOnlyMemory<char>.Empty;\n",
    "    }\n",
    "    else\n",
    "    {\n",
    "        firstName = fullName.Slice(0, spaceIndex);\n",
    "        lastName = fullName.Slice(spaceIndex + 1);\n",
    "    }\n",
    "}\n",
    "\n",
    "var fullName = \"Khurram Aziz\";\n",
    "ExtractNames(fullName.AsMemory(), out var firstName, out var lastName);\n",
    "Console.WriteLine($\"First Name: {firstName}, Last Name: {lastName}\");"
   ]
  },
  {
   "cell_type": "code",
   "execution_count": null,
   "metadata": {
    "dotnet_interactive": {
     "language": "csharp"
    },
    "polyglot_notebook": {
     "kernelName": "csharp"
    },
    "vscode": {
     "languageId": "polyglot-notebook"
    }
   },
   "outputs": [],
   "source": [
    "using System.Numerics;\n",
    "\n",
    "class Tensor<T> where T : INumber<T>\n",
    "{\n",
    "    readonly Memory<T> data;\n",
    "    readonly int rows;\n",
    "    readonly int columns;\n",
    "\n",
    "    public Tensor(int rows, int columns)\n",
    "    {\n",
    "        this.rows = rows;\n",
    "        this.columns = columns;\n",
    "        this.data = new Memory<T>(new T[rows * columns]);\n",
    "    }\n",
    "\n",
    "    public Span<T> this[int column] => this.data.Span.Slice(column * rows, rows);\n",
    "\n",
    "    public void Print()\n",
    "    {\n",
    "        foreach(var v in this.data.Span)\n",
    "            Console.Write($\"{v}, \");\n",
    "        Console.WriteLine();\n",
    "    }\n",
    "\n",
    "    public void PrintColumn(int column)\n",
    "    {\n",
    "        foreach(var v in this[column])\n",
    "            Console.Write($\"{v}, \");\n",
    "        Console.WriteLine();\n",
    "    }\n",
    "\n",
    "    public void Add(int column, T value)\n",
    "    {\n",
    "        var span = this[column];\n",
    "        for(int i = 0; i < span.Length; i++)\n",
    "            span[i] += value;\n",
    "    }\n",
    "}\n",
    "\n",
    "var tensor = new Tensor<float>(rows: 4, columns: 2);\n",
    "tensor[0].Clear(); // resetting to 0\n",
    "tensor[1].Fill(10);\n",
    "tensor.Add(0, 5);\n",
    "\n",
    "tensor.Print();\n",
    "tensor.PrintColumn(0);\n",
    "tensor.PrintColumn(1);"
   ]
  },
  {
   "cell_type": "markdown",
   "metadata": {},
   "source": [
    "# 📖 Learning at Different Levels of Abstraction"
   ]
  },
  {
   "cell_type": "markdown",
   "metadata": {},
   "source": [
    "<img src=images/abstractions-ladder.png>"
   ]
  },
  {
   "cell_type": "markdown",
   "metadata": {},
   "source": [
    "<img src=images/abstractions-phone.jpg width=800>\n",
    "\n",
    "- Top / Down vs Bottom Up 👈\n",
    "- Disclaimer 👈"
   ]
  },
  {
   "cell_type": "markdown",
   "metadata": {},
   "source": [
    "# 🗞️ News"
   ]
  },
  {
   "cell_type": "markdown",
   "metadata": {},
   "source": [
    "__Nvidia__\n",
    "- https://developer.nvidia.com/embedded/jetson-nano\n",
    "- https://developer.nvidia.com/embedded/learn/get-started-jetson-nano-devkit 👈\n",
    "- https://www.nvidia.com/en-us/project-digits 👈\n",
    "\n",
    "__Open AI__\n",
    "- https://openai.com/index/introducing-openai-o1-preview\n",
    "    - https://openai.com/index/openai-o1-system-card\n",
    "    - https://openai.com/index/o1-and-new-tools-for-developers\n",
    "- https://openai.com/index/computer-using-agent 👈\n",
    "    - https://openai.com/index/introducing-operator\n",
    "    - https://openai.com/index/operator-system-card\n",
    "- o3 and o3 Mini\n",
    "\n",
    "__Microsoft__\n",
    "- https://techcommunity.microsoft.com/blog/aiplatformblog/introducing-phi-4-microsoft%E2%80%99s-newest-small-language-model-specializing-in-comple/4357090\n",
    "    - https://ollama.com/library/phi4\n",
    "\n",
    "__Anthropic__\n",
    "- https://www.anthropic.com/news/model-context-protocol\n",
    "- https://www.anthropic.com/news/developing-computer-use\n",
    "\n",
    "__Deep Seek__\n",
    "- v3 https://api-docs.deepseek.com/news/news1226\n",
    "    - https://ollama.com/library/deepseek-v3 404Gb 😲\n",
    "- App https://api-docs.deepseek.com/news/news250115\n",
    "- R1 https://api-docs.deepseek.com/news/news250120 👈\n",
    "    - https://ollama.com/library/deepseek-r1 1.1Gb - 404Gb 😲"
   ]
  },
  {
   "cell_type": "markdown",
   "metadata": {},
   "source": [
    "<img src=images/deepseek-r1-strawberry.png>"
   ]
  },
  {
   "cell_type": "markdown",
   "metadata": {},
   "source": [
    "# 🏁 Closing"
   ]
  },
  {
   "cell_type": "markdown",
   "metadata": {},
   "source": [
    "## 🔣 Models"
   ]
  },
  {
   "cell_type": "markdown",
   "metadata": {},
   "source": [
    "__Text Embedding Models__\n",
    "- all-minilm, all-MiniLM-L6-v2\n",
    "    - Best for lightweight, fast, and general-purpose use cases where resource efficiency is critical\n",
    "- nomic-embed-text\n",
    "    - A balanced choice for general-purpose tasks with a focus on transparency and ethical AI\n",
    "- mxbai-embed-text, nomic-embed-large\n",
    "    - Ideal for high-performance, multilingual, and complex tasks where accuracy and richness of embeddings are prioritized over speed and resource usage"
   ]
  },
  {
   "cell_type": "markdown",
   "metadata": {},
   "source": [
    "<img src=images/ollama-ls.png width=800>"
   ]
  },
  {
   "cell_type": "markdown",
   "metadata": {},
   "source": [
    "## 🏁🏁"
   ]
  },
  {
   "cell_type": "markdown",
   "metadata": {},
   "source": [
    "- Clinic RAG Scenario\n",
    "    - https://github.com/khurram-uworx/dotnetdebrief/blob/main/src/ChatBots/KernelMemoryQdrantRagSK.cs\n",
    "    - https://github.com/khurram-uworx/dotnetdebrief/blob/main/src/ChatBots/KernelMemoryPgRagSK.cs\n",
    "    - Llama cleverness providing fake data for function calls; Mistral was working as expected\n",
    "\n",
    "<img src=images/sk-tool-km.png>"
   ]
  },
  {
   "cell_type": "markdown",
   "metadata": {},
   "source": [
    "# 📚 Resources"
   ]
  },
  {
   "cell_type": "markdown",
   "metadata": {},
   "source": [
    "- https://github.com/khurram-uworx/dotnetdebrief/blob/main/src/ChatBots\n",
    "\n",
    "__eShop__\n",
    "- https://github.com/dotnet/eShop is a reference .NET application implementing an eCommerce site / microservices - containers and what not\n",
    "    - https://github.com/dotnet-architecture\n",
    "\n",
    "<img src=images/eshop-running.png><br>\n",
    "<img src=images/eshop-architecture.png width=900><br>\n",
    "\n",
    "__eShop Support__\n",
    "- https://devblogs.microsoft.com/dotnet/e-shop-infused-with-ai-comprehensive-intelligent-dotnet-app-sample\n",
    "- https://www.youtube.com/watch?v=yMGTUQhjtlM Enhancing Business Processes with .NET Aspire and Generative AI\n",
    "- https://github.com/dotnet/eShopSupport\n",
    "\n",
    "__.NET AI Samples__\n",
    "- https://github.com/dotnet/ai-samples\n",
    "\n",
    "__Azure Samples__\n",
    "- https://github.com/Azure-Samples\n",
    "- https://github.com/Azure-Samples/azure-ai A hub with a curated awesome list of all Azure AI samples\n",
    "    - https://github.com/Azure-Samples/openai\n",
    "    - https://github.com/Azure-Samples/azureai-samples\n",
    "\n",
    "__Microsoft Samples__\n",
    "- https://github.com/microsoft/samples-for-ai\n",
    "- https://learn.microsoft.com/en-us/windows/ai/samples"
   ]
  }
 ],
 "metadata": {
  "kernelspec": {
   "display_name": ".NET (C#)",
   "language": "C#",
   "name": ".net-csharp"
  },
  "language_info": {
   "codemirror_mode": {
    "name": "ipython",
    "version": 3
   },
   "file_extension": ".py",
   "mimetype": "text/x-python",
   "name": "python",
   "nbconvert_exporter": "python",
   "pygments_lexer": "ipython3",
   "version": "3.12.2"
  },
  "polyglot_notebook": {
   "kernelInfo": {
    "defaultKernelName": "csharp",
    "items": [
     {
      "aliases": [],
      "name": "csharp"
     },
     {
      "aliases": [],
      "languageName": "python",
      "name": "pythonkernel"
     },
     {
      "aliases": [],
      "languageName": "R",
      "name": "Rkernel"
     }
    ]
   }
  }
 },
 "nbformat": 4,
 "nbformat_minor": 2
}
