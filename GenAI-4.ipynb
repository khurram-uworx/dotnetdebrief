{
 "cells": [
  {
   "cell_type": "markdown",
   "metadata": {},
   "source": [
    "# 🔣 Models & Chatbots: Scene"
   ]
  },
  {
   "cell_type": "markdown",
   "metadata": {},
   "source": [
    "- __GPT__: One of the first models to popularize transformer architectures, setting the standard for modern large language models.\n",
    "- __Phi__: The first widely popular small language model optimized for lightweight deployment, suitable for laptops and even mobile devices.\n",
    "- __Mistral__: Known for its open-source commitment, state-of-the-art model efficiency, and fine-tuning capabilities, making it adaptable for various applications.\n",
    "- __LLaMA (Large Language Model Meta AI)__: Distinguished for being open-source and community-driven, with a focus on research accessibility and scalable fine-tuning on smaller datasets."
   ]
  },
  {
   "cell_type": "markdown",
   "metadata": {},
   "source": [
    "Desktop / Mobile Applications\n",
    "- ChatGPT, Copilot\n",
    "- Claude\n",
    "- Perplexity\n",
    "- Gemini (previously Bart)\n",
    "- Meta AI in WhatsApp, Facebook, Messenger, Instagram\n",
    "\n",
    "Web Chats\n",
    "- Mistral\n",
    "- Llama, Gemma (Google) and Phi (Microsoft) and others on Github\n",
    "\n",
    "APIs\n",
    "- __Vendor APIs__: Open AI for GPTs, Anthropic for Claude, Google for Gemini\n",
    "- __Cloud Services__: Azure AI, Amazon Bedrock, Google Cloud AI\n",
    "    - IBM Watson, Oracle\n",
    "    - https://azure.microsoft.com/en-us/products/ai-model-catalog\n",
    "    - https://docs.aws.amazon.com/bedrock/latest/userguide/models-supported.html\n",
    "- __Open Source Communities and Platforms__\n",
    "    - Hugging Face\n",
    "    - Github\n",
    "    - Others"
   ]
  },
  {
   "cell_type": "markdown",
   "metadata": {},
   "source": [
    "- https://platform.openai.com/docs/guides/structured-outputs\n",
    "    - https://devblogs.microsoft.com/semantic-kernel/using-json-schema-for-structured-output-in-net-for-openai-models\n",
    "    - https://ollama.com/blog/structured-outputs\n",
    "- https://platform.openai.com/docs/guides/function-calling"
   ]
  },
  {
   "cell_type": "markdown",
   "metadata": {},
   "source": [
    "<img src=images/ai-startup.jpg>"
   ]
  },
  {
   "cell_type": "markdown",
   "metadata": {},
   "source": [
    "Java\n",
    "- https://spring.io/projects/spring-ai\n",
    "\n",
    "Docker & LLMs\n",
    "- https://www.docker.com/blog/llm-docker-for-local-and-hugging-face-hosting"
   ]
  },
  {
   "cell_type": "markdown",
   "metadata": {},
   "source": [
    "# .NET 💖 RAG"
   ]
  },
  {
   "cell_type": "markdown",
   "metadata": {},
   "source": [
    "- https://learn.microsoft.com/en-us/dotnet/aspire/get-started/build-aspire-apps-with-python\n",
    "- https://devblogs.microsoft.com/semantic-kernel/introducing-new-ollama-connector-for-local-models\n",
    "- https://www.youtube.com/watch?v=yMGTUQhjtlM Enhancing Business Processes with .NET Aspire and Generative AI\n",
    "    - https://github.com/dotnet/eshopsupport\n",
    "- https://devblogs.microsoft.com/dotnet/openai-dotnet-library\n",
    "- https://devblogs.microsoft.com/semantic-kernel/introducing-aws-bedrock-with-semantic-kernel"
   ]
  },
  {
   "cell_type": "markdown",
   "metadata": {},
   "source": [
    "Project Repos\n",
    "- https://github.com/microsoft/kernel-memory\n",
    "    - https://github.com/orgs/microsoft/projects/866/views/1 Semantic Kernel Sprint\n",
    "\n",
    "Sample + Resource Repos\n",
    "- https://github.com/dotnet/ai-samples"
   ]
  },
  {
   "cell_type": "markdown",
   "metadata": {},
   "source": [
    "## Microsoft.Extensions.AI ✅"
   ]
  },
  {
   "cell_type": "markdown",
   "metadata": {},
   "source": [
    "- https://devblogs.microsoft.com/dotnet/introducing-microsoft-extensions-ai-preview\n",
    "- https://devblogs.microsoft.com/semantic-kernel/microsoft-extensions-ai-simplifying-ai-integration-for-net-partners/\n",
    "- https://learn.microsoft.com/en-us/dotnet/ai/ai-extensions 👈\n",
    "- https://github.com/dotnet/ai-samples/tree/main/src/microsoft-extensions-ai 👈\n",
    "- https://devblogs.microsoft.com/dotnet/e-shop-infused-with-ai-comprehensive-intelligent-dotnet-app-sample 👈\n",
    "- src / Chat Bots / AIExtensionTools 👈"
   ]
  },
  {
   "cell_type": "markdown",
   "metadata": {},
   "source": [
    "## Microsoft.Extensions.VectorData ✅"
   ]
  },
  {
   "cell_type": "markdown",
   "metadata": {},
   "source": [
    "- https://devblogs.microsoft.com/dotnet/introducing-microsoft-extensions-vector-data\n",
    "- https://devblogs.microsoft.com/semantic-kernel/microsoft-extensions-vectordata-abstractions-now-available\n",
    "- https://learn.microsoft.com/en-us/semantic-kernel/concepts/vector-store-connectors/out-of-the-box-connectors\n",
    "    - Azure AI Search, Cosmos DB\n",
    "    - In Memory, Volatile (In Memory)\n",
    "    - Elasticsearch, MongoDB, Pinecone, Qdrant, Redis, SQLLite, Weaviate\n",
    "    - Chroma, Milvis, Postgres, Sql Server coming soon"
   ]
  },
  {
   "cell_type": "markdown",
   "metadata": {},
   "source": [
    "## Semantic Kernel ✅"
   ]
  },
  {
   "cell_type": "markdown",
   "metadata": {},
   "source": [
    "- https://devblogs.microsoft.com/semantic-kernel/introducing-new-ollama-connector-for-local-models\n",
    "- https://devblogs.microsoft.com/semantic-kernel/observability-in-semantic-kernel\n",
    "- AWS Bedrock\n",
    "    - https://devblogs.microsoft.com/semantic-kernel/introducing-aws-bedrock-with-semantic-kernel\n",
    "- Function Calling ✅\n",
    "    - https://devblogs.microsoft.com/semantic-kernel/new-function-calling-model-available-in-net-for-semantic-kernel\n",
    "    - https://devblogs.microsoft.com/semantic-kernel/transforming-semantic-kernel-functions\n",
    "    - https://learn.microsoft.com/en-us/semantic-kernel/concepts/ai-services/chat-completion/function-calling\n",
    "- Memory ✅\n",
    "    - Now Vector Stores based\n",
    "    - https://devblogs.microsoft.com/semantic-kernel/unlocking-the-power-of-memory-announcing-general-availability-of-semantic-kernels-memory-packages\n",
    "- Text Search ✅\n",
    "    - https://learn.microsoft.com/en-us/semantic-kernel/concepts/text-search\n",
    "    - https://learn.microsoft.com/en-us/semantic-kernel/concepts/text-search/text-search-plugins\n",
    "- Filters\n",
    "    - https://devblogs.microsoft.com/semantic-kernel/announcing-the-ga-release-of-filters-for-net-and-python-in-semantic-kernel\n",
    "- __Agent Framework__\n",
    "    - https://learn.microsoft.com/en-us/semantic-kernel/frameworks/agent\n",
    "- __Process Framework__\n",
    "    - https://learn.microsoft.com/en-us/semantic-kernel/frameworks/process/process-framework\n",
    "    - https://devblogs.microsoft.com/semantic-kernel/integrating-ai-into-business-processes-with-the-process-framework\n",
    "        - https://devblogs.microsoft.com/semantic-kernel/process-framework-gets-python-support-and-more"
   ]
  },
  {
   "cell_type": "markdown",
   "metadata": {},
   "source": [
    "__Projects__\n",
    "- https://github.com/jvargh/VCSM; Virtual Customer Success Manager\n",
    "    - https://devblogs.microsoft.com/semantic-kernel/microsoft-hackathon-virtual-customer-success-manager-vcsm-using-semantic-kernel\n",
    "__Resources__\n",
    "- - https://devblogs.microsoft.com/semantic-kernel/managing-chat-history-for-large-language-models-llms"
   ]
  },
  {
   "cell_type": "markdown",
   "metadata": {},
   "source": [
    "## Kernel Memory ✅"
   ]
  },
  {
   "cell_type": "markdown",
   "metadata": {},
   "source": [
    "- https://github.com/microsoft/kernel-memory\n",
    "- https://www.youtube.com/watch?v=GW6ZkGvtREA\n",
    "- https://github.com/MaxAkbar/ChatWithAKnowledgeBase/blob/main/ChatWithAKnowledgeBase/Program.cs"
   ]
  },
  {
   "cell_type": "markdown",
   "metadata": {},
   "source": [
    "## AutoGen"
   ]
  },
  {
   "cell_type": "markdown",
   "metadata": {},
   "source": [
    "Python first; .NET later\n",
    "\n",
    "- https://microsoft.github.io/autogen/0.2/blog/2024/10/02/new-autogen-architecture-preview\n",
    "- https://devblogs.microsoft.com/autogen/microsofts-agentic-frameworks-autogen-and-semantic-kernel\n",
    "- https://devblogs.microsoft.com/semantic-kernel/autogen-agents-meet-semantic-kernel\n",
    "\n",
    "Magentic One\n",
    "- https://www.microsoft.com/en-us/research/articles/magentic-one-a-generalist-multi-agent-system-for-solving-complex-tasks\n",
    "- Code: https://github.com/microsoft/autogen/tree/main/python/packages/autogen-magentic-one"
   ]
  },
  {
   "cell_type": "markdown",
   "metadata": {},
   "source": [
    "## Others"
   ]
  },
  {
   "cell_type": "markdown",
   "metadata": {},
   "source": [
    "__Smart Components__\n",
    "- https://github.com/dotnet/smartcomponents\n",
    "- https://devblogs.microsoft.com/dotnet/join-the-dotnet-smart-components-ecosystem"
   ]
  },
  {
   "cell_type": "markdown",
   "metadata": {},
   "source": [
    "__TinyTroupe__\n",
    "- https://github.com/microsoft/TinyTroupe\n",
    "    - \"experimental Python library that allows the simulation of people with specific personalities, interests, and goals\"\n",
    "    - https://techcommunity.microsoft.com/blog/machinelearningblog/the-evolution-of-ai-frameworks-understanding-microsofts-latest-multi-agent-syste/4339739"
   ]
  },
  {
   "cell_type": "markdown",
   "metadata": {},
   "source": [
    "# 🖥️ Claude AI: Computer Use"
   ]
  },
  {
   "cell_type": "markdown",
   "metadata": {},
   "source": [
    "## Claude AI"
   ]
  },
  {
   "cell_type": "markdown",
   "metadata": {},
   "source": [
    "Proprietary like GPT/o1\n",
    "Famous for larger context and first in market features like Canvas/Document and MCP\n",
    "- https://www.anthropic.com/news/tool-use-ga"
   ]
  },
  {
   "cell_type": "markdown",
   "metadata": {},
   "source": [
    "__Client SDKs__\n",
    "- https://docs.anthropic.com/en/api/client-sdks\n",
    "- https://github.com/tghamm/Anthropic.SDK 👈\n",
    "    - https://www.nuget.org/packages/Anthropic.SDK\n",
    "- https://github.com/veerashayyagari/anthropic-sdk-dotnet\n",
    "    - https://www.nuget.org/packages/LLMSharp.Anthropic\n",
    "- https://github.com/StevanFreeborn/anthropic-client\n",
    "    - https://www.nuget.org/packages/AnthropicClient\n",
    "- https://github.com/tryAGI/Anthropic\n",
    "    - https://www.nuget.org/packages/Anthropic\n",
    "\n",
    "__Microsoft AI Frameworks__\n",
    "- https://www.nuget.org/packages/Lost.SemanticKernel.Connectors.Anthropic\n",
    "- https://www.nuget.org/packages/Microsoft.KernelMemory.AI.Anthropic\n",
    "- https://www.nuget.org/packages/AutoGen.Anthropic"
   ]
  },
  {
   "cell_type": "markdown",
   "metadata": {},
   "source": [
    "## Computer Use"
   ]
  },
  {
   "cell_type": "markdown",
   "metadata": {},
   "source": [
    "<img src=images/llm-tuning.png>"
   ]
  },
  {
   "cell_type": "markdown",
   "metadata": {},
   "source": [
    "- https://ai.meta.com/blog/llama-3-2-connect-2024-vision-edge-mobile-devices\n",
    "    - https://ollama.com/library/llama3.2-vision\n",
    "- https://www.microsoft.com/en-us/research/blog/orca-2-teaching-small-language-models-how-to-reason\n",
    "    - https://ollama.com/library/orca2"
   ]
  },
  {
   "cell_type": "markdown",
   "metadata": {},
   "source": [
    "__Claude AI Computer Use Tool__\n",
    "- https://www.anthropic.com/news/3-5-models-and-computer-use\n",
    "    - https://www.anthropic.com/news/developing-computer-use\n",
    "    - https://www.youtube.com/watch?v=jqx18KgIzAE Claude | Computer use for orchestrating tasks\n",
    "- https://www.anthropic.com/news/model-context-protocol"
   ]
  },
  {
   "cell_type": "markdown",
   "metadata": {},
   "source": [
    "## Demo"
   ]
  },
  {
   "cell_type": "markdown",
   "metadata": {},
   "source": [
    "<img src=images/computer-use-chat-loop.png>"
   ]
  },
  {
   "cell_type": "markdown",
   "metadata": {},
   "source": [
    "__Computer Use Demo__\n",
    "- Anthropic SDK\n",
    "- SharpHook\n",
    "    - Keyboard and Mouse hooks; wrapper of https://github.com/TolikPylypchuk/libuiohook\n",
    "    - https://sharphook.tolik.io\n",
    "    - https://github.com/TolikPylypchuk/SharpHook\n",
    "    - https://www.nuget.org/packages/SharpHook\n",
    "- SixLabors ImageSharp\n",
    "    - 2D Graphics library\n",
    "    - https://sixlabors.com/products/imagesharp\n",
    "    - https://github.com/SixLabors/ImageSharp\n",
    "    - https://www.nuget.org/packages/SixLabors.ImageSharp\n",
    "- System.Drawing.Common\n",
    "    - For .NET 6+ applications to access GDI+ graphics functionality\n",
    "    - https://www.nuget.org/packages/system.drawing.common\n",
    "- src / ComputerUse (GenAI.sln) 👈"
   ]
  },
  {
   "cell_type": "markdown",
   "metadata": {},
   "source": [
    "<img src=images/computer-use-tokens.jpg width=900><br>\n",
    "<img src=images/computer-use-cost.jpg width=900>"
   ]
  }
 ],
 "metadata": {
  "kernelspec": {
   "display_name": ".NET (C#)",
   "language": "C#",
   "name": ".net-csharp"
  },
  "language_info": {
   "codemirror_mode": {
    "name": "ipython",
    "version": 3
   },
   "file_extension": ".py",
   "mimetype": "text/x-python",
   "name": "python",
   "nbconvert_exporter": "python",
   "pygments_lexer": "ipython3",
   "version": "3.12.2"
  },
  "polyglot_notebook": {
   "kernelInfo": {
    "defaultKernelName": "csharp",
    "items": [
     {
      "aliases": [],
      "name": "csharp"
     },
     {
      "aliases": [],
      "languageName": "python",
      "name": "pythonkernel"
     },
     {
      "aliases": [],
      "languageName": "R",
      "name": "Rkernel"
     }
    ]
   }
  }
 },
 "nbformat": 4,
 "nbformat_minor": 2
}
