{
 "cells": [
  {
   "cell_type": "markdown",
   "metadata": {},
   "source": [
    "# 📐 Vectors"
   ]
  },
  {
   "cell_type": "markdown",
   "metadata": {},
   "source": [
    "## Overview"
   ]
  },
  {
   "cell_type": "markdown",
   "metadata": {},
   "source": [
    "### System.Numerics : SIMD"
   ]
  },
  {
   "cell_type": "markdown",
   "metadata": {},
   "source": [
    "https://devblogs.microsoft.com/dotnet/dotnet-8-hardware-intrinsics\n",
    "\n",
    "- This is a SIMD-enabled (Single Instruction Multiple Data) structure in System.Numerics\n",
    "- It represents a fixed-size vector of primitive numeric types (like int, float, double)\n",
    "- The size is determined by the hardware's SIMD capabilities\n",
    "- It's primarily designed for high-performance numeric computations\n",
    "- Software Fallback"
   ]
  },
  {
   "cell_type": "code",
   "execution_count": null,
   "metadata": {
    "dotnet_interactive": {
     "language": "csharp"
    },
    "polyglot_notebook": {
     "kernelName": "csharp"
    },
    "vscode": {
     "languageId": "polyglot-notebook"
    }
   },
   "outputs": [],
   "source": [
    "using System.Numerics;\n",
    "\n",
    "Console.WriteLine($\"{Vector<int>.Count}\");\n",
    "Console.WriteLine($\"{Vector<float>.Count}\");\n",
    "\n",
    "Console.WriteLine($\"{Vector<double>.Count}\");\n",
    "Console.WriteLine($\"{Vector<long>.Count}\");\n",
    "\n",
    "// Vector for decimal, bool not possible; why ?"
   ]
  },
  {
   "cell_type": "markdown",
   "metadata": {},
   "source": [
    "### System.Runtime.Intrinsics"
   ]
  },
  {
   "cell_type": "markdown",
   "metadata": {},
   "source": [
    "- https://devblogs.microsoft.com/dotnet/dotnet-8-hardware-intrinsics/\n",
    "- [2019] .NET Core 3: https://devblogs.microsoft.com/dotnet/hardware-intrinsics-in-net-core\n",
    "    - Vector128, Vector256, Sse, Sse2, Sse3, Sse41, Sse42, Avx, Avx2, Fma, Bmi1, Bmi2, Lzcnt, Popcnt, Aes, and Pclmul for x86/x64\n",
    "- [2020] .NET 5: https://devblogs.microsoft.com/dotnet/announcing-net-5-0-preview-7\n",
    "    - Vector64, AdvSimd, ArmBase, Dp, Rdm, Aes, Crc32, Sha1, and Sha256 for Arm/Arm64\n",
    "- [2021] .NET 6: https://devblogs.microsoft.com/dotnet/performance-improvements-in-net-6\n",
    "    - AvxVnni\n",
    "    - System.Numerics uses System.Runtime.Intrinsics\n",
    "- [2020] .NET 7: https://devblogs.microsoft.com/dotnet/performance_improvements_in_net_7\n",
    "    - Vector64, Vector128, Vector256 and Vector<T> enhancements, X86Serialize\n",
    "- [2021] .NET 8: https://devblogs.microsoft.com/dotnet/dotnet-8-hardware-intrinsics\n",
    "    - PackedSimd, WasmBase, Vector512<T>, Avx512F, Avx512BW, Avx512CD, Avx512DQ, and Avx512Vbmi\n",
    "    - Wasm and Avx512"
   ]
  },
  {
   "cell_type": "code",
   "execution_count": null,
   "metadata": {
    "dotnet_interactive": {
     "language": "csharp"
    },
    "polyglot_notebook": {
     "kernelName": "csharp"
    },
    "vscode": {
     "languageId": "polyglot-notebook"
    }
   },
   "outputs": [],
   "source": [
    "System.Runtime.Intrinsics.Vector512.IsHardwareAccelerated"
   ]
  },
  {
   "cell_type": "code",
   "execution_count": null,
   "metadata": {
    "dotnet_interactive": {
     "language": "csharp"
    },
    "polyglot_notebook": {
     "kernelName": "csharp"
    },
    "vscode": {
     "languageId": "polyglot-notebook"
    }
   },
   "outputs": [],
   "source": [
    "using System.Numerics;\n",
    "using System.Runtime.Intrinsics;\n",
    "\n",
    "Console.WriteLine($\"Vector128 of int:\\t{Vector128<int>.Count}\");\n",
    "Console.WriteLine($\"Vector256 of int:\\t{Vector256<int>.Count}\");\n",
    "Console.WriteLine($\"Vector512 of int:\\t{Vector512<int>.Count}\");\n",
    "\n",
    "Console.WriteLine($\"Vector of int:\\t\\t{Vector<int>.Count}\");"
   ]
  },
  {
   "cell_type": "markdown",
   "metadata": {},
   "source": [
    "### Advanced Vector Extensions (AVX and AVX2)"
   ]
  },
  {
   "cell_type": "code",
   "execution_count": null,
   "metadata": {
    "dotnet_interactive": {
     "language": "csharp"
    },
    "polyglot_notebook": {
     "kernelName": "csharp"
    },
    "vscode": {
     "languageId": "polyglot-notebook"
    }
   },
   "outputs": [],
   "source": [
    "using System.Runtime.Intrinsics;\n",
    "using System.Runtime.Intrinsics.X86;\n",
    "\n",
    "var vec1 = Vector256.Create(1, 2, 3, 4, 5, 6, 7, 8);\n",
    "var vec2 = Vector256.Create(8, 7, 6, 5, 4, 3, 2, 1);\n",
    "Vector256<int> resultAdd = Avx2.Add(vec1, vec2);\n",
    "\n",
    "Console.WriteLine(\"Addition:\");\n",
    "for (int i = 0; i < Vector256<int>.Count; i++)\n",
    "    Console.Write(resultAdd.GetElement(i) + \" \");\n",
    "Console.WriteLine();"
   ]
  },
  {
   "cell_type": "code",
   "execution_count": null,
   "metadata": {
    "dotnet_interactive": {
     "language": "csharp"
    },
    "polyglot_notebook": {
     "kernelName": "csharp"
    },
    "vscode": {
     "languageId": "polyglot-notebook"
    }
   },
   "outputs": [],
   "source": [
    "using System.Runtime.Intrinsics;\n",
    "using System.Runtime.Intrinsics.X86;\n",
    "\n",
    "if (Avx2.IsSupported)"
   ]
  },
  {
   "cell_type": "markdown",
   "metadata": {},
   "source": [
    "### Resources"
   ]
  },
  {
   "cell_type": "markdown",
   "metadata": {},
   "source": [
    "- - https://devblogs.microsoft.com/dotnet/using-net-hardware-intrinsics-api-to-accelerate-machine-learning-scenarios"
   ]
  },
  {
   "cell_type": "markdown",
   "metadata": {},
   "source": [
    "## Usage: Monte Carlo Method"
   ]
  },
  {
   "cell_type": "markdown",
   "metadata": {},
   "source": [
    "- https://en.wikipedia.org/wiki/Monte_Carlo_method"
   ]
  },
  {
   "cell_type": "markdown",
   "metadata": {},
   "source": [
    "### Pi"
   ]
  },
  {
   "cell_type": "code",
   "execution_count": null,
   "metadata": {
    "dotnet_interactive": {
     "language": "csharp"
    },
    "polyglot_notebook": {
     "kernelName": "csharp"
    },
    "vscode": {
     "languageId": "polyglot-notebook"
    }
   },
   "outputs": [],
   "source": [
    "using System.Numerics;\n",
    "\n",
    "double EstimatePi()\n",
    "{\n",
    "    Random random = new Random();\n",
    "\n",
    "    double totalPoints = 1_000_000_000;\n",
    "    int batchSize = Vector<float>.Count;\n",
    "    Vector<float> ones = new Vector<float>(1.0f);\n",
    "\n",
    "    Span<float> xSpan = stackalloc float[batchSize];\n",
    "    Span<float> ySpan = stackalloc float[batchSize];\n",
    "    double insideCircle = 0;\n",
    "\n",
    "    for (double i = 0; i < totalPoints; i += batchSize)\n",
    "    {\n",
    "        for (int j = 0; j < batchSize; j++)\n",
    "        {\n",
    "            xSpan[j] = (float)random.NextDouble();\n",
    "            ySpan[j] = (float)random.NextDouble();\n",
    "        }\n",
    "\n",
    "        Vector<float> xVector = new Vector<float>(xSpan);\n",
    "        Vector<float> yVector = new Vector<float>(ySpan);\n",
    "\n",
    "        Vector<float> distanceSquared = xVector * xVector + yVector * yVector;\n",
    "        Vector<int> inside = Vector.LessThanOrEqual(distanceSquared, ones);\n",
    "        insideCircle += Vector.Dot(inside, Vector<int>.One);\n",
    "    }\n",
    "\n",
    "    return Math.Abs(4.0f * insideCircle / totalPoints);\n",
    "}\n",
    "\n",
    "double pi = EstimatePi();\n",
    "Console.WriteLine($\"Estimated value of π: {pi} and we are off by {Math.Abs(Math.PI - pi)}\");"
   ]
  },
  {
   "cell_type": "code",
   "execution_count": null,
   "metadata": {
    "dotnet_interactive": {
     "language": "csharp"
    },
    "polyglot_notebook": {
     "kernelName": "csharp"
    },
    "vscode": {
     "languageId": "polyglot-notebook"
    }
   },
   "outputs": [],
   "source": [
    "using System.Numerics;\n",
    "using System.Threading;\n",
    "using System.Threading.Tasks;\n",
    "\n",
    "double EstimatePiParallel()\n",
    "{\n",
    "    long totalPoints = 1_000_000_000;\n",
    "    int batchSize = Vector<float>.Count;\n",
    "    int numTasks = Environment.ProcessorCount;\n",
    "\n",
    "    Vector<float> ones = new Vector<float>(1.0f);\n",
    "    long insideCircle = 0;\n",
    "\n",
    "    Parallel.For(0, numTasks, taskIndex =>\n",
    "    {\n",
    "        Random random = new Random(taskIndex);\n",
    "        long taskInsideCircle = 0;\n",
    "        Span<float> xSpan = stackalloc float[batchSize];\n",
    "        Span<float> ySpan = stackalloc float[batchSize];\n",
    "\n",
    "        long pointsPerTask = totalPoints / numTasks;\n",
    "\n",
    "        for (int i = 0; i < pointsPerTask; i += batchSize)\n",
    "        {\n",
    "            for (int j = 0; j < batchSize; j++)\n",
    "            {\n",
    "                xSpan[j] = (float)random.NextDouble();\n",
    "                ySpan[j] = (float)random.NextDouble();\n",
    "            }\n",
    "\n",
    "            Vector<float> xVector = new Vector<float>(xSpan);\n",
    "            Vector<float> yVector = new Vector<float>(ySpan);\n",
    "\n",
    "            Vector<float> distanceSquared = xVector * xVector + yVector * yVector;\n",
    "            Vector<int> inside = Vector.LessThanOrEqual(distanceSquared, ones);\n",
    "            taskInsideCircle += Vector.Dot(inside, Vector<int>.One);\n",
    "        }\n",
    "\n",
    "        Interlocked.Add(ref insideCircle, taskInsideCircle);\n",
    "    });\n",
    "\n",
    "    return Math.Abs(4.0f * insideCircle / totalPoints);\n",
    "}\n",
    "\n",
    "double pi = EstimatePiParallel();\n",
    "Console.WriteLine($\"Estimated value of π: {pi} and we are off by {Math.Abs(Math.PI - pi):F20}\");\n"
   ]
  },
  {
   "cell_type": "markdown",
   "metadata": {},
   "source": [
    "### Box Muller Transform"
   ]
  },
  {
   "cell_type": "markdown",
   "metadata": {},
   "source": [
    "- https://en.wikipedia.org/wiki/Box%E2%80%93Muller_transform"
   ]
  },
  {
   "cell_type": "code",
   "execution_count": null,
   "metadata": {
    "dotnet_interactive": {
     "language": "csharp"
    },
    "polyglot_notebook": {
     "kernelName": "csharp"
    },
    "vscode": {
     "languageId": "polyglot-notebook"
    }
   },
   "outputs": [],
   "source": [
    "using System.Runtime.Intrinsics;\n",
    "using System.Runtime.Intrinsics.X86;\n",
    "\n",
    "static Random random = new Random();\n",
    "\n",
    "static double GenerateGaussianNumber()  // Gaussian Random Number\n",
    "{                                       // Gaussian distrubtion aka Normal distribution \n",
    "    // Box-Muller Transform\n",
    "    double u1 = 1.0 - random.NextDouble();\n",
    "    double u2 = 1.0 - random.NextDouble();\n",
    "    return Math.Sqrt(-2.0 * Math.Log(u1)) * Math.Cos(2.0 * Math.PI * u2);\n",
    "}\n",
    "\n",
    "static Vector256<double> GenerateGaussianVectorBoxMuller()\n",
    "{\n",
    "    // Generate two batches of random numbers\n",
    "    double[] array1 = new double[Vector256<double>.Count];\n",
    "    double[] array2 = new double[Vector256<double>.Count];\n",
    "    for (int i = 0; i < Vector256<double>.Count; i++)\n",
    "    {\n",
    "        array1[i] = 1.0 - (double)random.NextDouble();\n",
    "        array2[i] = 1.0 - (double)random.NextDouble();\n",
    "    }\n",
    "\n",
    "    unsafe\n",
    "    {\n",
    "        fixed (double* a1Ptr = array1, a2Ptr = array2)\n",
    "        {\n",
    "            // Load the random numbers into vectors.\n",
    "            var u1 = Avx.LoadVector256(a1Ptr);\n",
    "            var u2 = Avx.LoadVector256(a2Ptr);\n",
    "\n",
    "            // Apply the Box-Muller transform.\n",
    "            var r = Avx2.Sqrt(-2.0f * Avx2.Log(u1));\n",
    "            var theta = 2.0f * (float)Math.PI * u2;\n",
    "            var z0 = r * Avx2.Cos(theta);\n",
    "            return z0;\n",
    "        }\n",
    "    }\n",
    "}\n",
    "\n",
    "//MathNet.Numerics.Distributions.Normal normal\n",
    "//double mean = 0,double std = .01\n",
    "//normal = new MathNet.Numerics.Distributions.Normal(mean,std);\n",
    "//return normal.Sample();"
   ]
  },
  {
   "cell_type": "markdown",
   "metadata": {},
   "source": [
    "### Ziggurat Algorithm"
   ]
  },
  {
   "cell_type": "markdown",
   "metadata": {},
   "source": [
    "__Vector Operations Required for Ziggurat__\n",
    "\n",
    "| Operation | Purpose | Available in AVX2? | Notes |\n",
    "| --- | --- | --- | --- |\n",
    "| Addition/Subtraction | Basic arithmetic on vectors | ✅ Yes | Supported directly in AVX2 |\n",
    "| Multiplication/Division | Scaling or normalization | ✅ Yes | Supported directly in AVX2 |\n",
    "| Comparison (<, >, =) | Acceptance/rejection logic | ✅ Yes\t| Available through Avx2.Compare |\n",
    "| Random Number Generation | Uniform sampling in [-1,1] | ❌ No | Needs to be implemented externally |\n",
    "| Absolute Value | For comparing magnitude of samples | ✅ Yes | Available via Avx.AndNot or similar |\n",
    "| Logarithm (log) | For fallback sampling outside ziggurat | ❌ No | Not available natively in AVX2 |\n",
    "| Exponential (exp) | For fallback in rejection sampling | ❌ No | Needs approximation or external function |"
   ]
  },
  {
   "cell_type": "markdown",
   "metadata": {},
   "source": [
    "### Marsaglia Polar Method"
   ]
  },
  {
   "cell_type": "markdown",
   "metadata": {},
   "source": [
    "- https://en.wikipedia.org/wiki/Marsaglia_polar_method"
   ]
  },
  {
   "cell_type": "code",
   "execution_count": null,
   "metadata": {
    "dotnet_interactive": {
     "language": "csharp"
    },
    "polyglot_notebook": {
     "kernelName": "csharp"
    },
    "vscode": {
     "languageId": "polyglot-notebook"
    }
   },
   "outputs": [],
   "source": [
    "using System.Runtime.Intrinsics;\n",
    "using System.Runtime.Intrinsics.X86;\n",
    "\n",
    "Random random = new Random();\n",
    "\n",
    "double[] GenerateRandomArray(int size)\n",
    "{\n",
    "    var result = new double[size];\n",
    "    for (int i = 0; i < size; i++)\n",
    "        result[i] = 2.0 * random.NextDouble() - 1.0; // Generate numbers in [-1,1]\n",
    "    return result;\n",
    "}\n",
    "\n",
    "IEnumerable<Vector256<double>> GenerateGaussianVectorMarsaglia(int batchSize)\n",
    "{\n",
    "    var zero = Vector256.Create(0.0);\n",
    "    var one = Vector256.Create(1.0);\n",
    "    var rsqrt2 = Vector256.Create(Math.Sqrt(2.0));\n",
    "    int count = 0;\n",
    "\n",
    "    while (count <= batchSize)\n",
    "    {\n",
    "        Vector256<double> x, y, s, invalidMask;\n",
    "\n",
    "        do\n",
    "        {\n",
    "            // Generate random vectors\n",
    "            x = Vector256.Create(GenerateRandomArray(Vector256<double>.Count));\n",
    "            y = Vector256.Create(GenerateRandomArray(Vector256<double>.Count));\n",
    "\n",
    "            // Calculate x² + y²\n",
    "            s = Avx.Add(Avx.Multiply(x, x), Avx.Multiply(y, y));\n",
    "\n",
    "            // Check if all pairs are within the unit circle\n",
    "            // We'll need to check each element since we can't do a vector comparison directly\n",
    "            // s.GetElement(0) >= 1.0 || s.GetElement(1) >= 1.0 || \n",
    "            // s.GetElement(2) >= 1.0 || s.GetElement(3) >= 1.0 || \n",
    "            // s.GetElement(0) == 0.0 || s.GetElement(1) == 0.0 || \n",
    "            // s.GetElement(2) == 0.0 || s.GetElement(3) == 0.0\n",
    "\n",
    "            // Determine invalid mask\n",
    "            var greaterOrEqualOne = Avx.CompareGreaterThanOrEqual(s, one);\n",
    "            var equalZero = Avx.CompareEqual(s, zero);\n",
    "            invalidMask = Avx.Or(greaterOrEqualOne, equalZero);\n",
    "        } while (Avx.MoveMask(invalidMask) != 0);\n",
    "\n",
    "        // Calculate multiplier\n",
    "        var multiplier = Avx.Divide(rsqrt2, Avx.Sqrt(s));\n",
    "\n",
    "        // Generate two sets of normal random numbers\n",
    "        if (count <= batchSize)\n",
    "        {\n",
    "            yield return Avx.Multiply(x, multiplier);\n",
    "            count++;\n",
    "        }\n",
    "        if (count <= batchSize)\n",
    "        {\n",
    "            yield return Avx.Multiply(y, multiplier);\n",
    "            count++;\n",
    "        }\n",
    "    }\n",
    "}\n",
    "\n",
    "static IEnumerable<T> ToEnumerable<T>(this Vector256<T> vector)\n",
    "{\n",
    "    for (int i = 0; i < Vector256<T>.Count; i++)\n",
    "        yield return vector.GetElement(i);\n",
    "}\n",
    "\n",
    "int vectorCount = 5000;\n",
    "var randomNumbers = GenerateGaussianVectorMarsaglia(vectorCount)\n",
    "    .SelectMany(v => v.ToEnumerable()).ToArray();\n",
    "\n",
    "// Some LINQ\n",
    "var duplicateCount = randomNumbers\n",
    "    .GroupBy(n => n)\n",
    "    .Where(group => group.Count() > 1)\n",
    "    .Sum(group => group.Count() - 1);\n",
    "Console.WriteLine($\"Duplicate numbers: {duplicateCount}\");\n",
    "// Some statistics\n",
    "\n",
    "var mean = randomNumbers.Average();\n",
    "var stdDev = Math.Sqrt(randomNumbers.Average(n => Math.Pow(n - mean, 2)));\n",
    "Console.WriteLine($\"Mean: {mean}, StdDev: {stdDev}\");"
   ]
  },
  {
   "cell_type": "markdown",
   "metadata": {},
   "source": [
    "### Conclusions"
   ]
  },
  {
   "cell_type": "markdown",
   "metadata": {},
   "source": [
    "- Marsaglia; we have to check if number is hit or miss; in Ziggurat misses are rare\n",
    "- Algorithms need to be scalable; from Vector256 to Vector512 for instance\n",
    "- AVX should have random number generator\n",
    "- AVX doesnt have logs and exponentials\n",
    "    - We can probably try approximation; Taylor Series, Polynomial Fittings\n",
    "- Vector of T using Vector512 where available, common APIs/operations there are limitied\n",
    "- Intel's Short Vector Math Library"
   ]
  },
  {
   "cell_type": "code",
   "execution_count": null,
   "metadata": {
    "dotnet_interactive": {
     "language": "csharp"
    },
    "polyglot_notebook": {
     "kernelName": "csharp"
    },
    "vscode": {
     "languageId": "polyglot-notebook"
    }
   },
   "outputs": [],
   "source": [
    "static Vector256<double> LogApprox(Vector256<double> x)\n",
    "{\n",
    "    Vector256<double> one = Vector256.Create(1.0);\n",
    "    Vector256<double> term = Avx2.Subtract(x, one);\n",
    "    Vector256<double> result = term; // Linear approximation\n",
    "    result = Avx2.Add(result, Avx2.Multiply(term, term)); // Higher-order terms if needed\n",
    "    return result;\n",
    "}"
   ]
  },
  {
   "cell_type": "code",
   "execution_count": null,
   "metadata": {
    "dotnet_interactive": {
     "language": "csharp"
    },
    "polyglot_notebook": {
     "kernelName": "csharp"
    },
    "vscode": {
     "languageId": "polyglot-notebook"
    }
   },
   "outputs": [],
   "source": [
    "using System.Runtime.Intrinsics;\n",
    "using System.Runtime.Intrinsics.X86;\n",
    "\n",
    "static Vector256<float> ComputeLog(Vector256<float> values)\n",
    "{\n",
    "    if (Avx2.IsSupported)\n",
    "    {\n",
    "        Vector256<float> one = Vector256.Create(1.0f);\n",
    "        Vector256<float> result = Vector256.Create(0.0f);\n",
    "        Vector256<float> current = values;\n",
    "\n",
    "        for (int i = 0; i < 10; i++)\n",
    "        {\n",
    "            current = Avx.Multiply(current, Avx.Reciprocal(current));\n",
    "            result = Avx.Add(result, Avx.Subtract(current, one));\n",
    "        }\n",
    "\n",
    "        return result;\n",
    "    }\n",
    "    else\n",
    "        throw new PlatformNotSupportedException(\"AVX2 is not supported on this machine.\");\n",
    "}\n",
    "\n",
    "static void PrintVector(Vector256<float> vector)\n",
    "{\n",
    "    float[] values = new float[8];\n",
    "    vector.CopyTo(values);\n",
    "    Console.WriteLine(string.Join(\", \", values.Select(v => v.ToString(\"F6\"))));\n",
    "}"
   ]
  },
  {
   "cell_type": "markdown",
   "metadata": {},
   "source": [
    "## Stochastic Thinking"
   ]
  },
  {
   "cell_type": "markdown",
   "metadata": {},
   "source": [
    "__MIT Lectures: Introduction to Computational Thinking and Data Science__\n",
    "\n",
    "- https://www.youtube.com/watch?v=-1BnXEwHUok Stochastic Thinking\n",
    "- https://www.youtube.com/watch?v=6wUD_gp5WeE Random Walks\n",
    "- https://www.youtube.com/watch?v=OgO1gpXSUzU Monte Carlo Simulation"
   ]
  },
  {
   "cell_type": "markdown",
   "metadata": {},
   "source": [
    "### Geometric Brownian Motion (GBM)"
   ]
  },
  {
   "cell_type": "markdown",
   "metadata": {},
   "source": [
    "- https://en.wikipedia.org/wiki/Call_option\n",
    "- https://en.wikipedia.org/wiki/Option_style\n",
    "\n",
    "- https://en.wikipedia.org/wiki/Geometric_Brownian_motion\n",
    "We’ll focus on simulating random walks for asset prices and computing the payoff of a European call option\n",
    "\n",
    "- Black-Scholes model with Monte Carlo simulation\n",
    "    - https://en.wikipedia.org/wiki/Black%E2%80%93Scholes_model"
   ]
  },
  {
   "cell_type": "markdown",
   "metadata": {},
   "source": [
    "__GBM Formula__\n",
    "\n",
    "<img src=images/gbm-1.png width=700>\n",
    "\n",
    "__Payoff__\n",
    "\n",
    "<img src=images/gbm-2.png width=700>"
   ]
  },
  {
   "cell_type": "code",
   "execution_count": null,
   "metadata": {
    "dotnet_interactive": {
     "language": "csharp"
    },
    "polyglot_notebook": {
     "kernelName": "csharp"
    },
    "vscode": {
     "languageId": "polyglot-notebook"
    }
   },
   "outputs": [],
   "source": [
    "using System.Numerics;\n",
    "\n",
    "Random random = new Random();\n",
    "\n",
    "double GenerateGaussianNumber()  // Gaussian Random Number\n",
    "{                                       // Gaussian distrubtion aka Normal distribution \n",
    "    // Box-Muller Transform\n",
    "    double u1 = 1.0 - random.NextDouble();\n",
    "    double u2 = 1.0 - random.NextDouble();\n",
    "    return Math.Sqrt(-2.0 * Math.Log(u1)) * Math.Cos(2.0 * Math.PI * u2);\n",
    "}\n",
    "\n",
    "// Bitcoin option pricing parameters \n",
    "double initialPrice = 70000;    // Bitcoin initial price (S0)\n",
    "double strikePrice = 100000;    // Strike price for the call option (K)\n",
    "double riskFreeRate = 0.05;     // Risk-free rate (r)\n",
    "double volatility = 0.7;        // Volatility of Bitcoin (σ)\n",
    "double timeToMaturity = 1.0;    // Time to maturity (T) in years\n",
    "int numberOfSimulations = 90000;\n",
    "int vectorSize = Vector<double>.Count;\n",
    "\n",
    "Vector<double> VectorExp(Vector<double> v)\n",
    "{\n",
    "    Span<double> result = stackalloc double[Vector<double>.Count];\n",
    "    for (int i = 0; i < Vector<double>.Count; i++)\n",
    "        result[i] = Math.Exp(v[i]);\n",
    "    return new Vector<double>(result);\n",
    "}\n",
    "\n",
    "// Method to simulate the price of a European call option on Bitcoin\n",
    "double SimulateOptionPrice()\n",
    "{\n",
    "    double sumPayoff = 0.0;\n",
    "    var drift = riskFreeRate - 0.5 * volatility * volatility;\n",
    "    \n",
    "    for (int i = 0; i < numberOfSimulations; i += vectorSize)\n",
    "    {\n",
    "        var randomNumbers = new double[vectorSize];\n",
    "        for (int j = 0; j < vectorSize; j++)\n",
    "            randomNumbers[j] = GenerateGaussianNumber();\n",
    "\n",
    "        // Vectors for the calculation\n",
    "        var randVector = new Vector<double>(randomNumbers);\n",
    "        var priceVector = new Vector<double>(Enumerable.Repeat(initialPrice, vectorSize).ToArray());\n",
    "        var strikeVector = new Vector<double>(Enumerable.Repeat(strikePrice, vectorSize).ToArray());\n",
    "        var driftVector = new Vector<double>(Enumerable.Repeat(drift, vectorSize).ToArray());\n",
    "        var volVector = new Vector<double>(Enumerable.Repeat(volatility, vectorSize).ToArray());\n",
    "        var timeVector = new Vector<double>(Enumerable.Repeat(timeToMaturity, vectorSize).ToArray());\n",
    "\n",
    "        // Exponent for the GBM\n",
    "        var exponent = driftVector * timeVector + \n",
    "            volVector * Vector.SquareRoot(timeVector) * randVector;\n",
    "\n",
    "        // Final prices using exp(exponent)\n",
    "        var finalPrices = priceVector * VectorExp(exponent);\n",
    "\n",
    "        // Payoffs: max(S_T - K, 0)\n",
    "        var payoffs = Vector.Max(finalPrices - strikeVector, new Vector<double>(new double[vectorSize]));\n",
    "\n",
    "        // Sum up the payoffs\n",
    "        sumPayoff += Vector.Sum(payoffs);\n",
    "    }\n",
    "\n",
    "    // Calculate the average payoff and discount to present value\n",
    "    double averagePayoff = sumPayoff / numberOfSimulations;\n",
    "    return averagePayoff * Math.Exp(-1 * riskFreeRate * timeToMaturity);\n",
    "}\n",
    "\n",
    "Console.WriteLine($\"The estimated price of the Bitcoin call option is: ${SimulateOptionPrice():F2}\");"
   ]
  },
  {
   "cell_type": "markdown",
   "metadata": {},
   "source": [
    "# 📦 Tensors"
   ]
  },
  {
   "cell_type": "markdown",
   "metadata": {},
   "source": [
    "Multi-Dimensional Arrays; essential for scientific computing, machine learning, and numerical analysis\n",
    "- Unlike traditional arrays or jagged arrays, tensors provide a structured way to handle multi-dimensional data efficiently\n",
    "- High-Performance\n",
    "    - GPU / Hardware Acceleration"
   ]
  },
  {
   "cell_type": "markdown",
   "metadata": {},
   "source": [
    "__Python Scene__\n",
    "- Numpy has numpy.ndarray; not explicitly a tensor but functions similarly\n",
    "- Pandas has pandas.DataFrame and pandas.Series that are based on NumPy arrays; not explicitly a tensor but functions similarly\n",
    "    - JAX, CuPy etc have similar approach\n",
    "- TensorFlow has tf.Tensor\n",
    "    - GPU optimized; Object Oriented API \n",
    "- PyTorch has torch.Tensor\n",
    "    - GPU optimized; Pythonic API"
   ]
  },
  {
   "cell_type": "markdown",
   "metadata": {},
   "source": [
    "__.NET Scene__\n",
    "\n",
    "- https://github.com/dotnet/TorchSharp Highly Active\n",
    "    - libtorch based\n",
    "    - Designed to offer Pytorch expereince\n",
    "- https://github.com/SciSharp/NumSharp Last Nuget Release Feb of 2021\n",
    "- https://github.com/SciSharp/Tensor.NET Last Nuget Release November of 2023\n",
    "- System.Numerics.Tensors API; currently a nuget"
   ]
  },
  {
   "cell_type": "markdown",
   "metadata": {},
   "source": [
    "__System.Numerics.Tensors__\n",
    "- GPU / Hardware Acceleration\n",
    "    - Efficient Memory Management; The library supports **span-based operations**\n",
    "    - Works well with `Memory<T>` and `Span<T>` \n",
    "- (Will) provde Interoperability with AI/ML Libraries\n",
    "    - ONNX, ML.NET, TorchSharp\n",
    "- Cross-Platform support\n",
    "- Ease of Adoption for Numerical Computing; beyond ML/AI"
   ]
  },
  {
   "cell_type": "markdown",
   "metadata": {},
   "source": [
    "- https://www.nuget.org/packages/System.Numerics.Tensors; 2018\n",
    "- https://learn.microsoft.com/en-us/dotnet/api/system.numerics.tensors\n",
    "- https://github.com/dotnet/runtime/tree/main/src/libraries/System.Numerics.Tensors\n",
    "    - Lets check the code; how its based on Vector"
   ]
  },
  {
   "cell_type": "code",
   "execution_count": null,
   "metadata": {
    "dotnet_interactive": {
     "language": "csharp"
    },
    "polyglot_notebook": {
     "kernelName": "csharp"
    },
    "vscode": {
     "languageId": "polyglot-notebook"
    }
   },
   "outputs": [],
   "source": [
    "#r \"nuget: System.Numerics.Tensors\""
   ]
  },
  {
   "cell_type": "markdown",
   "metadata": {},
   "source": [
    "- https://github.com/dotnet/core/blob/main/release-notes/9.0/preview/preview4/libraries.md"
   ]
  },
  {
   "cell_type": "code",
   "execution_count": null,
   "metadata": {
    "dotnet_interactive": {
     "language": "csharp"
    },
    "polyglot_notebook": {
     "kernelName": "csharp"
    },
    "vscode": {
     "languageId": "polyglot-notebook"
    }
   },
   "outputs": [],
   "source": [
    "using System.Numerics.Tensors;\n",
    "// https://devblogs.microsoft.com/dotnet/announcing-dotnet-8-rc2\n",
    "\n",
    "var movies = new[]\n",
    "{\n",
    "    new { Title=\"The Lion King\", Embedding= new [] { 0.10022575f, -0.23998135f } },\n",
    "    new { Title=\"Inception\", Embedding= new [] { 0.10327095f, 0.2563685f } },\n",
    "    new { Title=\"Toy Story\", Embedding= new [] { 0.095857024f, -0.201278f } },\n",
    "    new { Title=\"Pulp Fiction\", Embedding= new [] { 0.106827796f, 0.21676421f } },\n",
    "    new { Title=\"Shrek\", Embedding= new [] { 0.09568083f, -0.21177962f } }\n",
    "};\n",
    "var queryEmbedding = new[] { 0.12217915f, -0.034832448f }; // we are looking towards somewhere like Toy Story\n",
    "\n",
    "var top3Movies = movies.Select(movie =>\n",
    "    (\n",
    "        movie.Title,\n",
    "        Similarity: TensorPrimitives.CosineSimilarity(queryEmbedding, movie.Embedding)\n",
    "    ))\n",
    "    .OrderByDescending(movies => movies.Similarity)\n",
    "    .Take(3);\n",
    "\n",
    "foreach (var movie in top3Movies)\n",
    "    Console.WriteLine(movie);"
   ]
  },
  {
   "cell_type": "markdown",
   "metadata": {},
   "source": [
    "- https://devblogs.microsoft.com/dotnet/introducing-tensor-for-multi-dimensional-machine-learning-and-ai-data 2017 / Outdated\n",
    "- https://devblogs.microsoft.com/dotnet/announcing-ml-net-3-0/ 2023 November\n",
    "- https://github.com/dotnet/runtime/issues/89639 [API Proposal]: Future of Numerics and AI\n",
    "    - https://github.com/dotnet/runtime/issues/92219 Remaining .NET 8 work for TensorPrimitives\n",
    "    - https://github.com/dotnet/runtime/issues/98323 Tensors in .NET"
   ]
  }
 ],
 "metadata": {
  "kernelspec": {
   "display_name": ".NET (C#)",
   "language": "C#",
   "name": ".net-csharp"
  },
  "language_info": {
   "codemirror_mode": {
    "name": "ipython",
    "version": 3
   },
   "file_extension": ".py",
   "mimetype": "text/x-python",
   "name": "python",
   "nbconvert_exporter": "python",
   "pygments_lexer": "ipython3",
   "version": "3.12.2"
  },
  "polyglot_notebook": {
   "kernelInfo": {
    "defaultKernelName": "csharp",
    "items": [
     {
      "aliases": [],
      "name": "csharp"
     },
     {
      "aliases": [],
      "languageName": "python",
      "name": "pythonkernel"
     },
     {
      "aliases": [],
      "languageName": "R",
      "name": "Rkernel"
     }
    ]
   }
  }
 },
 "nbformat": 4,
 "nbformat_minor": 2
}
