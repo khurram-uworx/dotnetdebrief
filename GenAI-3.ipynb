{
 "cells": [
  {
   "cell_type": "markdown",
   "metadata": {},
   "source": [
    "# RAG & Chatbots"
   ]
  },
  {
   "cell_type": "markdown",
   "metadata": {},
   "source": [
    "- https://en.wikipedia.org/wiki/Foundation_model\n",
    "    - GPT s, BERT, LLaMa s, Mistral\n",
    "    - DALL-E, Stable Diffusion\n",
    "- Grounding\n",
    "    - Tokens and Cost\n",
    "    - Chat History / Summarization\n",
    "    - Line of Business / Context Data / Facts\n",
    "- https://en.wikipedia.org/wiki/Retrieval-augmented_generation"
   ]
  },
  {
   "cell_type": "markdown",
   "metadata": {},
   "source": [
    "<img src=images/rag.png width=800><br>\n",
    "<img src=images/rag-localdb.avif width=800><br>\n",
    "<img src=images/rag-use-cases.png width=800>"
   ]
  },
  {
   "cell_type": "markdown",
   "metadata": {},
   "source": [
    "__Resources__\n",
    "- https://cloud.google.com/vertex-ai/generative-ai/docs/grounding/overview\n",
    "- https://www.youtube.com/watch?v=WZHjMi7ltWI Ep 2: Demystifying Cost Optimization in Generative AI (Part 1)\n",
    "- https://www.youtube.com/watch?v=UCDEEhHqvrQ Ep 4: AI Cost Optimization Part 2 - Tips on AI Grounding and Many Models"
   ]
  },
  {
   "cell_type": "markdown",
   "metadata": {},
   "source": [
    "## AutoGen"
   ]
  },
  {
   "cell_type": "markdown",
   "metadata": {},
   "source": [
    "- https://www.microsoft.com/en-us/research/project/autogen\n",
    "- https://microsoft.github.io/autogen\n",
    "    - https://microsoft.github.io/autogen-for-net\n",
    "- https://github.com/microsoft/autogen\n",
    "    - https://github.com/microsoft/autogen/tree/main/notebook\n",
    "- https://microsoft.github.io/autogen-for-net/articles/Installation.html\n",
    "- https://microsoft.github.io/autogen-for-net/articles/Use-function-call.html\n",
    "    - https://microsoft.github.io/autogen-for-net/articles/Function-call-with-ollama-and-litellm.html"
   ]
  },
  {
   "cell_type": "markdown",
   "metadata": {},
   "source": [
    "## Semantic Kernel"
   ]
  },
  {
   "cell_type": "markdown",
   "metadata": {},
   "source": [
    "- C#, Python, Java\n",
    "- https://learn.microsoft.com/en-us/semantic-kernel/overview\n",
    "    - https://learn.microsoft.com/en-us/semantic-kernel/get-started/quick-start-guide\n",
    "- https://github.com/microsoft/semantic-kernel\n",
    "    - https://github.com/microsoft/semantic-kernel/blob/main/dotnet/samples/GettingStarted/Step1_Create_Kernel.cs"
   ]
  },
  {
   "cell_type": "markdown",
   "metadata": {},
   "source": [
    "- https://devblogs.microsoft.com/semantic-kernel/introducing-agents-in-semantic-kernel\n",
    "    - AutoGen\n",
    "- https://devblogs.microsoft.com/semantic-kernel/announcement-agent-framework-documentation-updates"
   ]
  },
  {
   "cell_type": "markdown",
   "metadata": {},
   "source": [
    "__Semantic Kernel Resources__\n",
    "\n",
    "- Microsoft\n",
    "    - https://github.com/microsoft/semantic-kernel-starters\n",
    "    - https://github.com/microsoft/SemanticKernelCookBook\n",
    "    - https://learn.microsoft.com/en-us/collections/8pwytogexzq230 Let's Learn .NET - Semantic Kernel\n",
    "    - https://devblogs.microsoft.com/semantic-kernel/plugging-into-jira-from-semantic-kernel 👈\n",
    "    - https://devblogs.microsoft.com/semantic-kernel/microsoft-hackathon-project-micronaire-using-semantic-kernel\n",
    "        - https://github.com/microsoft/micronaire\n",
    "- Others\n",
    "    - https://github.com/geffzhang/awesome-semantickernel\n",
    "    - https://github.com/formulahendry/semantic-kernel-vs-langchain\n",
    "        - https://www.youtube.com/watch?v=lCQOCoH3Osk\n",
    "    - https://charotamine.medium.com/semantic-kernel-kernel-memory-7bb5c95b76cb PDF RAG\n",
    "        - https://github.com/charotAmine/KernelMemoryTraining/blob/main/00-GettingStarted.ipynb "
   ]
  },
  {
   "cell_type": "markdown",
   "metadata": {},
   "source": [
    "__Resources__\n",
    "- https://www.youtube.com/watch?v=EB90z-ugdl8 Building AI solutions with Semantic Kernel | BRK217H - 45min Microsoft Build talk\n",
    "- https://www.youtube.com/watch?v=eBbkbkl2oME Cooking With The Semantic Kernel, Alex Chao, Product Manager, Microsoft - 30min AI Conference talk\n",
    "    - 👉 https://www.youtube.com/watch?v=QQ7MPKf9r-U Semantic Kernel: Plugins have landed | Studio17 - 10min Microsoft Ignite fun talk\n",
    "- https://github.com/microsoft/semantic-kernel/discussions/8013 Onnx connector and FunctionCalling"
   ]
  },
  {
   "cell_type": "markdown",
   "metadata": {},
   "source": [
    "## Resources"
   ]
  },
  {
   "cell_type": "markdown",
   "metadata": {},
   "source": [
    "- https://github.com/dotnet-smartcomponents/smartcomponents\n",
    "    - https://github.com/dotnet-smartcomponents/smartcomponents/blob/main/docs/local-embeddings.md\n",
    "\n",
    "- https://github.com/elbruno/Ollama-CSharp-Playground\n",
    "- https://techcommunity.microsoft.com/t5/educator-developer-blog/building-intelligent-applications-with-local-rag-in-net-and-phi/ba-p/4175721\n",
    "- https://www.youtube.com/watch?v=2mL9iDr_lUY Microsoft Copilot & Tanium | ODFP306\n",
    "- https://github.com/RobertEichenseer/OpenAI.SemanticNativeFunctions"
   ]
  },
  {
   "cell_type": "markdown",
   "metadata": {},
   "source": [
    "# Training"
   ]
  },
  {
   "cell_type": "markdown",
   "metadata": {},
   "source": [
    "## Pretraining"
   ]
  },
  {
   "cell_type": "markdown",
   "metadata": {},
   "source": [
    "<img src=images/transfer-learning.webp>\n",
    "\n",
    "__BERT__\n",
    "- Base is 400+Mb and Large is ~1.4Gb\n",
    "- 800M and 2.5B Words\n",
    "- 4 days of 16 TPUs for Base and 64 TPUs for Large\n",
    "- 12.5k$ for base and 49.1k$ for large approx cloud charges\n",
    "- 12k-15k$ for base and 50k-60k$ for large"
   ]
  },
  {
   "cell_type": "markdown",
   "metadata": {},
   "source": [
    "## Fine-Tuning"
   ]
  },
  {
   "cell_type": "markdown",
   "metadata": {},
   "source": [
    "<img src=images/fine-tuning.png>\n",
    "\n",
    "- https://learn.microsoft.com/en-us/azure/ai-studio/how-to/fine-tune-phi-3?tabs=phi-3-mini\n",
    "- https://azure.microsoft.com/en-us/blog/announcing-phi-3-fine-tuning-new-generative-ai-models-and-other-azure-ai-updates-to-empower-organizations-to-customize-and-scale-ai-applications\n",
    "- https://github.com/microsoft/Phi-3CookBook/tree/main/md/04.Fine-tuning 👈"
   ]
  },
  {
   "cell_type": "markdown",
   "metadata": {},
   "source": [
    "__Resources__\n",
    "- https://github.com/microsoft/Phi-3CookBook/blob/main/md/04.Fine-tuning/FineTuning_vs_RAG.md 👈\n",
    "- https://unsloth.ai\n",
    "    - https://www.youtube.com/watch?v=DeuyD-ZA-58 Fine-tuning a Phi-3 LeetCode Expert? - Dataset Generation, Unsloth ++\n",
    "    - https://www.youtube.com/watch?v=U5jU4YJodJo Get your own custom Phi-3-mini for your use cases\n",
    "- https://github.com/brevdev/notebooks/blob/main/phi2-finetune-own-data.ipynb"
   ]
  },
  {
   "cell_type": "markdown",
   "metadata": {},
   "source": [
    "# Resources"
   ]
  },
  {
   "cell_type": "markdown",
   "metadata": {},
   "source": [
    "<img src=images/sell-me-this-pen.jpg width=400>"
   ]
  },
  {
   "cell_type": "markdown",
   "metadata": {},
   "source": [
    "__Phi 3.5__\n",
    "- https://techcommunity.microsoft.com/t5/ai-azure-ai-services-blog/discover-the-new-multi-lingual-high-quality-phi-3-5-slms/ba-p/4225280\n",
    "- https://techcommunity.microsoft.com/t5/educator-developer-blog/a-better-phi-family-is-coming-multi-language-support-better/ba-p/4224181\n",
    "- https://ollama.com/library/phi3.5\n",
    "\n",
    "__Ollama and Aspire__\n",
    "- https://raygun.com/blog/enhancing-aspire-with-ai-with-ollama Ollama Container"
   ]
  },
  {
   "cell_type": "markdown",
   "metadata": {},
   "source": [
    "- https://www.youtube.com/watch?v=iihJYAMIRP4 Scott and Mark Learn to Code | WAKEY06\n",
    "- https://learn.microsoft.com/en-us/dotnet/aspire/get-started/build-aspire-apps-with-python\n",
    "- https://www.youtube.com/watch?v=yMGTUQhjtlM Enhancing Business Processes with .NET Aspire and Generative AI\n",
    "    - https://github.com/dotnet/eShopSupport"
   ]
  },
  {
   "cell_type": "markdown",
   "metadata": {},
   "source": [
    "- https://www.youtube.com/watch?v=6ydFDwv-n8w Satya Nadella & Sam Altman: Dawn of the AI Wars | The Circuit with Emily Chang\n",
    "- https://www.youtube.com/watch?v=YuIc4mq7zMU Inside Mark Zuckerberg's AI Era | The Circuit\n",
    "- https://www.youtube.com/watch?v=5puu3kN9l7c Google CEO Sundar Pichai and the Future of AI | The Circuit"
   ]
  },
  {
   "cell_type": "markdown",
   "metadata": {},
   "source": [
    "__Huggingface__\n",
    "- https://www.youtube.com/watch?v=GhGUZrcB-WM How-to Use HuggingFace's Datasets - Transformers From Scratch #1\n",
    "- https://www.youtube.com/watch?v=-S20nblUuNw Hugging Face Datasets #1 | Hosting Your Datasets (for Beginners)"
   ]
  }
 ],
 "metadata": {
  "kernelspec": {
   "display_name": ".NET (C#)",
   "language": "C#",
   "name": ".net-csharp"
  },
  "language_info": {
   "codemirror_mode": {
    "name": "ipython",
    "version": 3
   },
   "file_extension": ".py",
   "mimetype": "text/x-python",
   "name": "python",
   "nbconvert_exporter": "python",
   "pygments_lexer": "ipython3",
   "version": "3.12.2"
  },
  "polyglot_notebook": {
   "kernelInfo": {
    "defaultKernelName": "csharp",
    "items": [
     {
      "aliases": [],
      "name": "csharp"
     },
     {
      "aliases": [],
      "languageName": "python",
      "name": "pythonkernel"
     },
     {
      "aliases": [],
      "languageName": "R",
      "name": "Rkernel"
     }
    ]
   }
  }
 },
 "nbformat": 4,
 "nbformat_minor": 2
}
