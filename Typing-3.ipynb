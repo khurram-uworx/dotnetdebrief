{
 "cells": [
  {
   "cell_type": "markdown",
   "metadata": {},
   "source": [
    "# 🧩 Dynamic and Generic Binding"
   ]
  },
  {
   "cell_type": "code",
   "execution_count": null,
   "metadata": {
    "dotnet_interactive": {
     "language": "csharp"
    },
    "polyglot_notebook": {
     "kernelName": "csharp"
    },
    "vscode": {
     "languageId": "polyglot-notebook"
    }
   },
   "outputs": [],
   "source": [
    "#!connect jupyter --kernel-name pythonkernel --kernel-spec python3"
   ]
  },
  {
   "cell_type": "code",
   "execution_count": null,
   "metadata": {
    "dotnet_interactive": {
     "language": "pythonkernel"
    },
    "polyglot_notebook": {
     "kernelName": "pythonkernel"
    },
    "vscode": {
     "languageId": "polyglot-notebook"
    }
   },
   "outputs": [],
   "source": [
    "def add(left, right):\n",
    "    return left + right\n",
    "\n",
    "print(add(1, 3))\n",
    "print(add(1.1, 3.1))\n",
    "print(add('a', 'b'))        # 👈 Notice\n",
    "print(add(\"abc\", \"xyz\"))\n",
    "#print(add('a', 1))         # 👈 Gives runtime error\n",
    "#print(add(\"abc\", 123))     # 👈 Gives runtime error\n",
    "#print(add(123, \"abc\"))     # 👈 Gives runtime error"
   ]
  },
  {
   "cell_type": "code",
   "execution_count": null,
   "metadata": {
    "dotnet_interactive": {
     "language": "csharp"
    },
    "polyglot_notebook": {
     "kernelName": "csharp"
    },
    "vscode": {
     "languageId": "polyglot-notebook"
    }
   },
   "outputs": [],
   "source": [
    "using static System.Console;\n",
    "\n",
    "dynamic Add(dynamic left, dynamic right)\n",
    "    => left + right;\n",
    "\n",
    "WriteLine(Add(1, 3));\n",
    "WriteLine(Add(1.1, 3.1));\n",
    "WriteLine(Add('a', 'b'));       // 👈 Notice\n",
    "WriteLine(Add(\"abc\", \"xyz\"));\n",
    "WriteLine(Add('a', 1));         // 👈 Python gave runtime error\n",
    "WriteLine(Add(\"abc\", 123));     // 👈 Python gave runtime error\n",
    "WriteLine(Add(123, \"abc\"));     // 👈 Python gave runtime error"
   ]
  },
  {
   "cell_type": "code",
   "execution_count": null,
   "metadata": {
    "dotnet_interactive": {
     "language": "csharp"
    },
    "polyglot_notebook": {
     "kernelName": "csharp"
    },
    "vscode": {
     "languageId": "polyglot-notebook"
    }
   },
   "outputs": [],
   "source": [
    "using static System.Console;\n",
    "\n",
    "dynamic Add(dynamic left, dynamic right) => (left, right) switch\n",
    "{\n",
    "    (char l, char r) => $\"{l}{r}\",\n",
    "    // (string l, var r) => l + r.ToString(),       not needed; just showing as an example\n",
    "    // (var l, string r) => l.ToString() + r,\n",
    "    _ => left + right\n",
    "};\n",
    "\n",
    "\n",
    "WriteLine(Add(1, 3));\n",
    "WriteLine(Add(1.1, 3.1));\n",
    "WriteLine(Add('a', 'b'));\n",
    "WriteLine(Add(\"abc\", \"xyz\"));\n",
    "WriteLine(Add('a', 1));\n",
    "WriteLine(Add(\"abc\", 123));"
   ]
  },
  {
   "cell_type": "markdown",
   "metadata": {},
   "source": [
    "Dynanic and Anonymous Types"
   ]
  },
  {
   "cell_type": "code",
   "execution_count": 7,
   "metadata": {
    "dotnet_interactive": {
     "language": "csharp"
    },
    "polyglot_notebook": {
     "kernelName": "csharp"
    },
    "vscode": {
     "languageId": "polyglot-notebook"
    }
   },
   "outputs": [],
   "source": [
    "var team = new []\n",
    "{\n",
    "    new\n",
    "    {\n",
    "        id = 1, name = \"Khurram Aziz\",\n",
    "        roles = new [] { \"Tech Lead\", \"Backend Developer\" } // (string[]?)null 🫤 or Maybe<string[]>.Nothing() ?\n",
    "    },\n",
    "    new\n",
    "    {\n",
    "        id = 2, name = \"Mohammad Hassan Butt\", // try renaming field\n",
    "        roles = new [] { \"Backend Developer\", \"Frontend Developer\" }\n",
    "    },\n",
    "    new\n",
    "    {\n",
    "        id = 3, name = \"Abdul Hai\",\n",
    "        roles = new [] { \"Frontend Developer\", \"Backend Developer\" }\n",
    "    },\n",
    "    new\n",
    "    {\n",
    "        id = 4, name = \"Shahbaz Ali\",\n",
    "        roles = new [] { \"Backend Developer\", \"Frontend Developer\" }\n",
    "    }\n",
    "};\n",
    "\n",
    "var team2 = new dynamic[]\n",
    "{\n",
    "    new\n",
    "    {\n",
    "        id = 1, whatever = \"whatever\"\n",
    "    },\n",
    "    new\n",
    "    {\n",
    "        id = 2, name = \"Khurram\"\n",
    "    }\n",
    "};"
   ]
  },
  {
   "cell_type": "markdown",
   "metadata": {},
   "source": [
    "__Inclusion polymorphism__, also known as subtype polymorphism, is the ability of a single interface (or base class) to represent multiple types (or derived classes). It allows objects of different types to be treated as objects of a common supertype. This is a key feature of object-oriented programming and supports the principle of substitutability, where an instance of a derived class can be used wherever a base class is expected"
   ]
  },
  {
   "cell_type": "code",
   "execution_count": null,
   "metadata": {
    "dotnet_interactive": {
     "language": "csharp"
    },
    "polyglot_notebook": {
     "kernelName": "csharp"
    },
    "vscode": {
     "languageId": "polyglot-notebook"
    }
   },
   "outputs": [],
   "source": [
    "using static System.Console;\n",
    "\n",
    "abstract class Animal\n",
    "{\n",
    "    public abstract void Speak();\n",
    "}\n",
    "void MakeAnimalSpeak(IEnumerable<Animal> animals)\n",
    "{\n",
    "    foreach(var animal in animals)\n",
    "        animal.Speak();\n",
    "}\n",
    "\n",
    "class Dog : Animal\n",
    "{\n",
    "    public override void Speak() => WriteLine(\"Woof\");\n",
    "}\n",
    "class Cat : Animal\n",
    "{\n",
    "    public override void Speak() => WriteLine(\"Meow\");\n",
    "}\n",
    "MakeAnimalSpeak(new Animal[] { new Dog(), new Cat()});"
   ]
  },
  {
   "cell_type": "markdown",
   "metadata": {},
   "source": [
    "Restart Kernel; otherwise we will end up having two overloaded Add methods\n",
    "- Overloaded methods are __Adhoc Polymorphism__"
   ]
  },
  {
   "cell_type": "code",
   "execution_count": null,
   "metadata": {
    "dotnet_interactive": {
     "language": "csharp"
    },
    "polyglot_notebook": {
     "kernelName": "csharp"
    },
    "vscode": {
     "languageId": "polyglot-notebook"
    }
   },
   "outputs": [],
   "source": [
    "int Add(int a, int b) => a + b;\n",
    "string Add(string a, string b) => $\"{a}{b}\";\n",
    "string Add(int a, string b) => $\"{a}{b}\";\n",
    "string Add(string a, int b) => $\"{a}{b}\";"
   ]
  },
  {
   "cell_type": "markdown",
   "metadata": {},
   "source": [
    "Parametric polymorphism is a programming concept where functions, methods, or data types are written generically so they can handle values uniformly without depending on their specific types. It allows you to write code that works for any type, with the type being specified as a parameter"
   ]
  },
  {
   "cell_type": "code",
   "execution_count": null,
   "metadata": {
    "dotnet_interactive": {
     "language": "csharp"
    },
    "polyglot_notebook": {
     "kernelName": "csharp"
    },
    "vscode": {
     "languageId": "polyglot-notebook"
    }
   },
   "outputs": [],
   "source": [
    "using static System.Console;\n",
    "using System.Numerics;\n",
    "\n",
    "// Parametric Polymorphism\n",
    "T Add<T>(T left, T right) where T : INumber<T>\n",
    "    => left + right;\n",
    "\n",
    "WriteLine(Add(1, 3));\n",
    "WriteLine(Add(1.1, 3.1));\n",
    "WriteLine(Add('a', 'b'));\n",
    "WriteLine(Add(\"abc\", \"xyz\"));   // should not work\n",
    "WriteLine(Add('a', 1));\n",
    "WriteLine(Add(\"abc\", 1));       // should not work"
   ]
  },
  {
   "cell_type": "markdown",
   "metadata": {},
   "source": [
    "__Coercion Polymorphism__ is a form of polymorphism where one type is automatically converted to another type to satisfy a function or operation"
   ]
  },
  {
   "cell_type": "code",
   "execution_count": null,
   "metadata": {
    "dotnet_interactive": {
     "language": "csharp"
    },
    "polyglot_notebook": {
     "kernelName": "csharp"
    },
    "vscode": {
     "languageId": "polyglot-notebook"
    }
   },
   "outputs": [],
   "source": [
    "double Multiply(double a, double b) => a * b;\n",
    "\n",
    "double result = Multiply(4, 5); // int values are coerced to double; implicit conversions can be implemented in C#; we will learn about it shortly"
   ]
  },
  {
   "cell_type": "markdown",
   "metadata": {},
   "source": [
    "__Runtime__ (interchangeably with Inclusion) and __Compile time__ (part of adhoc) Polymorphism"
   ]
  },
  {
   "cell_type": "markdown",
   "metadata": {},
   "source": [
    "# 🧮 Functional Thinking Zip & Fold"
   ]
  },
  {
   "cell_type": "code",
   "execution_count": null,
   "metadata": {
    "dotnet_interactive": {
     "language": "csharp"
    },
    "polyglot_notebook": {
     "kernelName": "csharp"
    },
    "vscode": {
     "languageId": "polyglot-notebook"
    }
   },
   "outputs": [],
   "source": [
    "using System.Linq;\n",
    "\n",
    "var numbers = new[] { 1, 2, 3 };\n",
    "var words = new[] { \"one\", \"two\", \"three\" };\n",
    "\n",
    "var zipped = numbers\n",
    "    .Zip(words, (number, word) => $\"{number}: {word}\"); // from the return type it is figuring out zipped is IEnumerable<string>\n",
    "\n",
    "foreach (var item in zipped)\n",
    "    Console.WriteLine(item);"
   ]
  },
  {
   "cell_type": "markdown",
   "metadata": {},
   "source": [
    "Sadly, JavaScript doesn't have Zip"
   ]
  },
  {
   "cell_type": "code",
   "execution_count": null,
   "metadata": {
    "dotnet_interactive": {
     "language": "value"
    },
    "polyglot_notebook": {
     "kernelName": "value"
    },
    "vscode": {
     "languageId": "polyglot-notebook"
    }
   },
   "outputs": [],
   "source": [
    "// Haskell\n",
    "\n",
    "main :: IO ()\n",
    "main = do\n",
    "    let list1 = [1, 2, 3]\n",
    "    let list2 = [9, 8, 7]\n",
    "    let zipped = zip list1 list2\n",
    "    let summed = zipWith (+) list1 list2\n",
    "    print zipped\n",
    "    print summed\n",
    "\n",
    "Output: [(1,9),(2,8),(3,7)]\n",
    "Output: [10, 10, 10]"
   ]
  },
  {
   "cell_type": "code",
   "execution_count": null,
   "metadata": {
    "dotnet_interactive": {
     "language": "csharp"
    },
    "polyglot_notebook": {
     "kernelName": "csharp"
    },
    "vscode": {
     "languageId": "polyglot-notebook"
    }
   },
   "outputs": [],
   "source": [
    "using System.Linq;\n",
    "\n",
    "var list1 = new[] { 1, 2, 3, 4 };\n",
    "var list2 = new[] { 9, 8, 7 };\n",
    "\n",
    "var tupples = list1.Zip(list2, (x, y) => (x, y));\n",
    "var summed = list1.Zip(list2, (x, y) => x + y);\n",
    "\n",
    "foreach (var item in summed)\n",
    "    Console.WriteLine(item);\n",
    "\n",
    "var sum = summed.Sum(); // fold: scaler value of list\n",
    "Console.WriteLine(sum);"
   ]
  },
  {
   "cell_type": "markdown",
   "metadata": {},
   "source": [
    "Different Lengths\n",
    "- Both Haskell and C# stop processing at the shorter list's length.\n",
    "- In Haskell, zip stops when the shorter list ends. Extra elements in the longer list are ignored.\n",
    "- Similarly, zipWith behaves the same way—it processes only up to the length of the shorter list.\n",
    "\n",
    "null/Nothing Handling\n",
    "- In C#, you can use null checks or null-coalescing operators (??) to handle missing values gracefully.\n",
    "- In Haskell, there's no null, but you'd use Maybe to represent missing values and handle them explicitly."
   ]
  },
  {
   "cell_type": "markdown",
   "metadata": {},
   "source": [
    "<img src=images/null-meme-1.jpg>"
   ]
  },
  {
   "cell_type": "markdown",
   "metadata": {},
   "source": [
    "# 🐍 IronPython"
   ]
  },
  {
   "cell_type": "markdown",
   "metadata": {},
   "source": [
    "- C++: images/aoc-cpp\n",
    "- Rust: images/aoc-rust\n",
    "- Go: images/aoc-go\n",
    "- Java: images/aoc-java\n",
    "- C#: images/aoc-csharp\n",
    "- Python: images/aoc-python"
   ]
  },
  {
   "cell_type": "code",
   "execution_count": null,
   "metadata": {
    "dotnet_interactive": {
     "language": "csharp"
    },
    "polyglot_notebook": {
     "kernelName": "csharp"
    },
    "vscode": {
     "languageId": "polyglot-notebook"
    }
   },
   "outputs": [],
   "source": [
    "#r \"nuget: IronPython, 3.4.1\"\n",
    "#r \"nuget: IronPython.StdLib, 3.4.1\""
   ]
  },
  {
   "cell_type": "markdown",
   "metadata": {},
   "source": [
    "## Avent of Code"
   ]
  },
  {
   "cell_type": "code",
   "execution_count": null,
   "metadata": {
    "dotnet_interactive": {
     "language": "csharp"
    },
    "polyglot_notebook": {
     "kernelName": "csharp"
    },
    "vscode": {
     "languageId": "polyglot-notebook"
    }
   },
   "outputs": [],
   "source": [
    "using System.IO;\n",
    "using IronPython.Hosting;\n",
    "using Microsoft.Scripting.Hosting;\n",
    "\n",
    "ScriptEngine engine = Python.CreateEngine();\n",
    "string script = @\"\n",
    "list1 = []\n",
    "list2 = []\n",
    "\n",
    "def add(a, b):\n",
    "    list1.append(a)\n",
    "    list2.append(b)\n",
    "\n",
    "def process():\n",
    "    list1.sort()\n",
    "    list2.sort()\n",
    "\n",
    "    running_sum = 0\n",
    "    for x, y in zip(list1, list2):\n",
    "        running_sum += abs(x - y)\n",
    "    \n",
    "    return running_sum\n",
    "\";\n",
    "\n",
    "ScriptScope scope = engine.CreateScope();\n",
    "engine.Execute(script, scope);\n",
    "\n",
    "dynamic addFunction = scope.GetVariable(\"add\");\n",
    "dynamic processFunction = scope.GetVariable(\"process\");\n",
    "\n",
    "foreach(var line in File.ReadLines(\"input.txt\"))\n",
    "{\n",
    "    var numbers = line\n",
    "        .Split(' ', StringSplitOptions.RemoveEmptyEntries)\n",
    "        .Select(int.Parse).ToArray();\n",
    "    \n",
    "    addFunction(numbers[0], numbers[1]);\n",
    "}\n",
    "\n",
    "processFunction()"
   ]
  },
  {
   "cell_type": "code",
   "execution_count": null,
   "metadata": {
    "dotnet_interactive": {
     "language": "csharp"
    },
    "polyglot_notebook": {
     "kernelName": "csharp"
    },
    "vscode": {
     "languageId": "polyglot-notebook"
    }
   },
   "outputs": [],
   "source": [
    "using IronPython.Hosting;\n",
    "using Microsoft.Scripting.Hosting;\n",
    "\n",
    "ScriptEngine engine = Python.CreateEngine();\n",
    "string script = @\"\n",
    "import clr\n",
    "from System import Environment\n",
    "\n",
    "def greet(name):\n",
    "    return f'Hello from Python, {name}!'\n",
    "\n",
    "#def getOSVersion():\n",
    "#    return Environment.OSVersion\";\n",
    "\n",
    "ScriptScope scope = engine.CreateScope();\n",
    "engine.Execute(script, scope);\n",
    "dynamic greetFunction = scope.GetVariable(\"greet\");\n",
    "//dynamic getOSVersionFunction = scope.GetVariable(\"getOSVersion\");\n",
    "\n",
    "greetFunction(\"World\")\n",
    "//getOSVersionFunction()"
   ]
  },
  {
   "cell_type": "markdown",
   "metadata": {},
   "source": [
    "Why its not hip anymore?\n",
    "- C# itself becoming succinct / functional\n",
    "- CPython based Data Science libraries"
   ]
  },
  {
   "cell_type": "markdown",
   "metadata": {},
   "source": [
    "# 🦆 Duck Typing Nature of C#"
   ]
  },
  {
   "cell_type": "code",
   "execution_count": null,
   "metadata": {
    "dotnet_interactive": {
     "language": "csharp"
    },
    "polyglot_notebook": {
     "kernelName": "csharp"
    },
    "vscode": {
     "languageId": "polyglot-notebook"
    }
   },
   "outputs": [],
   "source": [
    "using static System.Console;\n",
    "\n",
    "abstract class BaseMagician { public void DoMagic() { WriteLine(\"Standard magic\"); } }\n",
    "\n",
    "interface IMagic { void DoMagic(); }\n",
    "class Magician : BaseMagician, IMagic { }\n",
    "\n",
    "IMagic magic = new Magician();\n",
    "magic.DoMagic();"
   ]
  },
  {
   "cell_type": "markdown",
   "metadata": {},
   "source": [
    "## Extension Methods"
   ]
  },
  {
   "cell_type": "code",
   "execution_count": null,
   "metadata": {
    "dotnet_interactive": {
     "language": "csharp"
    },
    "polyglot_notebook": {
     "kernelName": "csharp"
    },
    "vscode": {
     "languageId": "polyglot-notebook"
    }
   },
   "outputs": [],
   "source": [
    "using static System.Console;\n",
    "\n",
    "class Fahrenheit\n",
    "{\n",
    "    public double Value { get; }\n",
    "    public Fahrenheit(double value) => Value = value;\n",
    "}\n",
    "\n",
    "class Celsius\n",
    "{\n",
    "    public double Value { get; }\n",
    "    public Celsius(double value) => Value = value;\n",
    "}\n",
    "\n",
    "static Celsius ToCelsius(this Fahrenheit f) => new Celsius((f.Value - 32) * 5 / 9);\n",
    "static Fahrenheit ToFahrenheit(this Celsius c) => new Fahrenheit(c.Value * 9 / 5 + 32);\n",
    "\n",
    "WriteLine(new Fahrenheit(98.6).ToCelsius().Value);\n",
    "WriteLine(new Celsius(100).ToFahrenheit().Value);"
   ]
  },
  {
   "cell_type": "code",
   "execution_count": null,
   "metadata": {
    "dotnet_interactive": {
     "language": "csharp"
    },
    "polyglot_notebook": {
     "kernelName": "csharp"
    },
    "vscode": {
     "languageId": "polyglot-notebook"
    }
   },
   "outputs": [],
   "source": [
    "using System.Dynamic;\n",
    "using static System.Console;\n",
    "\n",
    "static double Mean(this IEnumerable<double> values)\n",
    "{\n",
    "    double sum = 0;\n",
    "    int count = 0;\n",
    "\n",
    "    foreach (double d in values)\n",
    "        (sum, count) = (sum += d, count+1);\n",
    "\n",
    "    return sum / count;\n",
    "}\n",
    "\n",
    "static double StandardDeviation(this IEnumerable<double> values)\n",
    "{\n",
    "    double mean = values.Mean();\n",
    "    double sumOfDiffSquares = 0;\n",
    "    int count = 0;\n",
    "\n",
    "    foreach (double d in values)\n",
    "    {\n",
    "        double diff = (d - mean);\n",
    "        sumOfDiffSquares += diff * diff;\n",
    "        count++;\n",
    "    }\n",
    "\n",
    "    return Math.Sqrt(sumOfDiffSquares / count);\n",
    "}\n",
    "\n",
    "var numbers = new double[] {1.1, 2.2, 3.3};\n",
    "WriteLine(numbers.StandardDeviation())"
   ]
  },
  {
   "cell_type": "markdown",
   "metadata": {},
   "source": [
    "<img src=images/dall-e-aop-extension-methods-oop.webp width=700>"
   ]
  },
  {
   "cell_type": "code",
   "execution_count": null,
   "metadata": {
    "dotnet_interactive": {
     "language": "csharp"
    },
    "polyglot_notebook": {
     "kernelName": "csharp"
    },
    "vscode": {
     "languageId": "polyglot-notebook"
    }
   },
   "outputs": [],
   "source": [
    "static dynamic GetAnonymousObject(this IEnumerable<string> columns, IEnumerable<object> values)\n",
    "{\n",
    "    IDictionary<string, object> eo = new ExpandoObject() as IDictionary<string, object>;\n",
    "    int i;\n",
    "    for (i = 0; i < columns.Count(); i++)\n",
    "    {\n",
    "        eo.Add(columns.ElementAt<string>(i), values.ElementAt<object>(i));\n",
    "    }\n",
    "    return eo;\n",
    "}\n",
    "\n",
    "class TasksService { }\n",
    "class CustomersService { }\n",
    "class ProblematicCustomersService : CustomersService { }\n",
    "enum CustomerTaskTypes { Reminder, EarlyReminder, Phone, Visit }\n",
    "\n",
    "static int CreateTask(this TasksService taskService, string contentType, string title, string description = null)\n",
    "{\n",
    "    return 0; // some magical way of creating task using gw\n",
    "}\n",
    "\n",
    "static int CreateBillingTask(this CustomersService customersService, CustomerTaskTypes taskType, string description)\n",
    "{\n",
    "    var t = new TasksService(); // knowns how to get hold of it\n",
    "    string title = \"Knowns how to make it using customersService\";\n",
    "    string contentType = \"Knows how to determine it using taskType enum\";\n",
    "\n",
    "    return t.CreateTask(contentType, title, description);\n",
    "}\n",
    "\n",
    "static int CreateEarlyReminderTask(this ProblematicCustomersService customersService)\n",
    "{\n",
    "    string description = \"Knows how to have it using customersService\";\n",
    "    return customersService.CreateBillingTask(CustomerTaskTypes.EarlyReminder, description);\n",
    "}\n"
   ]
  },
  {
   "cell_type": "markdown",
   "metadata": {},
   "source": [
    "## Operator Overloading"
   ]
  },
  {
   "cell_type": "code",
   "execution_count": null,
   "metadata": {
    "dotnet_interactive": {
     "language": "csharp"
    },
    "polyglot_notebook": {
     "kernelName": "csharp"
    },
    "vscode": {
     "languageId": "polyglot-notebook"
    }
   },
   "outputs": [],
   "source": [
    "using static System.Console;\n",
    "\n",
    "class Fahrenheit\n",
    "{\n",
    "    public double Value { get; }\n",
    "    public Fahrenheit(double value) => Value = value;\n",
    "\n",
    "    public static implicit operator Fahrenheit(double value) => new(value); // Sadly we cannt have them as Extension Methods\n",
    "    public static implicit operator double(Fahrenheit f) => f.Value;\n",
    "    public static implicit operator Fahrenheit(Celsius c) => new(c.Value * 9 / 5 + 32);\n",
    "}\n",
    "\n",
    "class Celsius\n",
    "{\n",
    "    public double Value { get; }\n",
    "    public Celsius(double value) => Value = value;\n",
    "\n",
    "    public static implicit operator Celsius(double value) => new(value);\n",
    "    public static implicit operator double(Celsius c) => c.Value;\n",
    "    public static implicit operator Celsius(Fahrenheit f) => new((f.Value - 32) * 5 / 9);\n",
    "}\n",
    "\n",
    "Fahrenheit tempF1 = 98.6;   // Compiler calls implicit operator\n",
    "Celsius tempC1 = tempF1;    // Implicit conversion from Fahrenheit to Celsius\n",
    "double valueC1 = tempC1;    // Implicit conversion from Celsius to double\n",
    "\n",
    "Celsius tempC2 = 100;\n",
    "Fahrenheit tempF2 = tempC2;\n",
    "double valueF2 = tempF2;\n",
    "\n",
    "WriteLine($\"Temperature 1: {valueC1}C\");\n",
    "WriteLine($\"Temperature 2: {valueF2}F\");"
   ]
  },
  {
   "cell_type": "markdown",
   "metadata": {},
   "source": [
    "## Iterations"
   ]
  },
  {
   "cell_type": "code",
   "execution_count": null,
   "metadata": {
    "dotnet_interactive": {
     "language": "csharp"
    },
    "polyglot_notebook": {
     "kernelName": "csharp"
    },
    "vscode": {
     "languageId": "polyglot-notebook"
    }
   },
   "outputs": [],
   "source": [
    "class Person\n",
    "{\n",
    "    public int ID { get; set; }\n",
    "    public string FirstName { get; set; }\n",
    "    public string MiddleName { get; set; }\n",
    "    public string LastName { get; set; }\n",
    "\n",
    "    public IEnumerator GetEnumerator()\n",
    "    {\n",
    "        yield return this.ID;\n",
    "        if (!string.IsNullOrWhiteSpace(this.FirstName)) yield return this.FirstName;\n",
    "        if (!string.IsNullOrWhiteSpace(this.MiddleName)) yield return this.MiddleName;\n",
    "        if (!string.IsNullOrWhiteSpace(this.LastName)) yield return this.LastName;\n",
    "\n",
    "        // yield break\n",
    "    }\n",
    "}\n",
    "\n",
    "var p = new Person() { ID = 1, FirstName = \"Khurram\", LastName = \"Aziz\" };\n",
    "\n",
    "foreach(var att in p)\n",
    "    Console.WriteLine($\"{att.GetType()}:\\t{att}\");"
   ]
  },
  {
   "cell_type": "markdown",
   "metadata": {},
   "source": [
    "- From .NET Break / 02"
   ]
  },
  {
   "cell_type": "code",
   "execution_count": null,
   "metadata": {
    "dotnet_interactive": {
     "language": "csharp"
    },
    "polyglot_notebook": {
     "kernelName": "csharp"
    },
    "vscode": {
     "languageId": "polyglot-notebook"
    }
   },
   "outputs": [],
   "source": [
    "class BinaryTree<T> where T:IComparable<T>\n",
    "{\n",
    "    public T Value { get; set; }\n",
    "    public BinaryTree<T> Left;\n",
    "    public BinaryTree<T> Right;\n",
    "\n",
    "    public BinaryTree(T value)\n",
    "    {\n",
    "        this.Value = value;\n",
    "        this.Left = this.Right = null;\n",
    "    }\n",
    "\n",
    "    public IEnumerator<T> GetEnumerator()\n",
    "    {\n",
    "        if (this.Left != null)\n",
    "        {\n",
    "            foreach (T item in this.Left)\n",
    "                yield return item;\n",
    "        }\n",
    "\n",
    "        yield return this.Value;\n",
    "\n",
    "        if (this.Right != null)\n",
    "        {\n",
    "            foreach (T item in this.Right)\n",
    "                yield return item;\n",
    "        }\n",
    "    }\n",
    "}"
   ]
  },
  {
   "cell_type": "markdown",
   "metadata": {},
   "source": [
    "### Recursion & Iteration"
   ]
  },
  {
   "cell_type": "markdown",
   "metadata": {},
   "source": [
    "- https://en.wikipedia.org/wiki/Change-making_problem"
   ]
  },
  {
   "cell_type": "code",
   "execution_count": null,
   "metadata": {
    "dotnet_interactive": {
     "language": "csharp"
    },
    "polyglot_notebook": {
     "kernelName": "csharp"
    },
    "vscode": {
     "languageId": "polyglot-notebook"
    }
   },
   "outputs": [],
   "source": [
    "using System.Linq;\n",
    "\n",
    "IEnumerable<int> GetChange(int[] coins, int amount)\n",
    "{\n",
    "    if (amount <= 0) yield break;\n",
    "\n",
    "    var coin = coins.Where(o => o <= amount).OrderByDescending(o => o).FirstOrDefault();\n",
    "    if (coin > 0)\n",
    "    {\n",
    "        yield return coin;\n",
    "\n",
    "        if (amount - coin > 0)\n",
    "            foreach (var i in GetChange(coins, amount - coin))\n",
    "                yield return i;\n",
    "    }\n",
    "}\n",
    "\n",
    "foreach (var number in GetChange([1, 2, 5, 10, 20, 50], 188))\n",
    "    Console.WriteLine(number);"
   ]
  },
  {
   "cell_type": "markdown",
   "metadata": {},
   "source": [
    "## Async Await"
   ]
  },
  {
   "cell_type": "markdown",
   "metadata": {},
   "source": [
    "- https://im5tu.io/article/2022/01/things-you-might-not-know-about-csharp-duck-typing"
   ]
  },
  {
   "cell_type": "code",
   "execution_count": null,
   "metadata": {
    "dotnet_interactive": {
     "language": "csharp"
    },
    "polyglot_notebook": {
     "kernelName": "csharp"
    },
    "vscode": {
     "languageId": "polyglot-notebook"
    }
   },
   "outputs": [],
   "source": [
    "using System.Runtime.CompilerServices;\n",
    "using static System.Console;\n",
    "\n",
    "static TimeSpan Seconds(this int i) => TimeSpan.FromSeconds(i);\n",
    "static TaskAwaiter GetAwaiter(this TimeSpan x) => Task.Delay(x).GetAwaiter();\n",
    "\n",
    "WriteLine(DateTime.Now);\n",
    "await 5.Seconds();\n",
    "WriteLine(DateTime.Now);"
   ]
  },
  {
   "cell_type": "markdown",
   "metadata": {},
   "source": [
    "## Deconstruction"
   ]
  },
  {
   "cell_type": "markdown",
   "metadata": {},
   "source": [
    "- From .NET Craft - 01 / Tuples / Deconstruction"
   ]
  },
  {
   "cell_type": "code",
   "execution_count": null,
   "metadata": {
    "dotnet_interactive": {
     "language": "csharp"
    },
    "polyglot_notebook": {
     "kernelName": "csharp"
    },
    "vscode": {
     "languageId": "polyglot-notebook"
    }
   },
   "outputs": [],
   "source": [
    "(string city, int population, double size) QueryCityData(string name)\n",
    "{\n",
    "    if (name == \"Lahore\")\n",
    "        return (name, 11130000, 1772);\n",
    "    else if (name == \"Faisalabad\")\n",
    "        return (name, 3204000, 1330);\n",
    "\n",
    "    return (\"\", 0, 0);\n",
    "}\n",
    "\n",
    "var result = QueryCityData(\"Lahore\");\n",
    "var city = result.city;\n",
    "var pop = result.population;\n",
    "var size = result.size;\n",
    "\n",
    "// the three ways of deconstruction\n",
    "\n",
    "// 1\n",
    "(string city1, int population1, double area1) = QueryCityData(\"Lahore\");\n",
    "\n",
    "// 2 var\n",
    "var (city2a, population2a, area2a) = QueryCityData(\"Lahore\");\n",
    "(string city2b, var population2b, var area2b) = QueryCityData(\"Lahore\");\n",
    "\n",
    "// 3 existing variables\n",
    "string city3 = \"Faisalabad\";\n",
    "int population3 = 3204000;\n",
    "double area3 = 1330;\n",
    "(city3, population3, area3) = QueryCityData(\"Lahore\");\n",
    "\n",
    "// we can discard and mix and match"
   ]
  },
  {
   "cell_type": "markdown",
   "metadata": {},
   "source": [
    "- From .NET Craft - 03 / Immutable Data Types / Custom Immutable Types & Deconstruction"
   ]
  },
  {
   "cell_type": "code",
   "execution_count": null,
   "metadata": {
    "dotnet_interactive": {
     "language": "csharp"
    },
    "polyglot_notebook": {
     "kernelName": "csharp"
    },
    "vscode": {
     "languageId": "polyglot-notebook"
    }
   },
   "outputs": [],
   "source": [
    "class Person\n",
    "{\n",
    "    public int ID { get; set; }\n",
    "    public string FirstName { get; set; }\n",
    "    public string MiddleName { get; set; }\n",
    "    public string LastName { get; set; }\n",
    "\n",
    "    public IEnumerator GetEnumerator()\n",
    "    {\n",
    "        yield return this.ID;\n",
    "        if (!string.IsNullOrWhiteSpace(this.FirstName)) yield return this.FirstName;\n",
    "        if (!string.IsNullOrWhiteSpace(this.MiddleName)) yield return this.MiddleName;\n",
    "        if (!string.IsNullOrWhiteSpace(this.LastName)) yield return this.LastName;\n",
    "    }\n",
    "\n",
    "    public void Deconstruct(out string firstName, out string lastName)\n",
    "    {\n",
    "        firstName = this.FirstName;\n",
    "        lastName = this.LastName;\n",
    "    }\n",
    "\n",
    "    public void Deconstruct(out string firstName, out string middleName, out string lastName)\n",
    "    {\n",
    "        firstName = this.FirstName;\n",
    "        middleName = this.MiddleName;\n",
    "        lastName = this.LastName;\n",
    "    }\n",
    "}\n",
    "\n",
    "var person = new Person { ID = 1, FirstName = \"Khurram\", LastName = \"Aziz\" };\n",
    "var (firstName, lastName) = person;     // deconstruction to tuple\n",
    "Console.WriteLine($\"Nice to meet you {firstName}\");"
   ]
  }
 ],
 "metadata": {
  "kernelspec": {
   "display_name": ".NET (C#)",
   "language": "C#",
   "name": ".net-csharp"
  },
  "language_info": {
   "name": "python",
   "version": "3.12.2"
  },
  "polyglot_notebook": {
   "kernelInfo": {
    "defaultKernelName": "csharp",
    "items": [
     {
      "aliases": [],
      "name": "csharp"
     },
     {
      "aliases": [],
      "languageName": "python",
      "name": "pythonkernel"
     }
    ]
   }
  }
 },
 "nbformat": 4,
 "nbformat_minor": 2
}
