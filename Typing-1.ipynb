{
 "cells": [
  {
   "cell_type": "code",
   "execution_count": null,
   "metadata": {
    "dotnet_interactive": {
     "language": "csharp"
    },
    "polyglot_notebook": {
     "kernelName": "csharp"
    },
    "vscode": {
     "languageId": "polyglot-notebook"
    }
   },
   "outputs": [],
   "source": [
    "#!connect jupyter --kernel-name pythonkernel --kernel-spec python3"
   ]
  },
  {
   "cell_type": "markdown",
   "metadata": {},
   "source": [
    "# Python: Typing"
   ]
  },
  {
   "cell_type": "code",
   "execution_count": null,
   "metadata": {
    "dotnet_interactive": {
     "language": "pythonkernel"
    },
    "polyglot_notebook": {
     "kernelName": "pythonkernel"
    },
    "vscode": {
     "languageId": "polyglot-notebook"
    }
   },
   "outputs": [],
   "source": [
    "class Circle:\n",
    "    def draw(self):\n",
    "        print(\"Draw circle\")\n",
    "\n",
    "class Rectangle:\n",
    "    def draw(self):\n",
    "        print(\"Draw rectangle\")\n",
    "\n",
    "def draw_shapes(shapes):\n",
    "    for shape in shapes:\n",
    "        shape.draw()\n",
    "\n",
    "shapes = [ Circle(), Rectangle() ]\n",
    "draw_shapes(shapes)"
   ]
  },
  {
   "cell_type": "markdown",
   "metadata": {},
   "source": [
    "## Fun /w Languages"
   ]
  },
  {
   "cell_type": "markdown",
   "metadata": {},
   "source": [
    "<img src=images/the-curly-languages.jpg height=600>"
   ]
  },
  {
   "cell_type": "markdown",
   "metadata": {},
   "source": [
    "- Python's classes indeed use dictionaries under the hood to store attributes and methods, and this can make them feel slightly different from languages like C#, where object internals are more rigidly typed. However, this dictionary-based implementation doesn't make Python any less object-oriented in terms of functionality. Python fully supports OOP concepts such as inheritance, polymorphism, encapsulation, and abstraction.\n",
    "- Each Python object has a __dict__ attribute, where instance variables are stored in a dictionary format. This dynamic nature allows you to add or modify attributes at runtime, making Python flexible and dynamic. This approach also makes Python quite different from C#, which uses a more static memory layout for objects.\n",
    "- So, while Python's class system may look different internally compared to a language like C#, it provides a true OOP experience in terms of principles and functionality."
   ]
  },
  {
   "cell_type": "code",
   "execution_count": null,
   "metadata": {
    "dotnet_interactive": {
     "language": "csharp"
    },
    "polyglot_notebook": {
     "kernelName": "csharp"
    },
    "vscode": {
     "languageId": "polyglot-notebook"
    }
   },
   "outputs": [],
   "source": [
    "using System;\n",
    "using System.Collections.Generic;\n",
    "\n",
    "class PyClass\n",
    "{\n",
    "    private readonly Dictionary<string, object> members = new();\n",
    "\n",
    "    public void SetProperty(string key, object value) => members[key] = value;\n",
    "    public object GetProperty(string key)\n",
    "    {\n",
    "        members.TryGetValue(key, out var value);\n",
    "        return value;\n",
    "    }\n",
    "}\n",
    "\n",
    "static class Circle\n",
    "{\n",
    "    public static PyClass New(Action draw)\n",
    "    {\n",
    "        var instance = new PyClass();\n",
    "        instance.SetProperty(\"__name__\", \"Circle\");\n",
    "        instance.SetProperty(\"draw\", draw);\n",
    "        return instance;\n",
    "    }\n",
    "}\n",
    "\n",
    "var circle = Circle.New(() => Console.WriteLine(\"Drawing circle\"));\n",
    "((Action)circle.GetProperty(\"draw\"))();"
   ]
  },
  {
   "cell_type": "markdown",
   "metadata": {},
   "source": [
    "## Nominal Typing"
   ]
  },
  {
   "cell_type": "code",
   "execution_count": null,
   "metadata": {
    "dotnet_interactive": {
     "language": "pythonkernel"
    },
    "polyglot_notebook": {
     "kernelName": "pythonkernel"
    },
    "vscode": {
     "languageId": "polyglot-notebook"
    }
   },
   "outputs": [],
   "source": [
    "from abc import ABC, abstractmethod\n",
    "\n",
    "class Shape(ABC):\n",
    "    @abstractmethod\n",
    "    def draw() -> None: ...\n",
    "\n",
    "class Circle(Shape):\n",
    "    def draw(self):\n",
    "        print(\"Draw circle\")\n",
    "\n",
    "class Rectangle(Shape):\n",
    "    def draw(self):                    # rename the method to break inheritance\n",
    "        print(\"Draw rectangle\")\n",
    "\n",
    "def draw_shapes(shapes):\n",
    "    for shape in shapes:\n",
    "        shape.draw()\n",
    "\n",
    "shapes = [ Circle(), Rectangle() ]\n",
    "draw_shapes(shapes)"
   ]
  },
  {
   "cell_type": "markdown",
   "metadata": {},
   "source": [
    "- Noun -> Adjective\n",
    "- Circle --is a-- shape\n"
   ]
  },
  {
   "cell_type": "markdown",
   "metadata": {},
   "source": [
    "## Structural Typing"
   ]
  },
  {
   "cell_type": "code",
   "execution_count": null,
   "metadata": {
    "dotnet_interactive": {
     "language": "pythonkernel"
    },
    "polyglot_notebook": {
     "kernelName": "pythonkernel"
    },
    "vscode": {
     "languageId": "polyglot-notebook"
    }
   },
   "outputs": [],
   "source": [
    "from typing import Protocol\n",
    "\n",
    "class Circle:\n",
    "    def draw(self):\n",
    "        print(\"Draw circle\")\n",
    "\n",
    "class Rectangle:\n",
    "    def draw(self):                    # rename the method to break inheritance\n",
    "        print(\"Draw rectangle\")\n",
    "\n",
    "\n",
    "\n",
    "class Shape(Protocol):\n",
    "    def draw(): ...\n",
    "def draw_shapes(shapes):\n",
    "    for shape in shapes:\n",
    "        shape.draw()\n",
    "\n",
    "shapes: list[Shape] = [ Circle(), Rectangle() ]\n",
    "draw_shapes(shapes)"
   ]
  },
  {
   "cell_type": "markdown",
   "metadata": {},
   "source": [
    "- https://www.youtube.com/watch?v=sR7ZIcIkKwk Nominal v.s. Structural sub typing in Python"
   ]
  },
  {
   "cell_type": "markdown",
   "metadata": {},
   "source": [
    "## Duck Typing"
   ]
  },
  {
   "cell_type": "code",
   "execution_count": null,
   "metadata": {
    "dotnet_interactive": {
     "language": "pythonkernel"
    },
    "polyglot_notebook": {
     "kernelName": "pythonkernel"
    },
    "vscode": {
     "languageId": "polyglot-notebook"
    }
   },
   "outputs": [],
   "source": [
    "class Circle:\n",
    "    def draw(self):\n",
    "        print(\"Draw circle\")\n",
    "\n",
    "class Rectangle:\n",
    "    def draw(self):                    # rename the method to break inheritance\n",
    "        print(\"Draw rectangle\")\n",
    "\n",
    "def draw_shapes(shapes):\n",
    "    for shape in shapes:\n",
    "        shape.draw()\n",
    "\n",
    "shapes = [ Circle(), Rectangle() ]\n",
    "draw_shapes(shapes)"
   ]
  },
  {
   "cell_type": "markdown",
   "metadata": {},
   "source": [
    "# 🎈 Javascript Typing, what?"
   ]
  },
  {
   "cell_type": "markdown",
   "metadata": {},
   "source": [
    "<img src=images/encpasulation.jpg height=700>"
   ]
  },
  {
   "cell_type": "code",
   "execution_count": null,
   "metadata": {
    "dotnet_interactive": {
     "language": "javascript"
    },
    "polyglot_notebook": {
     "kernelName": "javascript"
    },
    "vscode": {
     "languageId": "polyglot-notebook"
    }
   },
   "outputs": [],
   "source": [
    "class Shape { //its just a syntactic sugar; the underlying inheritance mechanism is still prototype-based\n",
    "    draw() {\n",
    "      throw new Error(\"Method 'draw()' must be implemented.\");\n",
    "    }\n",
    "  }\n",
    "  \n",
    "  class Circle extends Shape {\n",
    "    draw() {\n",
    "      console.log(\"Draw circle\");\n",
    "    }\n",
    "  }\n",
    "  \n",
    "  class Rectangle extends Shape {\n",
    "    draw() {\n",
    "      console.log(\"Draw rectangle\");\n",
    "    }\n",
    "  }\n",
    "  \n",
    "  function drawShapes(shapes) {\n",
    "    shapes.forEach(shape => shape.draw());\n",
    "  }\n",
    "  \n",
    "  const shapes = [new Circle(), new Rectangle()];\n",
    "  drawShapes(shapes);"
   ]
  },
  {
   "cell_type": "code",
   "execution_count": null,
   "metadata": {
    "dotnet_interactive": {
     "language": "javascript"
    },
    "polyglot_notebook": {
     "kernelName": "javascript"
    },
    "vscode": {
     "languageId": "polyglot-notebook"
    }
   },
   "outputs": [],
   "source": [
    "// typescript has notion of interface\n",
    "// interface Shape {\n",
    "//   draw() {}\n",
    "// }\n",
    "\n",
    "// in typescript we can say class Circle implements Shape\n",
    "class Circle {\n",
    "  draw() {\n",
    "    console.log(\"Draw circle\");\n",
    "  }\n",
    "}\n",
    "\n",
    "class Rectangle {\n",
    "  draw() {\n",
    "    console.log(\"Draw rectangle\");\n",
    "  }\n",
    "}\n",
    "\n",
    "function drawShapes(shapes) {\n",
    "  shapes.forEach(shape => shape.draw());\n",
    "}\n",
    "\n",
    "const shapes = [new Circle(), new Rectangle()];\n",
    "drawShapes(shapes);"
   ]
  },
  {
   "cell_type": "markdown",
   "metadata": {},
   "source": [
    "## Prototype based Inheritance"
   ]
  },
  {
   "cell_type": "markdown",
   "metadata": {},
   "source": [
    "- JavaScript uses prototypal inheritance. Objects inherit directly from other objects via prototypes, rather than from classes\n",
    "- Before ES6; we used to have __proto__ / prototype properties"
   ]
  },
  {
   "cell_type": "code",
   "execution_count": null,
   "metadata": {
    "dotnet_interactive": {
     "language": "javascript"
    },
    "polyglot_notebook": {
     "kernelName": "javascript"
    },
    "vscode": {
     "languageId": "polyglot-notebook"
    }
   },
   "outputs": [],
   "source": [
    "// Base 'class'\n",
    "function Shape(color) {\n",
    "    this.color = color;\n",
    "}\n",
    "Shape.prototype.describe = function() { // Every function (except arrow functions) automatically has a prototype property, which is itself an object\n",
    "    return `A ${this.color} shape.`;    // Adding a method to Shape's prototype\n",
    "};                                      // Each object has an internal [[Prototype]] property (often accessible as __proto__), which points to the object's prototype\n",
    "\n",
    "// Subclass Rectangle\n",
    "function Rectangle(color, width, height) {\n",
    "    Shape.call(this, color); // Call the Shape constructor with Rectangle's context\n",
    "    this.width = width;\n",
    "    this.height = height;\n",
    "}\n",
    "// When a function is used as a constructor, the prototype property becomes the prototype of all instances created by that constructor.\n",
    "// When we will create an object, JavaScript automatically will set internal [[Prototype]] (or __proto__) to the constructor's prototype object\n",
    "Rectangle.prototype = Object.create(Shape.prototype); // Setting up inheritance for Rectangle\n",
    "Rectangle.prototype.constructor = Rectangle;\n",
    "Rectangle.prototype.area = function() { // Adding a method specific to Rectangle\n",
    "    return this.width * this.height;\n",
    "};\n",
    "\n",
    "/*\n",
    " * Inheritance and Lookup:\n",
    " * When we access a property or method on an instance, JavaScript first checks if the instance has the property directly\n",
    " * If not, it looks up the prototype chain (following __proto__ links) until it finds the property or reaches null.\n",
    " * History\n",
    " * ES3 / 1999; prototype were introduced\n",
    " * ES5 / 2009; Object.create() was introduced\n",
    " */\n",
    "\n",
    "// Subclass Circle\n",
    "function Circle(color, radius) {\n",
    "    Shape.call(this, color);\n",
    "    this.radius = radius;\n",
    "}\n",
    "Circle.prototype = Object.create(Shape.prototype);\n",
    "Circle.prototype.constructor = Circle;\n",
    "Circle.prototype.area = function() {\n",
    "    return Math.PI * this.radius * this.radius;\n",
    "};\n",
    "\n",
    "// Usage\n",
    "const rectangle = new Rectangle('red', 5, 10);\n",
    "const circle = new Circle('blue', 5);\n",
    "console.log('Rectangle', rectangle.describe(), rectangle.area());\n",
    "console.log('Circle', circle.describe(), circle.area());"
   ]
  },
  {
   "cell_type": "markdown",
   "metadata": {},
   "source": [
    "# C# Typing"
   ]
  },
  {
   "cell_type": "markdown",
   "metadata": {},
   "source": [
    "## Nominal Typing"
   ]
  },
  {
   "cell_type": "code",
   "execution_count": null,
   "metadata": {
    "dotnet_interactive": {
     "language": "csharp"
    },
    "polyglot_notebook": {
     "kernelName": "csharp"
    },
    "vscode": {
     "languageId": "polyglot-notebook"
    }
   },
   "outputs": [],
   "source": [
    "abstract class Shape\n",
    "{\n",
    "    public abstract void Draw();\n",
    "}\n",
    "class Circle : Shape\n",
    "{\n",
    "    public override void Draw() =>\n",
    "        Console.WriteLine(\"Draw circle\");\n",
    "}\n",
    "class Rectangle : Shape\n",
    "{\n",
    "    public override void Draw() =>\n",
    "        Console.WriteLine(\"Draw rectangle\");\n",
    "}\n",
    "List<Shape> shapes = [ new Circle(), new Rectangle() ];\n",
    "\n",
    "//\n",
    "\n",
    "void DrawShapes(IEnumerable<Shape> shapes)\n",
    "{\n",
    "    foreach(var shape in shapes)\n",
    "        shape.Draw();\n",
    "}\n",
    "DrawShapes(shapes);"
   ]
  },
  {
   "cell_type": "markdown",
   "metadata": {},
   "source": [
    "## Duck Typing"
   ]
  },
  {
   "cell_type": "code",
   "execution_count": null,
   "metadata": {
    "dotnet_interactive": {
     "language": "csharp"
    },
    "polyglot_notebook": {
     "kernelName": "csharp"
    },
    "vscode": {
     "languageId": "polyglot-notebook"
    }
   },
   "outputs": [],
   "source": [
    "class Circle\n",
    "{\n",
    "    public void Draw() =>\n",
    "        Console.WriteLine(\"Draw circle\");\n",
    "}\n",
    "class Rectangle\n",
    "{\n",
    "    public void Draw() =>\n",
    "        Console.WriteLine(\"Draw rectangle\");\n",
    "}\n",
    "List<dynamic> shapes = [ new Circle(), new Rectangle() ];\n",
    "\n",
    "//\n",
    "\n",
    "void DrawShapes(IEnumerable<dynamic> shapes)\n",
    "{\n",
    "    foreach(var shape in shapes)\n",
    "        shape.Draw();\n",
    "}\n",
    "DrawShapes(shapes);"
   ]
  },
  {
   "cell_type": "code",
   "execution_count": null,
   "metadata": {
    "dotnet_interactive": {
     "language": "csharp"
    },
    "polyglot_notebook": {
     "kernelName": "csharp"
    },
    "vscode": {
     "languageId": "polyglot-notebook"
    }
   },
   "outputs": [],
   "source": [
    "dynamic a = new { X = 5 };\n",
    "//int y = a.Y; // if you are expecting int being value type and we should get 0; you are wrong; it will throw error\n",
    "\n",
    "//int y = (a.GetType().GetProperty(\"Y\")?.GetValue(a) as int?) ?? 0; // too much code\n",
    "\n",
    "Console.WriteLine(y);\n",
    "\n",
    "//a.Y = 10; // will not work as a underlying type is anonymous type; think of dynamic as handler / pointer of all types\n",
    "\n",
    "// so dynamic is just a fancy view and underlying things are still typed"
   ]
  },
  {
   "cell_type": "code",
   "execution_count": null,
   "metadata": {
    "dotnet_interactive": {
     "language": "csharp"
    },
    "polyglot_notebook": {
     "kernelName": "csharp"
    },
    "vscode": {
     "languageId": "polyglot-notebook"
    }
   },
   "outputs": [],
   "source": [
    "using System.Dynamic;\n",
    "\n",
    "dynamic e = new ExpandoObject(); // think if ExpandoObject as fancy dictionary; just like Python Classes\n",
    "e.X = 5;\n",
    "e.Y = 10;\n",
    "e.AddValues = (Func<int, int, int>)((a, b) => a + b);\n",
    "\n",
    "int i = e.Y;\n",
    "int j = e.AddValues(2, 3);\n",
    "Console.WriteLine((i, j));"
   ]
  },
  {
   "cell_type": "code",
   "execution_count": null,
   "metadata": {
    "dotnet_interactive": {
     "language": "csharp"
    },
    "polyglot_notebook": {
     "kernelName": "csharp"
    },
    "vscode": {
     "languageId": "polyglot-notebook"
    }
   },
   "outputs": [],
   "source": [
    "var a = new { X = 5 };\n",
    "var b = new { X = 10 };\n",
    "var c = new { X = 20 };\n",
    "//a.Y = 5; // Anonymous Type; its not duck type\n",
    "\n",
    "void addXAndPrint(IEnumerable collection)\n",
    "{\n",
    "    int x = 0;\n",
    "    foreach(dynamic o in collection)\n",
    "        x += o.X; // but it will fail if anyone of it doesnt has X\n",
    "    \n",
    "    Console.WriteLine(x);\n",
    "}\n",
    "\n",
    "addXAndPrint(new dynamic[] { a, b, c });"
   ]
  },
  {
   "cell_type": "code",
   "execution_count": null,
   "metadata": {
    "dotnet_interactive": {
     "language": "csharp"
    },
    "polyglot_notebook": {
     "kernelName": "csharp"
    },
    "vscode": {
     "languageId": "polyglot-notebook"
    }
   },
   "outputs": [],
   "source": [
    "void addXAndPrint(IEnumerable collection)\n",
    "{\n",
    "    int x = 0;\n",
    "    foreach (dynamic o in collection)\n",
    "    {\n",
    "        if (((IDictionary<string, int>)o).ContainsKey(\"X\"))\n",
    "            x += o.X;\n",
    "    }\n",
    "    \n",
    "    Console.WriteLine(x);\n",
    "}\n",
    "\n",
    "var a = new { X = 5 };\n",
    "var b = new { X = 10 };\n",
    "var c = new { Y = 20 };\n",
    "addXAndPrint(new dynamic[] { a, b, c });\n"
   ]
  },
  {
   "cell_type": "markdown",
   "metadata": {},
   "source": [
    "## Structural Typing"
   ]
  },
  {
   "cell_type": "markdown",
   "metadata": {},
   "source": [
    "- https://github.com/ekonbenefits/impromptu-interface"
   ]
  },
  {
   "cell_type": "code",
   "execution_count": null,
   "metadata": {
    "dotnet_interactive": {
     "language": "csharp"
    },
    "polyglot_notebook": {
     "kernelName": "csharp"
    },
    "vscode": {
     "languageId": "polyglot-notebook"
    }
   },
   "outputs": [],
   "source": [
    "#r \"nuget: ImpromptuInterface, 8.0.4\""
   ]
  },
  {
   "cell_type": "code",
   "execution_count": null,
   "metadata": {
    "dotnet_interactive": {
     "language": "csharp"
    },
    "polyglot_notebook": {
     "kernelName": "csharp"
    },
    "vscode": {
     "languageId": "polyglot-notebook"
    }
   },
   "outputs": [],
   "source": [
    "using ImpromptuInterface;\n",
    "using Dynamitey;\n",
    "\n",
    "class Circle\n",
    "{\n",
    "    public void Draw() => Console.WriteLine(\"Draw circle\");\n",
    "}\n",
    "class Rectangle\n",
    "{\n",
    "    public void Draw() => Console.WriteLine(\"Draw rectangle\");\n",
    "}\n",
    "List<object> shapes = [ new Circle(), new Rectangle() ];\n",
    "\n",
    "//\n",
    "\n",
    "interface IShape { void Draw(); }\n",
    "void DrawShapes(IEnumerable<IShape> shapes)\n",
    "{\n",
    "    foreach (var shape in shapes)\n",
    "        shape.Draw();\n",
    "}\n",
    "IEnumerable<IShape> getShapes(IEnumerable shapes)\n",
    "{\n",
    "    foreach(var shape in shapes)\n",
    "    {\n",
    "        IShape s = null;\n",
    "        try { s = shape.ActLike<IShape>(); }\n",
    "        catch { }\n",
    "        if (null != s) yield return s;\n",
    "    }\n",
    "}\n",
    "\n",
    "DrawShapes(getShapes(shapes));"
   ]
  },
  {
   "cell_type": "code",
   "execution_count": null,
   "metadata": {
    "dotnet_interactive": {
     "language": "csharp"
    },
    "polyglot_notebook": {
     "kernelName": "csharp"
    },
    "vscode": {
     "languageId": "polyglot-notebook"
    }
   },
   "outputs": [],
   "source": [
    "using ImpromptuInterface;\n",
    "using Dynamitey;\n",
    "\n",
    "var circle = new\n",
    "{\n",
    "    Draw = new Action(() => Console.WriteLine(\"Draw circle\"))\n",
    "};\n",
    "var rectangle = new\n",
    "{\n",
    "    Draw = new Action(() => Console.WriteLine(\"Draw rectangle\"))\n",
    "};\n",
    "List<dynamic> shapes = [ circle, rectangle ];\n",
    "\n",
    "//\n",
    "\n",
    "interface IShape { void Draw(); }\n",
    "void DrawShapes(IEnumerable<IShape> shapes)\n",
    "{\n",
    "    foreach (var shape in shapes)\n",
    "        shape.Draw();\n",
    "}\n",
    "IEnumerable<IShape> getShapes(IEnumerable shapes)\n",
    "{\n",
    "    foreach(var shape in shapes)\n",
    "    {\n",
    "        IShape s = null;\n",
    "        try { s = shape.ActLike<IShape>(); }\n",
    "        catch { }\n",
    "        if (null != s) yield return s;\n",
    "    }\n",
    "}\n",
    "\n",
    "DrawShapes(getShapes(shapes));"
   ]
  },
  {
   "cell_type": "markdown",
   "metadata": {},
   "source": [
    "# 🎈 F# Typing"
   ]
  },
  {
   "cell_type": "markdown",
   "metadata": {},
   "source": [
    "## Nominal Typing"
   ]
  },
  {
   "cell_type": "code",
   "execution_count": null,
   "metadata": {
    "dotnet_interactive": {
     "language": "fsharp"
    },
    "polyglot_notebook": {
     "kernelName": "fsharp"
    },
    "vscode": {
     "languageId": "polyglot-notebook"
    }
   },
   "outputs": [],
   "source": [
    "type IShape =\n",
    "    abstract member Draw: unit -> unit\n",
    "\n",
    "type Circle() =\n",
    "    interface IShape with\n",
    "        member _.Draw() = printfn \"Draw circle\"\n",
    "\n",
    "type Rectangle() =\n",
    "    interface IShape with\n",
    "        member _.Draw() = printfn \"Draw rectangle\"\n",
    "\n",
    "let drawShapes (shapes: IShape list) =\n",
    "    shapes |> List.iter (fun shape -> shape.Draw())\n",
    "\n",
    "let shapes: IShape list = [ Circle(); Rectangle() ]\n",
    "drawShapes shapes"
   ]
  },
  {
   "cell_type": "markdown",
   "metadata": {},
   "source": [
    "## Protocol / Structural Typing"
   ]
  },
  {
   "cell_type": "code",
   "execution_count": null,
   "metadata": {
    "dotnet_interactive": {
     "language": "fsharp"
    },
    "polyglot_notebook": {
     "kernelName": "fsharp"
    },
    "vscode": {
     "languageId": "polyglot-notebook"
    }
   },
   "outputs": [],
   "source": [
    "type Shape = { Draw: unit -> unit }\n",
    "let circle = { Draw = fun () -> printfn \"Draw circle\" }\n",
    "let rectangle = { Draw = fun () -> printfn \"Draw rectangle\" }\n",
    "\n",
    "let drawShapes (shapes: Shape list) =\n",
    "    shapes |> List.iter (fun shape -> shape.Draw())\n",
    "\n",
    "let shapes: Shape list = [ circle; rectangle ]\n",
    "drawShapes shapes"
   ]
  },
  {
   "cell_type": "markdown",
   "metadata": {},
   "source": [
    "## Structural Typing"
   ]
  },
  {
   "cell_type": "code",
   "execution_count": null,
   "metadata": {
    "dotnet_interactive": {
     "language": "fsharp"
    },
    "polyglot_notebook": {
     "kernelName": "fsharp"
    },
    "vscode": {
     "languageId": "polyglot-notebook"
    }
   },
   "outputs": [],
   "source": [
    "// Now we can use it with any type that has a 'Draw' method\n",
    "type Circle() =\n",
    "    member _.Draw() = printfn \"Draw circle\"\n",
    "\n",
    "type Rectangle() =\n",
    "    member _.Draw() = printfn \"Draw rectangle\"\n",
    "\n",
    "let circle = Circle()\n",
    "let rectangle = Rectangle()\n",
    "\n",
    "// Define a function with a structural constraint on the type 'T', requiring it to have a 'Draw' method\n",
    "let inline drawShape (shape: ^T) = \n",
    "    (^T : (member Draw : unit -> unit) shape)\n",
    "drawShape circle\n",
    "drawShape rectangle"
   ]
  },
  {
   "cell_type": "markdown",
   "metadata": {},
   "source": [
    "## Duck Typing"
   ]
  },
  {
   "cell_type": "code",
   "execution_count": null,
   "metadata": {
    "dotnet_interactive": {
     "language": "fsharp"
    },
    "polyglot_notebook": {
     "kernelName": "fsharp"
    },
    "vscode": {
     "languageId": "polyglot-notebook"
    }
   },
   "outputs": [],
   "source": [
    "let inline flyAndWalk arg =\n",
    "  let flying = ( ^a : (member Fly : unit -> string) arg)\n",
    "  let walking = ( ^a : (member Walk : unit -> string) arg)\n",
    "  (flying, walking)\n",
    "\n",
    "type Duck() =\n",
    "  member this.Swim() = \"paddling\"\n",
    "  member this.Fly() = \"flapping\"\n",
    "  member this.Walk() = \"waddling\"\n",
    " \n",
    "type Eagle() =\n",
    "  member this.Fly() = \"soaring\"\n",
    "  member this.Walk() = \"creeping\"\n",
    " \n",
    "let (eFly, eWalk) = flyAndWalk (new Eagle())\n",
    "let (dFly, dWalk) = flyAndWalk (new Duck())"
   ]
  },
  {
   "cell_type": "markdown",
   "metadata": {},
   "source": [
    "- https://weblogs.asp.net/podwysocki/f-duck-typing-and-structural-typing"
   ]
  },
  {
   "cell_type": "markdown",
   "metadata": {},
   "source": [
    "## Unit of Measure"
   ]
  },
  {
   "cell_type": "code",
   "execution_count": null,
   "metadata": {
    "dotnet_interactive": {
     "language": "fsharp"
    },
    "polyglot_notebook": {
     "kernelName": "fsharp"
    },
    "vscode": {
     "languageId": "polyglot-notebook"
    }
   },
   "outputs": [],
   "source": [
    "[<Measure>] type kg    // kilogram\n",
    "[<Measure>] type m     // meter\n",
    "[<Measure>] type s     // second\n",
    "[<Measure>] type N = kg m / s^2  // Newton (derived unit)\n",
    "\n",
    "// F = ma\n",
    "let calculateForce (mass: float<kg>) (acceleration: float<m/s^2>) : float<N> =\n",
    "    mass * acceleration\n",
    "\n",
    "// KE = 1/2 * m * v^2\n",
    "let calculateKineticEnergy (mass: float<kg>) (velocity: float<m/s>) : float<kg m^2/s^2> =\n",
    "    0.5 * mass * velocity * velocity\n",
    "\n",
    "//Example\n",
    "let mass = 10.0<kg>\n",
    "let acceleration = 9.81<m/s^2>\n",
    "let velocity = 5.0<m/s>\n",
    "\n",
    "// Calculate force\n",
    "let force = calculateForce mass acceleration\n",
    "printfn \"Force: %A N\" force\n",
    "\n",
    "// Calculate kinetic energy\n",
    "let energy = calculateKineticEnergy mass velocity\n",
    "printfn \"Kinetic Energy: %A kg⋅m²/s²\" energy\n",
    "\n",
    "// This would cause a compile-time error:\n",
    "// let invalidForce = calculateForce mass velocity  // Type mismatch: velocity is m/s, not m/s² 👈\n",
    "\n",
    "// Converting between units\n",
    "[<Measure>] type km\n",
    "[<Measure>] type h\n",
    "\n",
    "let speedKmh = 60.0<km/h>\n",
    "let speedMs = speedKmh * 1000.0<m/km> / 3600.0<s/h>\n",
    "printfn \"Speed: %A km/h = %A m/s\" speedKmh speedMs"
   ]
  },
  {
   "cell_type": "markdown",
   "metadata": {},
   "source": [
    "## Discriminated Unions"
   ]
  },
  {
   "cell_type": "code",
   "execution_count": null,
   "metadata": {
    "dotnet_interactive": {
     "language": "fsharp"
    },
    "polyglot_notebook": {
     "kernelName": "fsharp"
    },
    "vscode": {
     "languageId": "polyglot-notebook"
    }
   },
   "outputs": [],
   "source": [
    "[<Measure>] type USD\n",
    "[<Measure>] type EUR\n",
    "\n",
    "type Money = \n",
    "    | USD of float<USD>\n",
    "    | EUR of float<EUR>\n",
    "\n",
    "// Payment method types\n",
    "type CreditCard = {\n",
    "    CardNumber: string\n",
    "    ExpiryMonth: int\n",
    "    ExpiryYear: int\n",
    "    CVV: string\n",
    "    CardHolderName: string\n",
    "}\n",
    "\n",
    "type BankAccount = {\n",
    "    IBAN: string\n",
    "    BIC: string\n",
    "    AccountHolderName: string\n",
    "}\n",
    "\n",
    "type CryptoCurrency = {\n",
    "    WalletAddress: string\n",
    "    Network: string  // e.g., \"BTC\", \"ETH\"\n",
    "}\n",
    "\n",
    "type PaymentMethod =\n",
    "    | CreditCardPayment of CreditCard\n",
    "    | BankTransfer of BankAccount\n",
    "    | CryptoPayment of CryptoCurrency\n",
    "    | PayPal of email: string\n",
    "\n",
    "// Payment status tracking\n",
    "type PaymentError =\n",
    "    | InsufficientFunds\n",
    "    | CardExpired\n",
    "    | InvalidDetails\n",
    "    | NetworkError of message: string\n",
    "    | FraudSuspected\n",
    "    | PaymentDeclined of reason: string\n",
    "\n",
    "type PaymentStatus =\n",
    "    | Pending\n",
    "    | Processing\n",
    "    | Completed of timestamp: System.DateTime\n",
    "    | Failed of PaymentError\n",
    "    | Refunded of refundId: string * timestamp: System.DateTime\n",
    "\n",
    "// Main payment record\n",
    "type Payment = {\n",
    "    PaymentId: System.Guid\n",
    "    Amount: Money\n",
    "    Method: PaymentMethod\n",
    "    Status: PaymentStatus\n",
    "    CreatedAt: System.DateTime\n",
    "}\n",
    "\n",
    "// Processing functions\n",
    "let validatePaymentMethod (method: PaymentMethod) =\n",
    "    match method with\n",
    "    | CreditCardPayment card ->\n",
    "        if System.String.IsNullOrEmpty(card.CardNumber) then \n",
    "            Error \"Card number is required\"\n",
    "        elif card.ExpiryYear < System.DateTime.Now.Year || \n",
    "             (card.ExpiryYear = System.DateTime.Now.Year && \n",
    "              card.ExpiryMonth < System.DateTime.Now.Month) then\n",
    "            Error \"Card has expired\"\n",
    "        else Ok method\n",
    "    | BankTransfer account ->\n",
    "        if System.String.IsNullOrEmpty(account.IBAN) then \n",
    "            Error \"IBAN is required\"\n",
    "        elif System.String.IsNullOrEmpty(account.BIC) then \n",
    "            Error \"BIC is required\"\n",
    "        else Ok method\n",
    "    | CryptoPayment crypto ->\n",
    "        if System.String.IsNullOrEmpty(crypto.WalletAddress) then \n",
    "            Error \"Wallet address is required\"\n",
    "        else Ok method\n",
    "    | PayPal email ->\n",
    "        if System.String.IsNullOrEmpty(email) then \n",
    "            Error \"Email is required\"\n",
    "        elif not (email.Contains(\"@\")) then \n",
    "            Error \"Invalid email format\"\n",
    "        else Ok method\n",
    "\n",
    "// Process payment based on method\n",
    "let processPayment (payment: Payment) =\n",
    "    match payment.Method with\n",
    "    | CreditCardPayment card ->\n",
    "        // Simulate credit card processing\n",
    "        if card.CardNumber.StartsWith(\"4\") then  // Test case\n",
    "            { payment with Status = Completed(System.DateTime.Now) }\n",
    "        else\n",
    "            { payment with Status = Failed(PaymentDeclined \"Card declined\") }\n",
    "            \n",
    "    | BankTransfer account ->\n",
    "        // Simulate bank transfer processing\n",
    "        { payment with Status = Processing }\n",
    "        \n",
    "    | CryptoPayment crypto ->\n",
    "        // Simulate crypto payment processing\n",
    "        match crypto.Network with\n",
    "        | \"BTC\" -> { payment with Status = Pending }\n",
    "        | \"ETH\" -> { payment with Status = Processing }\n",
    "        | _ -> { payment with Status = Failed(InvalidDetails) }\n",
    "        \n",
    "    | PayPal email ->\n",
    "        // Simulate PayPal processing\n",
    "        { payment with Status = Completed(System.DateTime.Now) }\n",
    "\n",
    "// Example usage\n",
    "let createPayment amount method =\n",
    "    {\n",
    "        PaymentId = System.Guid.NewGuid()\n",
    "        Amount = amount\n",
    "        Method = method\n",
    "        Status = Pending\n",
    "        CreatedAt = System.DateTime.Now\n",
    "    }\n",
    "\n",
    "// Helper to format payment status for display\n",
    "let formatPaymentStatus status =\n",
    "    match status with\n",
    "    | Pending -> \"Payment is pending\"\n",
    "    | Processing -> \"Payment is being processed\"\n",
    "    | Completed timestamp -> sprintf \"Payment completed at %s\" (timestamp.ToString())\n",
    "    | Failed error ->\n",
    "        match error with\n",
    "        | InsufficientFunds -> \"Payment failed: Insufficient funds\"\n",
    "        | CardExpired -> \"Payment failed: Card expired\"\n",
    "        | InvalidDetails -> \"Payment failed: Invalid details provided\"\n",
    "        | NetworkError msg -> sprintf \"Payment failed: Network error - %s\" msg\n",
    "        | FraudSuspected -> \"Payment failed: Fraud suspected\"\n",
    "        | PaymentDeclined reason -> sprintf \"Payment failed: %s\" reason\n",
    "    | Refunded (refundId, timestamp) ->\n",
    "        sprintf \"Payment refunded (ID: %s) at %s\" refundId (timestamp.ToString())\n",
    "\n",
    "// Example usage\n",
    "let examplePayment = \n",
    "    createPayment \n",
    "        (USD 99.99<USD>) \n",
    "        (CreditCardPayment {\n",
    "            CardNumber = \"4111111111111111\"\n",
    "            ExpiryMonth = 12\n",
    "            ExpiryYear = 2025\n",
    "            CVV = \"123\"\n",
    "            CardHolderName = \"John Doe\"\n",
    "        })\n",
    "\n",
    "let processedPayment = processPayment examplePayment\n",
    "printfn \"Payment status: %s\" (formatPaymentStatus processedPayment.Status)"
   ]
  },
  {
   "cell_type": "markdown",
   "metadata": {},
   "source": [
    "## Type Providers"
   ]
  },
  {
   "cell_type": "markdown",
   "metadata": {},
   "source": [
    "<img src=images/may-the-force.jpg>"
   ]
  },
  {
   "cell_type": "code",
   "execution_count": null,
   "metadata": {
    "dotnet_interactive": {
     "language": "fsharp"
    },
    "polyglot_notebook": {
     "kernelName": "fsharp"
    },
    "vscode": {
     "languageId": "polyglot-notebook"
    }
   },
   "outputs": [],
   "source": [
    "#r \"nuget: FSharp.Data\"\n",
    "\n",
    "open FSharp.Data\n",
    "open System\n",
    "\n",
    "// Define type provider using sample Jira issue JSON\n",
    "type JiraIssue = JsonProvider<\"\"\"\n",
    "{\n",
    "  \"expand\": \"renderedFields,names,schema,operations,editmeta,changelog,versionedRepresentations\",\n",
    "  \"id\": \"10000\",\n",
    "  \"self\": \"https://your-domain.atlassian.net/rest/api/3/issue/10000\",\n",
    "  \"key\": \"PROJ-123\",\n",
    "  \"fields\": {\n",
    "    \"summary\": \"Implement new feature\",\n",
    "    \"status\": {\n",
    "      \"self\": \"https://your-domain.atlassian.net/rest/api/3/status/10000\",\n",
    "      \"description\": \"Issue is currently in progress\",\n",
    "      \"iconUrl\": \"https://your-domain.atlassian.net/images/icons/statuses/inprogress.png\",\n",
    "      \"name\": \"In Progress\",\n",
    "      \"id\": \"3\",\n",
    "      \"statusCategory\": {\n",
    "        \"self\": \"https://your-domain.atlassian.net/rest/api/3/statuscategory/4\",\n",
    "        \"id\": 4,\n",
    "        \"key\": \"indeterminate\",\n",
    "        \"colorName\": \"yellow\",\n",
    "        \"name\": \"In Progress\"\n",
    "      }\n",
    "    },\n",
    "    \"priority\": {\n",
    "      \"name\": \"High\",\n",
    "      \"id\": \"2\"\n",
    "    },\n",
    "    \"issuetype\": {\n",
    "      \"self\": \"https://your-domain.atlassian.net/rest/api/3/issuetype/10000\",\n",
    "      \"id\": \"10000\",\n",
    "      \"description\": \"A task that needs to be done.\",\n",
    "      \"iconUrl\": \"https://your-domain.atlassian.net/secure/viewavatar?size=medium&avatarId=10318&avatarType=issuetype\",\n",
    "      \"name\": \"Task\",\n",
    "      \"subtask\": false\n",
    "    },\n",
    "    \"created\": \"2024-01-15T12:00:00.000+0000\",\n",
    "    \"updated\": \"2024-01-20T14:30:00.000+0000\",\n",
    "    \"assignee\": {\n",
    "      \"self\": \"https://your-domain.atlassian.net/rest/api/3/user?accountId=5b10a2844c20165700ede21g\",\n",
    "      \"accountId\": \"5b10a2844c20165700ede21g\",\n",
    "      \"emailAddress\": \"fred@example.com\",\n",
    "      \"displayName\": \"Fred Smith\",\n",
    "      \"active\": true\n",
    "    },\n",
    "    \"reporter\": {\n",
    "      \"self\": \"https://your-domain.atlassian.net/rest/api/3/user?accountId=5b10a2844c20165700ede21f\",\n",
    "      \"accountId\": \"5b10a2844c20165700ede21f\",\n",
    "      \"emailAddress\": \"jane@example.com\",\n",
    "      \"displayName\": \"Jane Doe\",\n",
    "      \"active\": true\n",
    "    },\n",
    "    \"labels\": [\"backend\", \"feature\", \"high-priority\"],\n",
    "    \"components\": [\n",
    "      {\n",
    "        \"self\": \"https://your-domain.atlassian.net/rest/api/3/component/10000\",\n",
    "        \"id\": \"10000\",\n",
    "        \"name\": \"Backend\"\n",
    "      }\n",
    "    ],\n",
    "    \"timetracking\": {\n",
    "      \"originalEstimate\": \"4h\",\n",
    "      \"remainingEstimate\": \"2h\",\n",
    "      \"timeSpent\": \"2h\"\n",
    "    },\n",
    "    \"customfield_10010\": [\n",
    "      \"2024-Q1\"\n",
    "    ]\n",
    "  },\n",
    "  \"changelog\": {\n",
    "    \"startAt\": 0,\n",
    "    \"maxResults\": 1,\n",
    "    \"total\": 1,\n",
    "    \"histories\": [\n",
    "      {\n",
    "        \"id\": \"10002\",\n",
    "        \"author\": {\n",
    "          \"displayName\": \"Fred Smith\"\n",
    "        },\n",
    "        \"created\": \"2024-01-18T10:30:00.000+0000\",\n",
    "        \"items\": [\n",
    "          {\n",
    "            \"field\": \"status\",\n",
    "            \"fieldtype\": \"jira\",\n",
    "            \"from\": \"10000\",\n",
    "            \"fromString\": \"To Do\",\n",
    "            \"to\": \"10001\",\n",
    "            \"toString\": \"In Progress\"\n",
    "          }\n",
    "        ]\n",
    "      }\n",
    "    ]\n",
    "  }\n",
    "}\n",
    "\"\"\">\n",
    "\n",
    "// Define our domain types\n",
    "type IssueStatus =\n",
    "    | ToDo\n",
    "    | InProgress\n",
    "    | Done\n",
    "    | Unknown of string\n",
    "\n",
    "type Priority =\n",
    "    | High\n",
    "    | Medium\n",
    "    | Low\n",
    "    | Unknown of string\n",
    "\n",
    "type SimplifiedIssue = {\n",
    "    Key: string\n",
    "    Summary: string\n",
    "    Status: IssueStatus\n",
    "    Priority: Priority\n",
    "    AssignedTo: string option\n",
    "    Reporter: string\n",
    "    Created: DateTime\n",
    "    Updated: DateTime\n",
    "    TimeSpent: string option\n",
    "    TimeRemaining: string option\n",
    "    Labels: string list\n",
    "    Components: string list\n",
    "    Quarter: string option\n",
    "}\n",
    "\n",
    "// Helper functions to map Jira status and priority to our domain types\n",
    "let mapStatus (status: string) : IssueStatus =\n",
    "    match status.ToLower() with\n",
    "    | s when s.Contains(\"to do\") -> ToDo\n",
    "    | s when s.Contains(\"in progress\") -> InProgress\n",
    "    | s when s.Contains(\"done\") -> Done\n",
    "    | s -> IssueStatus.Unknown s\n",
    "\n",
    "let mapPriority (priority: string) : Priority =\n",
    "    match priority.ToLower() with\n",
    "    | \"high\" -> High\n",
    "    | \"medium\" -> Medium\n",
    "    | \"low\" -> Low\n",
    "    | p -> Unknown p\n",
    "\n",
    "// Function to transform Jira JSON to our domain model\n",
    "let transformJiraIssue (jsonString: string) =\n",
    "    let issue = JiraIssue.Parse(jsonString)\n",
    "    {\n",
    "        Key = issue.Key\n",
    "        Summary = issue.Fields.Summary\n",
    "        Status = mapStatus issue.Fields.Status.Name\n",
    "        Priority = mapPriority issue.Fields.Priority.Name\n",
    "        // AssignedTo = \n",
    "        //     match issue.Fields.Assignee with\n",
    "        //     | Some assignee -> Some assignee.DisplayName\n",
    "        //     | _ -> None\n",
    "        //AssignedTo = Option.map (fun (a: JiraIssue.Assignee) -> a.DisplayName) issue.Fields.Assignee\n",
    "        //AssignedTo = issue.Fields.Assignee |> Option.ofObj |> Option.map (fun (a: JiraIssue.Assignee) -> a.DisplayName)\n",
    "        AssignedTo =\n",
    "          if issue.Fields.Assignee.DisplayName <> \"\" then \n",
    "            Some issue.Fields.Assignee.DisplayName \n",
    "          else\n",
    "            None\n",
    "        Reporter = issue.Fields.Reporter.DisplayName\n",
    "        Created = issue.Fields.Created.UtcDateTime\n",
    "        Updated = issue.Fields.Updated.UtcDateTime\n",
    "        TimeSpent = Option.map (fun (t: JiraIssue.Timetracking) -> t.TimeSpent) Some(issue.Fields.Timetracking)\n",
    "        TimeRemaining = Option.map (fun (t: JiraIssue.Timetracking) -> t.RemainingEstimate) Some(issue.Fields.Timetracking)\n",
    "        Labels = issue.Fields.Labels |> Array.toList\n",
    "        Components = issue.Fields.Components |> Array.map (fun c -> c.Name) |> Array.toList\n",
    "        Quarter = \n",
    "            match issue.Fields.Customfield10010 with\n",
    "            | Some arr when arr.Length > 0 -> Some arr.[0]\n",
    "            | _ -> None\n",
    "    }\n",
    "\n",
    "// Analysis functions\n",
    "let analyzeIssues (issues: SimplifiedIssue list) =\n",
    "    let totalIssues = issues.Length\n",
    "    let issuesByStatus =\n",
    "        issues\n",
    "        |> List.groupBy (fun i -> i.Status)\n",
    "        |> List.map (fun (status, issues) -> status, issues.Length)\n",
    "        \n",
    "    let issuesByAssignee =\n",
    "        issues\n",
    "        |> List.groupBy (fun i -> i.AssignedTo)\n",
    "        |> List.map (fun (assignee, issues) -> assignee, issues.Length)\n",
    "        \n",
    "    let issuesByQuarter =\n",
    "        issues\n",
    "        |> List.groupBy (fun i -> i.Quarter)\n",
    "        |> List.map (fun (quarter, issues) -> quarter, issues.Length)\n",
    "        \n",
    "    let averageTimeInProgress =\n",
    "        issues\n",
    "        |> List.filter (fun i -> i.Status = InProgress)\n",
    "        |> List.averageBy (fun i -> (DateTime.Now - i.Created).TotalDays)\n",
    "        \n",
    "    {|\n",
    "        TotalIssues = totalIssues\n",
    "        IssuesByStatus = issuesByStatus\n",
    "        IssuesByAssignee = issuesByAssignee\n",
    "        IssuesByQuarter = issuesByQuarter\n",
    "        AverageTimeInProgress = averageTimeInProgress\n",
    "    |}\n",
    "\n",
    "// Report generation functions\n",
    "let generateSummaryReport (analysis: {| TotalIssues: int\n",
    "                                      IssuesByStatus: (IssueStatus * int) list\n",
    "                                      IssuesByAssignee: (string option * int) list\n",
    "                                      IssuesByQuarter: (string option * int) list\n",
    "                                      AverageTimeInProgress: float |}) =\n",
    "    sprintf \"\"\"\n",
    "JIRA Issues Summary Report\n",
    "-------------------------\n",
    "Total Issues: %d\n",
    "\n",
    "Status Breakdown:\n",
    "%s\n",
    "\n",
    "Assignee Breakdown:\n",
    "%s\n",
    "\n",
    "Quarterly Breakdown:\n",
    "%s\n",
    "\n",
    "Average Time in Progress: %.1f days\n",
    "\"\"\"\n",
    "        analysis.TotalIssues\n",
    "        (analysis.IssuesByStatus \n",
    "         |> List.map (fun (status, count) -> sprintf \"- %A: %d\" status count)\n",
    "         |> String.concat \"\\n\")\n",
    "        (analysis.IssuesByAssignee \n",
    "         |> List.map (fun (assignee, count) -> \n",
    "             sprintf \"- %s: %d\" (Option.defaultValue \"Unassigned\" assignee) count)\n",
    "         |> String.concat \"\\n\")\n",
    "        (analysis.IssuesByQuarter\n",
    "         |> List.map (fun (quarter, count) -> \n",
    "             sprintf \"- %s: %d\" (Option.defaultValue \"Unspecified\" quarter) count)\n",
    "         |> String.concat \"\\n\")\n",
    "        analysis.AverageTimeInProgress\n",
    "\n",
    "// Example usage\n",
    "let exampleJiraIssues = [\n",
    "    \"\"\"\n",
    "    {\n",
    "      \"key\": \"PROJ-124\",\n",
    "      \"fields\": {\n",
    "        \"summary\": \"Fix critical bug\",\n",
    "        \"status\": {\n",
    "          \"name\": \"In Progress\"\n",
    "        },\n",
    "        \"priority\": {\n",
    "          \"name\": \"High\"\n",
    "        },\n",
    "        \"created\": \"2024-01-16T09:00:00.000+0000\",\n",
    "        \"updated\": \"2024-01-20T15:30:00.000+0000\",\n",
    "        \"assignee\": {\n",
    "          \"displayName\": \"John Smith\"\n",
    "        },\n",
    "        \"reporter\": {\n",
    "          \"displayName\": \"Jane Doe\"\n",
    "        },\n",
    "        \"labels\": [\"bug\", \"critical\"],\n",
    "        \"components\": [\n",
    "          {\n",
    "            \"name\": \"Frontend\"\n",
    "          }\n",
    "        ],\n",
    "        \"timetracking\": {\n",
    "          \"timeSpent\": \"4h\",\n",
    "          \"remainingEstimate\": \"2h\"\n",
    "        },\n",
    "        \"customfield_10010\": [\n",
    "          \"2024-Q1\"\n",
    "        ]\n",
    "      }\n",
    "    }\n",
    "    \"\"\"\n",
    "]\n",
    "\n",
    "// Process and analyze issues\n",
    "let processedIssues = \n",
    "    exampleJiraIssues \n",
    "    |> List.map transformJiraIssue\n",
    "\n",
    "let analysis = analyzeIssues processedIssues\n",
    "printfn \"%s\" (generateSummaryReport analysis)\n",
    "\n",
    "// Additional utility functions for specific analyses\n",
    "let findBlockedIssues (issues: SimplifiedIssue list) =\n",
    "    issues\n",
    "    |> List.filter (fun i -> \n",
    "        i.Labels |> List.exists (fun l -> l.ToLower().Contains(\"blocked\")))\n",
    "\n",
    "let findHighPriorityUnassigned (issues: SimplifiedIssue list) =\n",
    "    issues\n",
    "    |> List.filter (fun i -> \n",
    "        i.Priority = High && i.AssignedTo.IsNone)\n",
    "\n",
    "let calculateTeamVelocity (issues: SimplifiedIssue list) (timeframe: DateTime * DateTime) =\n",
    "    let start, end' = timeframe\n",
    "    issues\n",
    "    |> List.filter (fun i -> \n",
    "        i.Status = Done && \n",
    "        i.Updated >= start && \n",
    "        i.Updated <= end')\n",
    "    |> List.length\n",
    "\n",
    "// Example of generating a burndown chart data\n",
    "let generateBurndownData (issues: SimplifiedIssue list) (sprint: DateTime * DateTime) =\n",
    "    let start, end' = sprint\n",
    "    let totalDays = int (end' - start).TotalDays\n",
    "    \n",
    "    [0..totalDays]\n",
    "    |> List.map (fun day ->\n",
    "        let date = start.AddDays(float day)\n",
    "        let remainingIssues =\n",
    "            issues\n",
    "            |> List.filter (fun i -> \n",
    "                i.Status <> Done || \n",
    "                i.Updated > date)\n",
    "            |> List.length\n",
    "        date, remainingIssues)"
   ]
  },
  {
   "cell_type": "markdown",
   "metadata": {},
   "source": [
    "# Resources"
   ]
  },
  {
   "cell_type": "markdown",
   "metadata": {},
   "source": [
    "- https://en.wikipedia.org/wiki/Type_system\n",
    "    - https://en.wikipedia.org/wiki/Strong_and_weak_typing\n",
    "    - https://en.wikipedia.org/wiki/Type_theory\n",
    "- Types\n",
    "    - https://en.wikipedia.org/wiki/Nominal_type_system\n",
    "    - https://en.wikipedia.org/wiki/Structural_type_system\n",
    "    - https://en.wikipedia.org/wiki/Duck_typing"
   ]
  },
  {
   "cell_type": "markdown",
   "metadata": {},
   "source": [
    "## Exceptions are bad?"
   ]
  },
  {
   "cell_type": "markdown",
   "metadata": {},
   "source": [
    "<img src=images/exceptions.jpg height=500>"
   ]
  }
 ],
 "metadata": {
  "kernelspec": {
   "display_name": ".NET (C#)",
   "language": "C#",
   "name": ".net-csharp"
  },
  "language_info": {
   "codemirror_mode": {
    "name": "ipython",
    "version": 3
   },
   "file_extension": ".py",
   "mimetype": "text/x-python",
   "name": "python",
   "nbconvert_exporter": "python",
   "pygments_lexer": "ipython3",
   "version": "3.12.2"
  },
  "polyglot_notebook": {
   "kernelInfo": {
    "defaultKernelName": "csharp",
    "items": [
     {
      "aliases": [],
      "name": "csharp"
     },
     {
      "aliases": [],
      "languageName": "python",
      "name": "pythonkernel"
     }
    ]
   }
  }
 },
 "nbformat": 4,
 "nbformat_minor": 2
}
